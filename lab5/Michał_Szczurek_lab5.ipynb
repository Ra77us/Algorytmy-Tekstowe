{
 "cells": [
  {
   "cell_type": "markdown",
   "metadata": {},
   "source": [
    "# Michał Szczurek - lab 5"
   ]
  },
  {
   "cell_type": "code",
   "execution_count": 1,
   "metadata": {},
   "outputs": [],
   "source": [
    "import math\n",
    "from collections import Counter\n",
    "import numpy as np\n",
    "from sklearn.cluster import DBSCAN\n",
    "from functools import lru_cache\n",
    "from enum import Enum\n",
    "import copy"
   ]
  },
  {
   "cell_type": "markdown",
   "metadata": {},
   "source": [
    "# 1. Implementacja metryk"
   ]
  },
  {
   "cell_type": "markdown",
   "metadata": {},
   "source": [
    "### 1.1 Funkcje pomocnicze związane z n-gramami"
   ]
  },
  {
   "cell_type": "code",
   "execution_count": 2,
   "metadata": {},
   "outputs": [],
   "source": [
    "def make_ngram_vec(x, N=2):\n",
    "    vec = {}\n",
    "    for i in range(len(x)-N+1):\n",
    "        if x[i:i+N] in vec:\n",
    "            vec[x[i:i+N]] += 1\n",
    "        else:\n",
    "            vec[x[i:i+N]] = 1\n",
    "    return vec"
   ]
  },
  {
   "cell_type": "code",
   "execution_count": 3,
   "metadata": {},
   "outputs": [],
   "source": [
    "def vec_len(vec):\n",
    "    res = 0\n",
    "    for key, value in vec.items():\n",
    "        res += value**2\n",
    "    return math.sqrt(res)"
   ]
  },
  {
   "cell_type": "code",
   "execution_count": 4,
   "metadata": {},
   "outputs": [],
   "source": [
    "def make_ngram_set(x, N=2):\n",
    "    res = set()\n",
    "    for i in range(len(x)-N+1):\n",
    "        res.add(x[i:i+N])\n",
    "    return res"
   ]
  },
  {
   "cell_type": "markdown",
   "metadata": {},
   "source": [
    "### 1.2 metryka LCS"
   ]
  },
  {
   "cell_type": "code",
   "execution_count": 5,
   "metadata": {},
   "outputs": [],
   "source": [
    "@lru_cache(maxsize=None)\n",
    "def LCS_m(x, y):\n",
    "    tab = [[None for j in range(len(y)+1)] for i in range(len(x)+1)]\n",
    "    max_lcs = 0\n",
    "    for i in range(len(x)+1):\n",
    "        for j in range(len(y)+1):\n",
    "            if i == 0 or j == 0:\n",
    "                tab[i][j] = 0\n",
    "            else:\n",
    "                if x[i-1] == y[j-1]:\n",
    "                    tab[i][j] = 1 + tab[i-1][j-1]\n",
    "                else:\n",
    "                    tab[i][j] = 0\n",
    "            if tab[i][j] > max_lcs:\n",
    "                max_lcs = tab[i][j]\n",
    "    return 1 - max_lcs/max(len(x), len(y))"
   ]
  },
  {
   "cell_type": "code",
   "execution_count": 6,
   "metadata": {},
   "outputs": [
    {
     "data": {
      "text/plain": [
       "0.625"
      ]
     },
     "execution_count": 6,
     "metadata": {},
     "output_type": "execute_result"
    }
   ],
   "source": [
    "LCS_m(\"katzaaba\", \"bbktzazb\")"
   ]
  },
  {
   "cell_type": "markdown",
   "metadata": {},
   "source": [
    "### 1.3 metryka Euklidesowa"
   ]
  },
  {
   "cell_type": "code",
   "execution_count": 7,
   "metadata": {},
   "outputs": [],
   "source": [
    "@lru_cache(maxsize=None)\n",
    "def eucledian_m(x, y, N=2):\n",
    "    x_vec = make_ngram_vec(x, N)\n",
    "    y_vec = make_ngram_vec(y, N)\n",
    "        \n",
    "    res = 0 \n",
    "    \n",
    "    for k in x_vec:\n",
    "        if k in y_vec:\n",
    "            res += (x_vec[k]- y_vec[k])**2\n",
    "        else:\n",
    "            res += (x_vec[k])**2 \n",
    "            \n",
    "    for k in y_vec: \n",
    "        if k not in x_vec:\n",
    "            res += y_vec[k]**2\n",
    "            \n",
    "    return math.sqrt(res)"
   ]
  },
  {
   "cell_type": "code",
   "execution_count": 8,
   "metadata": {},
   "outputs": [
    {
     "data": {
      "text/plain": [
       "3.1622776601683795"
      ]
     },
     "execution_count": 8,
     "metadata": {},
     "output_type": "execute_result"
    }
   ],
   "source": [
    "eucledian_m(\"katzaaba\", \"bbktzazb\")"
   ]
  },
  {
   "cell_type": "markdown",
   "metadata": {},
   "source": [
    "### 1.4 metryka Levenshteina"
   ]
  },
  {
   "cell_type": "code",
   "execution_count": 32,
   "metadata": {},
   "outputs": [],
   "source": [
    "@lru_cache(maxsize=None)\n",
    "def levenshtein_m(x, y):\n",
    "    \n",
    "    def delta(a, b):\n",
    "        if a == b:\n",
    "            return 0\n",
    "        else:\n",
    "            return 1\n",
    "    \n",
    "    edit_table = np.empty((len(x)+1, len(y)+1))\n",
    "    for i in range(len(x)+1):\n",
    "        edit_table[i, 0] = i\n",
    "    for j in range(len(y)+1):\n",
    "        edit_table[0, j] = j\n",
    "        \n",
    "    for i in range(len(x)):\n",
    "        k = i + 1\n",
    "        for j in range(len(y)):\n",
    "            l = j + 1\n",
    "            edit_table[k,l] = min(edit_table[k-1,l]+1, \n",
    "                                  edit_table[k,l-1]+1, \n",
    "                                  edit_table[k-1, l-1] + delta(x[i], y[j]))\n",
    "    if len(x) == len(y) == 0:\n",
    "        return 0\n",
    "    return edit_table[len(x), len(y)] / max(len(x), len(y))"
   ]
  },
  {
   "cell_type": "code",
   "execution_count": 33,
   "metadata": {},
   "outputs": [
    {
     "data": {
      "text/plain": [
       "0.625"
      ]
     },
     "execution_count": 33,
     "metadata": {},
     "output_type": "execute_result"
    }
   ],
   "source": [
    "levenshtein_m(\"katzaaba\", \"bbktzazb\")"
   ]
  },
  {
   "cell_type": "markdown",
   "metadata": {},
   "source": [
    "### 1.5 Metryka cosinusowa"
   ]
  },
  {
   "cell_type": "code",
   "execution_count": 11,
   "metadata": {},
   "outputs": [],
   "source": [
    "@lru_cache(maxsize=None)\n",
    "def cosine_m(x, y, N=2):\n",
    "    x_vec = make_ngram_vec(x, N)\n",
    "    y_vec = make_ngram_vec(y, N)\n",
    "\n",
    "    dot_product = 0\n",
    "    for key, value in x_vec.items():\n",
    "        if key in y_vec:\n",
    "            dot_product += value * y_vec[key]\n",
    "    if (vec_len(x_vec) * vec_len(y_vec)) == 0: \n",
    "        return 1\n",
    "    return 1 -  dot_product/(vec_len(x_vec) * (vec_len(y_vec)))"
   ]
  },
  {
   "cell_type": "code",
   "execution_count": 12,
   "metadata": {},
   "outputs": [
    {
     "data": {
      "text/plain": [
       "0.7142857142857143"
      ]
     },
     "execution_count": 12,
     "metadata": {},
     "output_type": "execute_result"
    }
   ],
   "source": [
    "cosine_m(\"katzaaba\", \"bbktzazb\")"
   ]
  },
  {
   "cell_type": "markdown",
   "metadata": {},
   "source": [
    "### 1.6 Współczynnik DICE"
   ]
  },
  {
   "cell_type": "code",
   "execution_count": 13,
   "metadata": {},
   "outputs": [],
   "source": [
    "@lru_cache(maxsize=None)\n",
    "def DICE_coef(x, y, N=2):\n",
    "    x_set = make_ngram_set(x, N)\n",
    "    y_set = make_ngram_set(y, N)\n",
    "    if (len(x_set) + len(y_set)) == 0:\n",
    "        return 0\n",
    "    numerator = len(x_set.intersection(y_set))\n",
    "    return 1 - (2 * numerator / (len(x_set) + len(y_set)))     "
   ]
  },
  {
   "cell_type": "code",
   "execution_count": 14,
   "metadata": {},
   "outputs": [
    {
     "data": {
      "text/plain": [
       "0.7142857142857143"
      ]
     },
     "execution_count": 14,
     "metadata": {},
     "output_type": "execute_result"
    }
   ],
   "source": [
    "DICE_coef(\"katzaaba\", \"bbktzazb\")"
   ]
  },
  {
   "cell_type": "markdown",
   "metadata": {},
   "source": [
    "# 2 Ocena jakości klasteryzacji"
   ]
  },
  {
   "cell_type": "markdown",
   "metadata": {},
   "source": [
    "### 2.1 Funkcje pomocnicze"
   ]
  },
  {
   "cell_type": "code",
   "execution_count": 15,
   "metadata": {},
   "outputs": [],
   "source": [
    "def find_centroid(cluster, metric, *args):\n",
    "    dists = [0 for i in cluster]\n",
    "    for i in range(len(cluster)):\n",
    "        for j in range(i):\n",
    "            dist = metric(cluster[i], cluster[j], *args)\n",
    "            dists[i] += dist\n",
    "            dists[j] += dist      \n",
    "    min_dist = 10**100 # inf\n",
    "    res = -1\n",
    "    for i in range(len(dists)):\n",
    "        if dists[i] < min_dist:\n",
    "            min_dist = dists[i]\n",
    "            res = i\n",
    "    return cluster[res]      "
   ]
  },
  {
   "cell_type": "code",
   "execution_count": 16,
   "metadata": {},
   "outputs": [],
   "source": [
    "def avg_dist(cluster, metric, *args):\n",
    "    if len(cluster) < 2:\n",
    "        return 0\n",
    "    if len(cluster) == 2:\n",
    "        return metric(cluster[0], cluster[1], *args)\n",
    "    \n",
    "    dist_sum = 0\n",
    "    for i in range(len(cluster)):\n",
    "        for j in range(i):\n",
    "            dist_sum += metric(cluster[i], cluster[j], *args)\n",
    "    return dist_sum / ((len(cluster)-2) * (len(cluster)-1))"
   ]
  },
  {
   "cell_type": "code",
   "execution_count": 17,
   "metadata": {},
   "outputs": [],
   "source": [
    "def cluster_diameter(cluster, metric, *args):\n",
    "    max_dist = -1\n",
    "    for i in range(len(cluster)):\n",
    "        for j in range(i):\n",
    "            max_dist = max(metric(cluster[i], cluster[j], *args), max_dist)\n",
    "    return max_dist  "
   ]
  },
  {
   "cell_type": "markdown",
   "metadata": {},
   "source": [
    "### 2.1 Indeks Daviesa-Bouldina"
   ]
  },
  {
   "cell_type": "code",
   "execution_count": 18,
   "metadata": {},
   "outputs": [],
   "source": [
    "def DB_index(clusters, metric, *args):\n",
    "    centroids = [find_centroid(c, metric, *args) for c in clusters]\n",
    "    avg_dists = [avg_dist(c, metric, *args) for c in clusters]\n",
    "    n = len(clusters)\n",
    "    tab = [max([(avg_dists[i] + avg_dists[j]) / metric(centroids[i], centroids[j], *args) \\\n",
    "                for i in range(n) if i != j]) for j in range(n)]\n",
    "    return sum(tab) / n"
   ]
  },
  {
   "cell_type": "markdown",
   "metadata": {},
   "source": [
    "### 2.2 Indeks Dunna"
   ]
  },
  {
   "cell_type": "code",
   "execution_count": 19,
   "metadata": {},
   "outputs": [],
   "source": [
    "def dunn_index(clusters, metric, *args):\n",
    "    centroids = [find_centroid(c, metric, *args) for c in clusters]\n",
    "    diameters = [cluster_diameter(c, metric, *args) for c in clusters]\n",
    "    \n",
    "    min_dist = 10**100 \n",
    "    for i in range(len(centroids)):\n",
    "        for j in range(i):\n",
    "            min_dist = min(metric(centroids[i], centroids[j], *args), min_dist)\n",
    "    max_size = max(diameters)\n",
    "    return min_dist / max_size"
   ]
  },
  {
   "cell_type": "markdown",
   "metadata": {},
   "source": [
    "# 3. Stoplista"
   ]
  },
  {
   "cell_type": "code",
   "execution_count": 20,
   "metadata": {},
   "outputs": [],
   "source": [
    "class StopList:\n",
    "    \n",
    "    def __init__(self, text, frequency):\n",
    "        words = []\n",
    "        for line in text:\n",
    "            words += (line.split())\n",
    "        counter = Counter(words)\n",
    "        words_sum = len(words)\n",
    "        self.common = {key for key, value in counter.items() if value >= frequency * words_sum}\n",
    "        \n",
    "    def remove_common(self, text):\n",
    "        res = []\n",
    "        for line in text:\n",
    "            res.append(' '.join([w for w in line.split() if w not in self.common]))\n",
    "        return res"
   ]
  },
  {
   "cell_type": "code",
   "execution_count": 21,
   "metadata": {},
   "outputs": [],
   "source": [
    "stop_list = StopList([\"ala ma kota\", \"ala miała kot\", \"kot franek\"], 0.2)"
   ]
  },
  {
   "cell_type": "code",
   "execution_count": 22,
   "metadata": {},
   "outputs": [
    {
     "data": {
      "text/plain": [
       "['ma kota', 'miała', 'franek']"
      ]
     },
     "execution_count": 22,
     "metadata": {},
     "output_type": "execute_result"
    }
   ],
   "source": [
    "stop_list.remove_common([\"ala ma kota\", \"ala miała kot\", \"kot franek\"])"
   ]
  },
  {
   "cell_type": "markdown",
   "metadata": {},
   "source": [
    "# 4. Klasteryzacja"
   ]
  },
  {
   "cell_type": "markdown",
   "metadata": {},
   "source": [
    "### 4.1 Funkcje pomocnicze"
   ]
  },
  {
   "cell_type": "code",
   "execution_count": 23,
   "metadata": {},
   "outputs": [],
   "source": [
    "def read_text(file, n):\n",
    "    with open(file, 'r', encoding='utf-8') as f:\n",
    "        text = f.read().splitlines()\n",
    "    return text[:n]"
   ]
  },
  {
   "cell_type": "code",
   "execution_count": 24,
   "metadata": {},
   "outputs": [],
   "source": [
    "def save_clusters(file, clusters):\n",
    "    with open(file, 'w', encoding='utf-8') as f:\n",
    "        for c in clusters:\n",
    "            for line in c:\n",
    "                f.write(line+'\\n')\n",
    "            f.write('============\\n\\n')"
   ]
  },
  {
   "cell_type": "markdown",
   "metadata": {},
   "source": [
    "Poniższa funkcja wypisuje n klastrów zawierających więcej niż 1 element."
   ]
  },
  {
   "cell_type": "code",
   "execution_count": 25,
   "metadata": {},
   "outputs": [],
   "source": [
    "def print_clusters(clusters, n=10):\n",
    "    i = j =0\n",
    "    while j < n and i < len(clusters):\n",
    "        c = clusters[i]\n",
    "        if len(c) != 1:    \n",
    "            for line in c:\n",
    "                print(line)\n",
    "            print('============\\n')\n",
    "            j += 1\n",
    "        i += 1"
   ]
  },
  {
   "cell_type": "code",
   "execution_count": 26,
   "metadata": {},
   "outputs": [],
   "source": [
    "def perform_clustering(text, metric_f, eps, stop_list_frequency=None, *args):\n",
    "    working_text = text\n",
    "    if stop_list_frequency is not None:\n",
    "        stop_list = StopList(text, stop_list_frequency)\n",
    "        working_text = stop_list.remove_common(text)\n",
    "        \n",
    "    def metric(x, y):\n",
    "        i, j = int(x[0]), int(y[0])\n",
    "        return metric_f(working_text[i], working_text[j], *args)\n",
    "    \n",
    "    X = np.arange(len(working_text)).reshape(-1, 1)\n",
    "    clustering = DBSCAN(metric=metric, min_samples=1, eps=eps).fit_predict(X)\n",
    "    #print(clustering)\n",
    "    clusters = [[] for i in range(max(clustering) + 1)]\n",
    "    for i in range(len(clustering)):\n",
    "        clusters[clustering[i]].append(text[i])\n",
    "    return clusters"
   ]
  },
  {
   "cell_type": "markdown",
   "metadata": {},
   "source": [
    "# 5. Test klasteryzacji"
   ]
  },
  {
   "cell_type": "markdown",
   "metadata": {},
   "source": [
    "### 5.1 Funkcje pomocn icze"
   ]
  },
  {
   "cell_type": "code",
   "execution_count": 130,
   "metadata": {},
   "outputs": [],
   "source": [
    "def perform_tests(to_test, stop_list, res_v, eps_v):\n",
    "    if stop_list:\n",
    "        frequency = 0.01\n",
    "    else:\n",
    "        frequency = None\n",
    "    for i in range(len(to_test)):\n",
    "        clusters = perform_clustering(text, to_test[i], eps_v[i], frequency)\n",
    "        print(\"Funkcja: \",to_test[i].__name__)\n",
    "        print(\"Epsilon: \",eps_v[i])\n",
    "        print(\"Indeks Daviesa-Bouldina: \", DB_index(clusters, to_test[i]))\n",
    "        print(\"Indeks Dunna: \", dunn_index(clusters, to_test[i]))\n",
    "        print(\"========\\n\")\n",
    "        if stop_list:\n",
    "            save_clusters(to_test[i].__name__ + \"_stop.txt\", clusters)\n",
    "        else:\n",
    "            save_clusters(to_test[i].__name__ + \"_no_stop.txt\", clusters)\n",
    "        res_v.append(clusters)"
   ]
  },
  {
   "cell_type": "code",
   "execution_count": 131,
   "metadata": {},
   "outputs": [],
   "source": [
    "def print_all(res_v, to_test):\n",
    "    for i in range(len(res_v)//2):\n",
    "        print(\"Klasteryzacja przy pomocy \" + to_test[i].__name__ + \" bez stoplisty:\\n\\n\")\n",
    "        print_clusters(res_v[i])\n",
    "        print(\"**********************************************************************\\n\\n\\n\")\n",
    "    for i in range(len(res_v)//2 ,len(res_v)):\n",
    "        print(\"Klasteryzacja przy pomocy \" + to_test[i - len(res_v)//2].__name__ + \" ze stoplistą:\\n\\n\")\n",
    "        print_clusters(res_v[i])\n",
    "        print(\"**********************************************************************\\n\\n\\n\")"
   ]
  },
  {
   "cell_type": "markdown",
   "metadata": {},
   "source": [
    "### 5.2 Testy"
   ]
  },
  {
   "cell_type": "markdown",
   "metadata": {},
   "source": [
    "Testy wykonano dla pierwszych 300 linii teskstu."
   ]
  },
  {
   "cell_type": "code",
   "execution_count": 132,
   "metadata": {
    "scrolled": false
   },
   "outputs": [],
   "source": [
    "text = read_text(\"lines.txt\", 300)"
   ]
  },
  {
   "cell_type": "code",
   "execution_count": 141,
   "metadata": {
    "scrolled": false
   },
   "outputs": [
    {
     "name": "stdout",
     "output_type": "stream",
     "text": [
      "Test bez stoplisty\n",
      "\n",
      "\n",
      "Funkcja:  cosine_m\n",
      "Epsilon:  0.3\n",
      "Indeks Daviesa-Bouldina:  0.47336466196968524\n",
      "Indeks Dunna:  0.5557070610373043\n",
      "========\n",
      "\n",
      "Funkcja:  DICE_coef\n",
      "Epsilon:  0.3\n",
      "Indeks Daviesa-Bouldina:  0.47043960799801005\n",
      "Indeks Dunna:  0.6840219727728685\n",
      "========\n",
      "\n",
      "Funkcja:  LCS_m\n",
      "Epsilon:  0.7\n",
      "Indeks Daviesa-Bouldina:  1.2476753251118504\n",
      "Indeks Dunna:  0.8203918722786648\n",
      "========\n",
      "\n",
      "Funkcja:  levenshtein_m\n",
      "Epsilon:  0.45\n",
      "Indeks Daviesa-Bouldina:  0.9338007462411682\n",
      "Indeks Dunna:  0.6823529411764705\n",
      "========\n",
      "\n",
      "\n",
      "Test ze stoplistą usuwającą wyrazy częstsze niż 0.01 * liczba wyrazów\n",
      "\n",
      "\n",
      "Funkcja:  cosine_m\n",
      "Epsilon:  0.3\n",
      "Indeks Daviesa-Bouldina:  0.4649200757617744\n",
      "Indeks Dunna:  0.5331330270508716\n",
      "========\n",
      "\n",
      "Funkcja:  DICE_coef\n",
      "Epsilon:  0.3\n",
      "Indeks Daviesa-Bouldina:  0.4769826361889164\n",
      "Indeks Dunna:  0.7552742616033755\n",
      "========\n",
      "\n",
      "Funkcja:  LCS_m\n",
      "Epsilon:  0.7\n",
      "Indeks Daviesa-Bouldina:  1.3588212804243278\n",
      "Indeks Dunna:  0.7894034686487518\n",
      "========\n",
      "\n",
      "Funkcja:  levenshtein_m\n",
      "Epsilon:  0.45\n",
      "Indeks Daviesa-Bouldina:  0.9338007462411682\n",
      "Indeks Dunna:  0.6823529411764705\n",
      "========\n",
      "\n"
     ]
    }
   ],
   "source": [
    "to_test = [cosine_m, DICE_coef, LCS_m, levenshtein_m]\n",
    "res_v = []\n",
    "eps_v = [0.3, 0.3, 0.7, 0.45]\n",
    "res_vec_stop = []\n",
    "print(\"Test bez stoplisty\\n\\n\")\n",
    "perform_tests(to_test, False, res_v, eps_v)  \n",
    "print(\"\\nTest ze stoplistą usuwającą wyrazy częstsze niż 0.01 * liczba wyrazów\\n\\n\")\n",
    "perform_tests(to_test, True, res_v, eps_v)"
   ]
  },
  {
   "cell_type": "markdown",
   "metadata": {},
   "source": [
    "Wartości epsilon dobrałem tak, by stworzone klastry w jak największym stopniu odopowiadały tym w pliku dołączonym do zadania oraz by zgadzały się z moją oceną (uzasadnionom np nazwami firm). Wymagało to, większego epsilonu dla metryki LCS i Levenshtein'a, co spowodowało Indeks Daviesa-Bouldina  i Dunna był największy dla LCS. Pierwsze zjawisko jest negatywne, drugie zaś pozytywne. Użycie stop listy nie spowodowało drastycznych zmian w podziale na klastry. Zmieniło jednak wartości indeksów:\n",
    "* Zmniejszyło oba indeksy dla meteryki cosinusowej (zmiana na pozytywno-negatywna)  \n",
    "* Zwiększyło indeks Dunna dla współczynnika DICE (zmiana na +)   \n",
    "* Zmniejszyło indeks Dunna i zwiększyło ineks Daviesa-Bouldina dla metyki LCS (zmiany na -)  \n",
    "* praktycznie nie zmieniło indeksów dla metryki Levenshteina\n",
    "\n",
    "Ranking klasteryzacji wg idneksu Daviesa-Bouldina:\n",
    "\n",
    "1. Metryka cosinusowa (ze stoplistą)  \n",
    "2. Współczynnik DICE (bez stoplisty)  \n",
    "3. Metryka cosinusowa (bez stoplisty)  \n",
    "4. Współczynnik DICE (ze stoplistą)\n",
    "5. Metryka Levenshteina (z i bez stoplisty)  \n",
    "7. Metryka LCS (bez stoplisty)    \n",
    "8. Metryka LCS (ze stoplistą)   \n",
    "\n",
    "Ranking klasteryzacji wg idneksu Dunna:\n",
    "\n",
    "1. Metryka LCS (bez stoplisty) \n",
    "2. Metryka LCS (ze stoplistą)  \n",
    "3. Współczynnik DICE (ze stoplistą)  \n",
    "4. Współczynnik DICE (bez stoplisty) \n",
    "5. Metryka Levenshteina (z i bez stoplisty)  \n",
    "7. Metryka cosinusowa (ze stoplistą)\n",
    "8. Metryka cosinusowa (bez stoplisty)  \n",
    "\n",
    "Czas wykonywania się klasteryzacji przy użyuciu poszczególnych metryk zachowywał (według moich obserwacji) nasępującą relację:  \n",
    "współczynnik DICE  < metryka cosinusowa << metryka LCS << mtryka Levenshtein'a\n",
    "\n",
    "Zapamiętywanie wyników funkcji w znacznym stopniu przyspiesza kolejne wywołania funkcji. (w szczególności pomaga to testować różne epsilon, jako że wartości metryk nie zależą od epsilon)\n",
    "\n",
    "Myślę, że następujące czynności mogłyby polepszyć klasteryzację:\n",
    "* zamienienie wszystkich liter na litery jednakowej wielkości / uwzględnienie mniejszych odległości dla tej samej litery o róznej wielkości w metrykach - Często nazwy firm były pisane raz dużymi literami a raz małymi. Z punktu widzenia podziału na grupy, nie powinno mieć to znaczenia.\n",
    "* Zwiększenie wagi odległości między pierwszym/ pierwszymi wyrazami linii. Zazwyczaj pierwszy wyraz to nazwa firmy, a więc czynnik, który jest ważniejszy niż np email (ten może się zmieniać)."
   ]
  },
  {
   "cell_type": "markdown",
   "metadata": {},
   "source": [
    "#### W dalszej części sprawozdania znajdują się wydruki dla poszczególnych klasteryzacji"
   ]
  },
  {
   "cell_type": "markdown",
   "metadata": {},
   "source": [
    "Wydruki obejmują przykładowe 10 klastrów o rozmiarze (w sensie ilości elementów) większym od 1.  \n",
    "Pełne wyniki załączone są w pliku wyniki.zip"
   ]
  },
  {
   "cell_type": "code",
   "execution_count": 125,
   "metadata": {
    "scrolled": false
   },
   "outputs": [
    {
     "name": "stdout",
     "output_type": "stream",
     "text": [
      "Klasteryzacja przy pomocy cosine_m bez stoplisty:\n",
      "\n",
      "\n",
      "''SSONTEX''  Sp.ZO.O.IMPORT-EXPORTUL:PRZECLAWSKA 5 03-879 WARSZAWA,POLAND NIP 113-01-17-669\n",
      "''SSONTEX''SP.ZO.O.IMPORT-EXPORT UL:PRZECLAWSKA 5 03-879 WARSZAWA,POLAND NIP 113-01-17-669 TEL./FAX.:0048(022)217 6532--\n",
      "\"SSONTEX\" SP.ZO.O IMPORT-EXPORT 03-879 WARSZAWA UL PRZECLAWSKA 5 NIP:113-01-17-669\n",
      "============\n",
      "\n",
      "''TOPEX SP. Z O.O.'' SPOLKA KOMANDYTOWA UL. POGRANICZNA 2/4  02-285 WARSZAWA POLAND\n",
      "\"TOPEX SP.Z.O.O.\"SP.K. UL.POGRANICZNA 2/4, 02-285 WARSZAWA.POLAND\n",
      "\"TOPEX SP.Z.O.O.\"SP.K. UL.POGRANICZNA 2/4,02-285 WARSZAWA POLAND\n",
      "\"TOPEX SP.Z O.O.\"SP.K. UL,POGRANICZNA 2/4 02-285 WARSZAWA\n",
      "\"TOPEX SP.Z O.O.\"SP.K. UL.POGRANICZNA 2/4,02--285 WARSZAWA\n",
      "\"TOPEX SP. Z O. O.\" SP. K. UL.POGRANICZNA 2/4,02-285 WARSZAWA,POLAND\n",
      "\"TOPEX SP.Z O.O.\"SP.K. UL.POGRANICZNA 2/4,02-285 WARSZAWA T:0048 225730397 F:0048 2257 30400\n",
      "\"TOPEX SP.Z O.O.\"SP.K. UL.POGRANICZNA 2/4 02-285 WARSZAWA POLAND\n",
      "\"TOPEX SP. Z O.O.\" SP.K. UL.POGRANICZNA 2/4 02-285 WARSZAWA POLAND\n",
      "\"TOPEX SP.Z O.O.\" SPOLKA KOMANDYTOWA UL. POGRANICZNA 2/4,02-285 WARSZAWA TEL:(+48 22) 57 30 300, FAX:(+4822 ) 57 30 400\n",
      "\"TOPEX SP.ZO.O.\"SPOLKA  KOMANDYTOWAUL.POGRANICZNA 2/4 02-285  WARSZAWA POLAND\n",
      "\"TOPEX SP.ZO.O.\" SPOLKA KOMANDYTOWAUL.POGRANICZNA 2/4  02-285 WARSZAWA POLAND\n",
      "============\n",
      "\n",
      "\"ALDETRANS\" LLC, 105066, MOSCOW, RUSSIA, TOKMAKOV LANE, 11. TEL:+7(495)641-03-89\n",
      "1.ALDETRANS LLC,105066,MOSCOW, RUSSIA, TOKMAKOV LANE,11. TEL: +7(495)641-03-89\n",
      "1.ALDETRANS LLC, 105066, MOSCOW, RUSSIA,TOKMAKOV LANE,11. TEL: +7(495)641-03-89\n",
      "============\n",
      "\n",
      "\"ARIVIST\", 198035,RUSSIA,SAINT-PETERSBURG, GAPSALSKAYA STR.,5,OFFICE 1-3; TEL:+78123277732,FAX:+781 23277729.VOLOKNO@YAHOO.COM\n",
      "\"ARIVIST\", 198035,RUSSIA,SAINT-PETERSBURG, GAPSALSKAYA STR.,5,OFFICE 1-3; TEL.:+78123277732,FAX+ 78123277729.\n",
      "\"ARIVIST\", 198035,RUSSIA,SAINT-PETERSBURG,  GAPSALSKAYA STR.,5,OFFICE1-3; TEL.:+78123277732,FAX+ 78123277729.\n",
      "\"ARIVIST\", 198035,RUSSIA,SAINT-PETERSBURG,  GAPSALSKAYA STR.,5,OFFICE1-3; TEL.:+78123277732,FAX + 78123277729.\n",
      "\"ARIVIST\", 198035, RUSSIA,  SAINT-PETERSBURG,  GAPSALSKAYA STR.,5,OFFICE1-3;  TEL.+78123277732, FAX  +78123277729.\n",
      "\"ARIVIST\", 198035, RUSSIA, SAINT-PETERSBURG, GAPSALSKAYA STR.,5, OFFICE1-3; TEL.+78123277732, FAX +78123277729. VOLOKNO@YAHOO.COM\n",
      "\"ARIVIST\", 198035, RUSSIA, SAINT-PETERSBURG. GAPSALSKAYA STR.,5. OFFICE1-3; TEL.+78123277732, FAX+78123277729. VOLOKNO@YAHOO.COM\n",
      "\"NFC\" LTD GAPSALSKAYA STR., 5 198035 ST. PETERSBURG, RUSSIA TEL: +7 812 327 77 41  FAX: +7 812 327 77 29\n",
      "\"NFC\"LTD GAPSALSKAYA STR., 5 198035ST.PETERSBURG,RUSSIA TEL.+78123277741 FAX +78123277729\n",
      "\"NFC\" LTD GAPSALSKAYA STR., 5 198035 ST.PETERSBURG, RUSSIA TEL. +7 812327 77 41 FAX +7 812 327 77 29\n",
      "============\n",
      "\n",
      "\"AVANPORT\"  LLC INN: 7839413675 KPP: 783901001 190020, SAINT PETERSBURG, QUAY OF THE OBVODNY CHANNEL, 134-136-138, BUILD. 101, LIT. A\"\n",
      "\"AVANPORT\"  LLC INN: 7839413675 KPP: 783901001 190020, SAINT PETERSBURG, QUAY OF  THE OBVODNY CHANNEL,134-136-138,  BUILD. 101, LIT. A\"\n",
      "============\n",
      "\n",
      "\"ELECTROGROUP\" (OOO),190068.RUSSIA,SAINT-PETERSBURG,UL.BOLSHAYA PODYACHESKAYA,5,LIT.A,POM.4-N\n",
      "\"ELECTROGROUP\" (OOO),190068.RUSSIA,SAINT-PETERSBURG,UL.BOLSHAYA  PODYACHESKAYA,5,LIT.A,POM.4-N\n",
      "============\n",
      "\n",
      "\"EXPRESS CO. LTD.\" RUSSIA 155101 IVANOVSKAYA REGION, LEZHNEVSKIY RAION, D. KOROVIHA, CENTRALNAYA STR. 4ARUSSIA\n",
      "\"EXPRESS CO. LTD.\"  RUSSIA 155101 IVANOVSKAYA REGION, LEZHNEVSKIY RAION, D. KOROVIHA, CENTRALNAYA STR. 4ARUSSIA\n",
      "============\n",
      "\n",
      "\"FMG SHIPPING AND FORWARDING, LTD.\"190020, SAINT PETERSBURG,LIFLYANDSKAYA STR., 6,LITERA \"A\",BUILDING 31H,OFFICE 310 POST CODE:190020 TEL:+7 812 448 82 83 FAX:+7 812 448 04 9\n",
      "\"FMG SHIPPING AND FORWARDING, LTD.\"190020 ST.PETERSBURG, RUSSIA BUMAZHNAYA STR., 18, OFF. 310\n",
      "1/FMG SHIPPING AND FORWARDING LTD 190020, SAINT PETERSBURG, LIFLYANDSKAYA STR., 6, LITERA \"A\",\n",
      "1/FMG SHIPPING AND FORWARDING  LTD190020, SAINT PETERSBURG, LIFLYANDSKAYA STR., 6, LITERA \"A \",+++\n",
      "1/FMG SHIPPING AND FORWARDING LTD 190020, SAINT PETERSBURG, LIFLYANDSKAYA STR., 6, LITERA \"A\", BUILDING 31??, OFFICE 310\n",
      "1/FMG SHIPPING AND FORWARDING  LTD190020, SAINT PETERSBURG, LIFLYANDSKAYA  STR., 6, LITERA \"A\", BUILDING31H, +++\n",
      "1/FMG SHIPPING AND FORWARDING  LTD190020, SAINT PETERSBURG, LIFLYANDSKAYA STR., 6, LITERA A 2/<TORGOVIYSOYUZ>LENSOVETA +++\n",
      "1.FMG SHIPPING AND FORWARDING  LTD190020, SAINT PETERSBURG, LIFLYANDSKAYA STR., 6, LITERA \"A \",+++\n",
      "1.FMG SHIPPING AND FORWARDING  LTD190020, SAINT PETERSBURG, LIFLYANDSKAYA STR.,6,LITERA \"A\",BUILDING +++\n",
      "1.FMG SHIPPING AND FORWARDING LTD 190020, SAINT PETERSBURG, LIFLYANDSKAYA STR.,6,LITERA \"A\",BUILDING 31H,OFFICE 310 POST CODE:190020 TEL:+7812 448 82 83+\n",
      "1.FMG SHIPPING AND FORWARDING LTD 190020, SAINT PETERSBURG, LIFLYANDSKAYA STR.,6,LITERA \"A\",BUILDING 31H,OFFICE 310 POST CODE:190020 TEL:+7812 448 82 83++\n",
      "============\n",
      "\n",
      "\"KOBI-LIGHT\" SPOLKA KOMANDYTOWA UL.T.BOYA ZELENSKIEGO 25 35-105 RZESZOW,POLAND NIP:813-34-99-669\n",
      "\"KOBI-LIGHT\" SPOLKA KOMANDYTOWA UL.T.BOYA ZELENSKIEGO 25 35-105 RZESZOW,POLAND NIP:813-34-99-699\n",
      "============\n",
      "\n",
      "\"LIGA-IMPORT\" LTD DOROGA NA TURUHTANNIE OSTROVA, D.24, KORP.5, SAINT-PETERSBURG, 198096, RUSSIA\n",
      "\"LIGA-IMPORT\" LTD DOROGA NA TURUHTANNIE OSTROVA, D.24, KORP.5, SAINT-PETERSBURG, 198096, RUSSIA TEL/FAX:+7 (911) 812 89 88\n",
      "\"LIGA-IMPORT\" LTD DOROGA NA TURUHTANNIE OSTROVA, D. 24, KORP. 5, SAINT-PETERSBURG, 198096, RUSSIA TEL/FAX:+7 (911) 812 89 88\n",
      "============\n",
      "\n",
      "**********************************************************************\n",
      "\n",
      "\n",
      "\n",
      "Klasteryzacja przy pomocy DICE_coef bez stoplisty:\n",
      "\n",
      "\n",
      "''SSONTEX''  Sp.ZO.O.IMPORT-EXPORTUL:PRZECLAWSKA 5 03-879 WARSZAWA,POLAND NIP 113-01-17-669\n",
      "''SSONTEX''SP.ZO.O.IMPORT-EXPORT UL:PRZECLAWSKA 5 03-879 WARSZAWA,POLAND NIP 113-01-17-669 TEL./FAX.:0048(022)217 6532--\n",
      "\"SSONTEX\" SP.ZO.O IMPORT-EXPORT 03-879 WARSZAWA UL PRZECLAWSKA 5 NIP:113-01-17-669\n",
      "============\n",
      "\n",
      "''TOPEX SP. Z O.O.'' SPOLKA KOMANDYTOWA UL. POGRANICZNA 2/4  02-285 WARSZAWA POLAND\n",
      "\"TOPEX SP.Z.O.O.\"SP.K. UL.POGRANICZNA 2/4, 02-285 WARSZAWA.POLAND\n",
      "\"TOPEX SP.Z.O.O.\"SP.K. UL.POGRANICZNA 2/4,02-285 WARSZAWA POLAND\n",
      "\"TOPEX SP.Z O.O.\"SP.K. UL,POGRANICZNA 2/4 02-285 WARSZAWA\n",
      "\"TOPEX SP.Z O.O.\"SP.K. UL.POGRANICZNA 2/4,02--285 WARSZAWA\n",
      "\"TOPEX SP. Z O. O.\" SP. K. UL.POGRANICZNA 2/4,02-285 WARSZAWA,POLAND\n",
      "\"TOPEX SP.Z O.O.\"SP.K. UL.POGRANICZNA 2/4,02-285 WARSZAWA T:0048 225730397 F:0048 2257 30400\n",
      "\"TOPEX SP.Z O.O.\"SP.K. UL.POGRANICZNA 2/4 02-285 WARSZAWA POLAND\n",
      "\"TOPEX SP. Z O.O.\" SP.K. UL.POGRANICZNA 2/4 02-285 WARSZAWA POLAND\n",
      "\"TOPEX SP.Z O.O.\" SPOLKA KOMANDYTOWA UL. POGRANICZNA 2/4,02-285 WARSZAWA TEL:(+48 22) 57 30 300, FAX:(+4822 ) 57 30 400\n",
      "\"TOPEX SP.ZO.O.\"SPOLKA  KOMANDYTOWAUL.POGRANICZNA 2/4 02-285  WARSZAWA POLAND\n",
      "\"TOPEX SP.ZO.O.\" SPOLKA KOMANDYTOWAUL.POGRANICZNA 2/4  02-285 WARSZAWA POLAND\n",
      "============\n",
      "\n",
      "\"ALDETRANS\" LLC, 105066, MOSCOW, RUSSIA, TOKMAKOV LANE, 11. TEL:+7(495)641-03-89\n",
      "1.ALDETRANS LLC,105066,MOSCOW, RUSSIA, TOKMAKOV LANE,11. TEL: +7(495)641-03-89\n",
      "1.ALDETRANS LLC, 105066, MOSCOW, RUSSIA,TOKMAKOV LANE,11. TEL: +7(495)641-03-89\n",
      "============\n",
      "\n",
      "\"ARIVIST\", 198035,RUSSIA,SAINT-PETERSBURG, GAPSALSKAYA STR.,5,OFFICE 1-3; TEL:+78123277732,FAX:+781 23277729.VOLOKNO@YAHOO.COM\n",
      "\"ARIVIST\", 198035,RUSSIA,SAINT-PETERSBURG, GAPSALSKAYA STR.,5,OFFICE 1-3; TEL.:+78123277732,FAX+ 78123277729.\n",
      "\"ARIVIST\", 198035,RUSSIA,SAINT-PETERSBURG,  GAPSALSKAYA STR.,5,OFFICE1-3; TEL.:+78123277732,FAX+ 78123277729.\n",
      "\"ARIVIST\", 198035,RUSSIA,SAINT-PETERSBURG,  GAPSALSKAYA STR.,5,OFFICE1-3; TEL.:+78123277732,FAX + 78123277729.\n",
      "\"ARIVIST\", 198035, RUSSIA,  SAINT-PETERSBURG,  GAPSALSKAYA STR.,5,OFFICE1-3;  TEL.+78123277732, FAX  +78123277729.\n",
      "\"ARIVIST\", 198035, RUSSIA, SAINT-PETERSBURG, GAPSALSKAYA STR.,5, OFFICE1-3; TEL.+78123277732, FAX +78123277729. VOLOKNO@YAHOO.COM\n",
      "\"ARIVIST\", 198035, RUSSIA, SAINT-PETERSBURG. GAPSALSKAYA STR.,5. OFFICE1-3; TEL.+78123277732, FAX+78123277729. VOLOKNO@YAHOO.COM\n",
      "\"NFC\" LTD GAPSALSKAYA STR., 5 198035 ST. PETERSBURG, RUSSIA TEL: +7 812 327 77 41  FAX: +7 812 327 77 29\n",
      "\"NFC\"LTD GAPSALSKAYA STR., 5 198035ST.PETERSBURG,RUSSIA TEL.+78123277741 FAX +78123277729\n",
      "\"NFC\" LTD GAPSALSKAYA STR., 5 198035 ST.PETERSBURG, RUSSIA TEL. +7 812327 77 41 FAX +7 812 327 77 29\n",
      "============\n",
      "\n",
      "\"AVANPORT\"  LLC INN: 7839413675 KPP: 783901001 190020, SAINT PETERSBURG, QUAY OF THE OBVODNY CHANNEL, 134-136-138, BUILD. 101, LIT. A\"\n",
      "\"AVANPORT\"  LLC INN: 7839413675 KPP: 783901001 190020, SAINT PETERSBURG, QUAY OF  THE OBVODNY CHANNEL,134-136-138,  BUILD. 101, LIT. A\"\n",
      "============\n",
      "\n",
      "\"ELECTROGROUP\" (OOO),190068.RUSSIA,SAINT-PETERSBURG,UL.BOLSHAYA PODYACHESKAYA,5,LIT.A,POM.4-N\n",
      "\"ELECTROGROUP\" (OOO),190068.RUSSIA,SAINT-PETERSBURG,UL.BOLSHAYA  PODYACHESKAYA,5,LIT.A,POM.4-N\n",
      "============\n",
      "\n",
      "\"EXPRESS CO. LTD.\" RUSSIA 155101 IVANOVSKAYA REGION, LEZHNEVSKIY RAION, D. KOROVIHA, CENTRALNAYA STR. 4ARUSSIA\n",
      "\"EXPRESS CO. LTD.\"  RUSSIA 155101 IVANOVSKAYA REGION, LEZHNEVSKIY RAION, D. KOROVIHA, CENTRALNAYA STR. 4ARUSSIA\n",
      "============\n",
      "\n",
      "\"FMG SHIPPING AND FORWARDING, LTD.\"190020, SAINT PETERSBURG,LIFLYANDSKAYA STR., 6,LITERA \"A\",BUILDING 31H,OFFICE 310 POST CODE:190020 TEL:+7 812 448 82 83 FAX:+7 812 448 04 9\n",
      "\"FMG SHIPPING AND FORWARDING, LTD.\"190020 ST.PETERSBURG, RUSSIA BUMAZHNAYA STR., 18, OFF. 310\n",
      "1/FMG SHIPPING AND FORWARDING LTD 190020, SAINT PETERSBURG, LIFLYANDSKAYA STR., 6, LITERA \"A\",\n",
      "1/FMG SHIPPING AND FORWARDING  LTD190020, SAINT PETERSBURG, LIFLYANDSKAYA STR., 6, LITERA \"A \",+++\n",
      "1/FMG SHIPPING AND FORWARDING LTD 190020, SAINT PETERSBURG, LIFLYANDSKAYA STR., 6, LITERA \"A\", BUILDING 31??, OFFICE 310\n",
      "1/FMG SHIPPING AND FORWARDING  LTD190020, SAINT PETERSBURG, LIFLYANDSKAYA  STR., 6, LITERA \"A\", BUILDING31H, +++\n",
      "1/FMG SHIPPING AND FORWARDING  LTD190020, SAINT PETERSBURG, LIFLYANDSKAYA STR., 6, LITERA A 2/<TORGOVIYSOYUZ>LENSOVETA +++\n",
      "1.FMG SHIPPING AND FORWARDING  LTD190020, SAINT PETERSBURG, LIFLYANDSKAYA STR., 6, LITERA \"A \",+++\n",
      "1.FMG SHIPPING AND FORWARDING  LTD190020, SAINT PETERSBURG, LIFLYANDSKAYA STR.,6,LITERA \"A\",BUILDING +++\n",
      "1.FMG SHIPPING AND FORWARDING LTD 190020, SAINT PETERSBURG, LIFLYANDSKAYA STR.,6,LITERA \"A\",BUILDING 31H,OFFICE 310 POST CODE:190020 TEL:+7812 448 82 83+\n",
      "1.FMG SHIPPING AND FORWARDING LTD 190020, SAINT PETERSBURG, LIFLYANDSKAYA STR.,6,LITERA \"A\",BUILDING 31H,OFFICE 310 POST CODE:190020 TEL:+7812 448 82 83++\n",
      "============\n",
      "\n",
      "\"KOBI-LIGHT\" SPOLKA KOMANDYTOWA UL.T.BOYA ZELENSKIEGO 25 35-105 RZESZOW,POLAND NIP:813-34-99-669\n",
      "\"KOBI-LIGHT\" SPOLKA KOMANDYTOWA UL.T.BOYA ZELENSKIEGO 25 35-105 RZESZOW,POLAND NIP:813-34-99-699\n",
      "============\n",
      "\n",
      "\"LIGA-IMPORT\" LTD DOROGA NA TURUHTANNIE OSTROVA, D.24, KORP.5, SAINT-PETERSBURG, 198096, RUSSIA\n",
      "\"LIGA-IMPORT\" LTD DOROGA NA TURUHTANNIE OSTROVA, D.24, KORP.5, SAINT-PETERSBURG, 198096, RUSSIA TEL/FAX:+7 (911) 812 89 88\n",
      "\"LIGA-IMPORT\" LTD DOROGA NA TURUHTANNIE OSTROVA, D. 24, KORP. 5, SAINT-PETERSBURG, 198096, RUSSIA TEL/FAX:+7 (911) 812 89 88\n",
      "============\n",
      "\n",
      "**********************************************************************\n",
      "\n",
      "\n",
      "\n",
      "Klasteryzacja przy pomocy LCS_m bez stoplisty:\n",
      "\n",
      "\n",
      "''SSONTEX''  Sp.ZO.O.IMPORT-EXPORTUL:PRZECLAWSKA 5 03-879 WARSZAWA,POLAND NIP 113-01-17-669\n",
      "''SSONTEX''SP.ZO.O.IMPORT-EXPORT UL:PRZECLAWSKA 5 03-879 WARSZAWA,POLAND NIP 113-01-17-669 TEL./FAX.:0048(022)217 6532--\n",
      "============\n",
      "\n",
      "''TOPEX SP. Z O.O.'' SPOLKA KOMANDYTOWA UL. POGRANICZNA 2/4  02-285 WARSZAWA POLAND\n",
      "\"TOPEX SP.Z.O.O.\"SP.K. UL.POGRANICZNA 2/4, 02-285 WARSZAWA.POLAND\n",
      "\"TOPEX SP.Z.O.O.\"SP.K. UL.POGRANICZNA 2/4,02-285 WARSZAWA POLAND\n",
      "\"TOPEX SP.Z O.O.\"SP.K. UL,POGRANICZNA 2/4 02-285 WARSZAWA\n",
      "\"TOPEX SP.Z O.O.\"SP.K. UL.POGRANICZNA 2/4,02--285 WARSZAWA\n",
      "\"TOPEX SP. Z O. O.\" SP. K. UL.POGRANICZNA 2/4,02-285 WARSZAWA,POLAND\n",
      "\"TOPEX SP.Z O.O.\"SP.K. UL.POGRANICZNA 2/4,02-285 WARSZAWA T:0048 225730397 F:0048 2257 30400\n",
      "\"TOPEX SP.Z O.O.\"SP.K. UL.POGRANICZNA 2/4 02-285 WARSZAWA POLAND\n",
      "\"TOPEX SP. Z O.O.\" SP.K. UL.POGRANICZNA 2/4 02-285 WARSZAWA POLAND\n",
      "\"TOPEX SP.Z O.O.\" SPOLKA KOMANDYTOWA UL. POGRANICZNA 2/4,02-285 WARSZAWA TEL:(+48 22) 57 30 300, FAX:(+4822 ) 57 30 400\n",
      "\"TOPEX SP.ZO.O.\"SPOLKA  KOMANDYTOWAUL.POGRANICZNA 2/4 02-285  WARSZAWA POLAND\n",
      "\"TOPEX SP.ZO.O.\" SPOLKA KOMANDYTOWAUL.POGRANICZNA 2/4  02-285 WARSZAWA POLAND\n",
      "============\n",
      "\n",
      "\"ALDETRANS\" LLC, 105066, MOSCOW, RUSSIA, TOKMAKOV LANE, 11. TEL:+7(495)641-03-89\n",
      "1.ALDETRANS LLC,105066,MOSCOW, RUSSIA, TOKMAKOV LANE,11. TEL: +7(495)641-03-89\n",
      "1.ALDETRANS LLC, 105066, MOSCOW, RUSSIA,TOKMAKOV LANE,11. TEL: +7(495)641-03-89\n",
      "============\n",
      "\n",
      "\"ARIVIST\", 198035,RUSSIA,SAINT-PETERSBURG, GAPSALSKAYA STR.,5,OFFICE 1-3; TEL:+78123277732,FAX:+781 23277729.VOLOKNO@YAHOO.COM\n",
      "\"ARIVIST\", 198035,RUSSIA,SAINT-PETERSBURG, GAPSALSKAYA STR.,5,OFFICE 1-3; TEL.:+78123277732,FAX+ 78123277729.\n",
      "\"ARIVIST\", 198035,RUSSIA,SAINT-PETERSBURG,  GAPSALSKAYA STR.,5,OFFICE1-3; TEL.:+78123277732,FAX+ 78123277729.\n",
      "\"ARIVIST\", 198035,RUSSIA,SAINT-PETERSBURG,  GAPSALSKAYA STR.,5,OFFICE1-3; TEL.:+78123277732,FAX + 78123277729.\n",
      "\"ARIVIST\", 198035, RUSSIA,  SAINT-PETERSBURG,  GAPSALSKAYA STR.,5,OFFICE1-3;  TEL.+78123277732, FAX  +78123277729.\n",
      "============\n",
      "\n",
      "\"ARIVIST\", 198035, RUSSIA, SAINT-PETERSBURG, GAPSALSKAYA STR.,5, OFFICE1-3; TEL.+78123277732, FAX +78123277729. VOLOKNO@YAHOO.COM\n",
      "\"ARIVIST\", 198035, RUSSIA, SAINT-PETERSBURG. GAPSALSKAYA STR.,5. OFFICE1-3; TEL.+78123277732, FAX+78123277729. VOLOKNO@YAHOO.COM\n",
      "============\n",
      "\n",
      "\"AVANPORT\"  LLC INN: 7839413675 KPP: 783901001 190020, SAINT PETERSBURG, QUAY OF THE OBVODNY CHANNEL, 134-136-138, BUILD. 101, LIT. A\"\n",
      "\"AVANPORT\"  LLC INN: 7839413675 KPP: 783901001 190020, SAINT PETERSBURG, QUAY OF  THE OBVODNY CHANNEL,134-136-138,  BUILD. 101, LIT. A\"\n",
      "============\n",
      "\n",
      "\"ELECTROGROUP\" (OOO),190068.RUSSIA,SAINT-PETERSBURG,UL.BOLSHAYA PODYACHESKAYA,5,LIT.A,POM.4-N\n",
      "\"ELECTROGROUP\" (OOO),190068.RUSSIA,SAINT-PETERSBURG,UL.BOLSHAYA  PODYACHESKAYA,5,LIT.A,POM.4-N\n",
      "============\n",
      "\n",
      "\"EXPRESS CO. LTD.\" RUSSIA 155101 IVANOVSKAYA REGION, LEZHNEVSKIY RAION, D. KOROVIHA, CENTRALNAYA STR. 4ARUSSIA\n",
      "\"EXPRESS CO. LTD.\"  RUSSIA 155101 IVANOVSKAYA REGION, LEZHNEVSKIY RAION, D. KOROVIHA, CENTRALNAYA STR. 4ARUSSIA\n",
      "============\n",
      "\n",
      "\"FMG SHIPPING AND FORWARDING, LTD.\"190020, SAINT PETERSBURG,LIFLYANDSKAYA STR., 6,LITERA \"A\",BUILDING 31H,OFFICE 310 POST CODE:190020 TEL:+7 812 448 82 83 FAX:+7 812 448 04 9\n",
      "1/FMG SHIPPING AND FORWARDING LTD 190020, SAINT PETERSBURG, LIFLYANDSKAYA STR., 6, LITERA \"A\",\n",
      "1/FMG SHIPPING AND FORWARDING  LTD190020, SAINT PETERSBURG, LIFLYANDSKAYA STR., 6, LITERA \"A \",+++\n",
      "1/FMG SHIPPING AND FORWARDING LTD 190020, SAINT PETERSBURG, LIFLYANDSKAYA STR., 6, LITERA \"A\", BUILDING 31??, OFFICE 310\n",
      "1/FMG SHIPPING AND FORWARDING  LTD190020, SAINT PETERSBURG, LIFLYANDSKAYA  STR., 6, LITERA \"A\", BUILDING31H, +++\n",
      "1/FMG SHIPPING AND FORWARDING  LTD190020, SAINT PETERSBURG, LIFLYANDSKAYA STR., 6, LITERA A 2/<TORGOVIYSOYUZ>LENSOVETA +++\n",
      "1.FMG SHIPPING AND FORWARDING  LTD190020, SAINT PETERSBURG, LIFLYANDSKAYA STR., 6, LITERA \"A \",+++\n",
      "1.FMG SHIPPING AND FORWARDING  LTD190020, SAINT PETERSBURG, LIFLYANDSKAYA STR.,6,LITERA \"A\",BUILDING +++\n",
      "1.FMG SHIPPING AND FORWARDING LTD 190020, SAINT PETERSBURG, LIFLYANDSKAYA STR.,6,LITERA \"A\",BUILDING 31H,OFFICE 310 POST CODE:190020 TEL:+7812 448 82 83+\n",
      "1.FMG SHIPPING AND FORWARDING LTD 190020, SAINT PETERSBURG, LIFLYANDSKAYA STR.,6,LITERA \"A\",BUILDING 31H,OFFICE 310 POST CODE:190020 TEL:+7812 448 82 83++\n",
      "============\n",
      "\n",
      "\"KOBI-LIGHT\" SPOLKA KOMANDYTOWA UL.T.BOYA ZELENSKIEGO 25 35-105 RZESZOW,POLAND NIP:813-34-99-669\n",
      "\"KOBI-LIGHT\" SPOLKA KOMANDYTOWA UL.T.BOYA ZELENSKIEGO 25 35-105 RZESZOW,POLAND NIP:813-34-99-699\n",
      "============\n",
      "\n",
      "**********************************************************************\n",
      "\n",
      "\n",
      "\n",
      "Klasteryzacja przy pomocy levenshtein_m bez stoplisty:\n",
      "\n",
      "\n",
      "''SSONTEX''  Sp.ZO.O.IMPORT-EXPORTUL:PRZECLAWSKA 5 03-879 WARSZAWA,POLAND NIP 113-01-17-669\n",
      "''SSONTEX''SP.ZO.O.IMPORT-EXPORT UL:PRZECLAWSKA 5 03-879 WARSZAWA,POLAND NIP 113-01-17-669 TEL./FAX.:0048(022)217 6532--\n",
      "\"SSONTEX\" SP.ZO.O IMPORT-EXPORT 03-879 WARSZAWA UL PRZECLAWSKA 5 NIP:113-01-17-669\n",
      "============\n",
      "\n",
      "''TOPEX SP. Z O.O.'' SPOLKA KOMANDYTOWA UL. POGRANICZNA 2/4  02-285 WARSZAWA POLAND\n",
      "\"TOPEX SP.Z.O.O.\"SP.K. UL.POGRANICZNA 2/4, 02-285 WARSZAWA.POLAND\n",
      "\"TOPEX SP.Z.O.O.\"SP.K. UL.POGRANICZNA 2/4,02-285 WARSZAWA POLAND\n",
      "\"TOPEX SP.Z O.O.\"SP.K. UL,POGRANICZNA 2/4 02-285 WARSZAWA\n",
      "\"TOPEX SP.Z O.O.\"SP.K. UL.POGRANICZNA 2/4,02--285 WARSZAWA\n",
      "\"TOPEX SP. Z O. O.\" SP. K. UL.POGRANICZNA 2/4,02-285 WARSZAWA,POLAND\n",
      "\"TOPEX SP.Z O.O.\"SP.K. UL.POGRANICZNA 2/4,02-285 WARSZAWA T:0048 225730397 F:0048 2257 30400\n",
      "\"TOPEX SP.Z O.O.\"SP.K. UL.POGRANICZNA 2/4 02-285 WARSZAWA POLAND\n",
      "\"TOPEX SP. Z O.O.\" SP.K. UL.POGRANICZNA 2/4 02-285 WARSZAWA POLAND\n",
      "\"TOPEX SP.Z O.O.\" SPOLKA KOMANDYTOWA UL. POGRANICZNA 2/4,02-285 WARSZAWA TEL:(+48 22) 57 30 300, FAX:(+4822 ) 57 30 400\n",
      "\"TOPEX SP.ZO.O.\"SPOLKA  KOMANDYTOWAUL.POGRANICZNA 2/4 02-285  WARSZAWA POLAND\n",
      "\"TOPEX SP.ZO.O.\" SPOLKA KOMANDYTOWAUL.POGRANICZNA 2/4  02-285 WARSZAWA POLAND\n",
      "============\n",
      "\n",
      "\"ALDETRANS\" LLC, 105066, MOSCOW, RUSSIA, TOKMAKOV LANE, 11. TEL:+7(495)641-03-89\n",
      "1.ALDETRANS LLC,105066,MOSCOW, RUSSIA, TOKMAKOV LANE,11. TEL: +7(495)641-03-89\n",
      "1.ALDETRANS LLC, 105066, MOSCOW, RUSSIA,TOKMAKOV LANE,11. TEL: +7(495)641-03-89\n",
      "============\n",
      "\n",
      "\"ARIVIST\", 198035,RUSSIA,SAINT-PETERSBURG, GAPSALSKAYA STR.,5,OFFICE 1-3; TEL:+78123277732,FAX:+781 23277729.VOLOKNO@YAHOO.COM\n",
      "\"ARIVIST\", 198035,RUSSIA,SAINT-PETERSBURG, GAPSALSKAYA STR.,5,OFFICE 1-3; TEL.:+78123277732,FAX+ 78123277729.\n",
      "\"ARIVIST\", 198035,RUSSIA,SAINT-PETERSBURG,  GAPSALSKAYA STR.,5,OFFICE1-3; TEL.:+78123277732,FAX+ 78123277729.\n",
      "\"ARIVIST\", 198035,RUSSIA,SAINT-PETERSBURG,  GAPSALSKAYA STR.,5,OFFICE1-3; TEL.:+78123277732,FAX + 78123277729.\n",
      "\"ARIVIST\", 198035, RUSSIA,  SAINT-PETERSBURG,  GAPSALSKAYA STR.,5,OFFICE1-3;  TEL.+78123277732, FAX  +78123277729.\n",
      "\"ARIVIST\", 198035, RUSSIA, SAINT-PETERSBURG, GAPSALSKAYA STR.,5, OFFICE1-3; TEL.+78123277732, FAX +78123277729. VOLOKNO@YAHOO.COM\n",
      "\"ARIVIST\", 198035, RUSSIA, SAINT-PETERSBURG. GAPSALSKAYA STR.,5. OFFICE1-3; TEL.+78123277732, FAX+78123277729. VOLOKNO@YAHOO.COM\n",
      "============\n",
      "\n",
      "\"AVANPORT\"  LLC INN: 7839413675 KPP: 783901001 190020, SAINT PETERSBURG, QUAY OF THE OBVODNY CHANNEL, 134-136-138, BUILD. 101, LIT. A\"\n",
      "\"AVANPORT\"  LLC INN: 7839413675 KPP: 783901001 190020, SAINT PETERSBURG, QUAY OF  THE OBVODNY CHANNEL,134-136-138,  BUILD. 101, LIT. A\"\n",
      "============\n",
      "\n",
      "\"ELECTROGROUP\" (OOO),190068.RUSSIA,SAINT-PETERSBURG,UL.BOLSHAYA PODYACHESKAYA,5,LIT.A,POM.4-N\n",
      "\"ELECTROGROUP\" (OOO),190068.RUSSIA,SAINT-PETERSBURG,UL.BOLSHAYA  PODYACHESKAYA,5,LIT.A,POM.4-N\n",
      "============\n",
      "\n",
      "\"EXPRESS CO. LTD.\" RUSSIA 155101 IVANOVSKAYA REGION, LEZHNEVSKIY RAION, D. KOROVIHA, CENTRALNAYA STR. 4ARUSSIA\n",
      "\"EXPRESS CO. LTD.\"  RUSSIA 155101 IVANOVSKAYA REGION, LEZHNEVSKIY RAION, D. KOROVIHA, CENTRALNAYA STR. 4ARUSSIA\n",
      "============\n",
      "\n",
      "\"FMG SHIPPING AND FORWARDING, LTD.\"190020, SAINT PETERSBURG,LIFLYANDSKAYA STR., 6,LITERA \"A\",BUILDING 31H,OFFICE 310 POST CODE:190020 TEL:+7 812 448 82 83 FAX:+7 812 448 04 9\n",
      "\"FMG SHIPPING AND FORWARDING, LTD.\"190020 ST.PETERSBURG, RUSSIA BUMAZHNAYA STR., 18, OFF. 310\n",
      "1/FMG SHIPPING AND FORWARDING LTD 190020, SAINT PETERSBURG, LIFLYANDSKAYA STR., 6, LITERA \"A\",\n",
      "1/FMG SHIPPING AND FORWARDING  LTD190020, SAINT PETERSBURG, LIFLYANDSKAYA STR., 6, LITERA \"A \",+++\n",
      "1/FMG SHIPPING AND FORWARDING LTD 190020, SAINT PETERSBURG, LIFLYANDSKAYA STR., 6, LITERA \"A\", BUILDING 31??, OFFICE 310\n",
      "1/FMG SHIPPING AND FORWARDING  LTD190020, SAINT PETERSBURG, LIFLYANDSKAYA  STR., 6, LITERA \"A\", BUILDING31H, +++\n",
      "1/FMG SHIPPING AND FORWARDING  LTD190020, SAINT PETERSBURG, LIFLYANDSKAYA STR., 6, LITERA A 2/<TORGOVIYSOYUZ>LENSOVETA +++\n",
      "1.FMG SHIPPING AND FORWARDING  LTD190020, SAINT PETERSBURG, LIFLYANDSKAYA STR., 6, LITERA \"A \",+++\n",
      "1.FMG SHIPPING AND FORWARDING  LTD190020, SAINT PETERSBURG, LIFLYANDSKAYA STR.,6,LITERA \"A\",BUILDING +++\n",
      "1.FMG SHIPPING AND FORWARDING LTD 190020, SAINT PETERSBURG, LIFLYANDSKAYA STR.,6,LITERA \"A\",BUILDING 31H,OFFICE 310 POST CODE:190020 TEL:+7812 448 82 83+\n",
      "1.FMG SHIPPING AND FORWARDING LTD 190020, SAINT PETERSBURG, LIFLYANDSKAYA STR.,6,LITERA \"A\",BUILDING 31H,OFFICE 310 POST CODE:190020 TEL:+7812 448 82 83++\n",
      "============\n",
      "\n",
      "\"KOBI-LIGHT\" SPOLKA KOMANDYTOWA UL.T.BOYA ZELENSKIEGO 25 35-105 RZESZOW,POLAND NIP:813-34-99-669\n",
      "\"KOBI-LIGHT\" SPOLKA KOMANDYTOWA UL.T.BOYA ZELENSKIEGO 25 35-105 RZESZOW,POLAND NIP:813-34-99-699\n",
      "============\n",
      "\n",
      "\"LIGA-IMPORT\" LTD DOROGA NA TURUHTANNIE OSTROVA, D.24, KORP.5, SAINT-PETERSBURG, 198096, RUSSIA\n",
      "\"LIGA-IMPORT\" LTD DOROGA NA TURUHTANNIE OSTROVA, D.24, KORP.5, SAINT-PETERSBURG, 198096, RUSSIA TEL/FAX:+7 (911) 812 89 88\n",
      "\"LIGA-IMPORT\" LTD DOROGA NA TURUHTANNIE OSTROVA, D. 24, KORP. 5, SAINT-PETERSBURG, 198096, RUSSIA TEL/FAX:+7 (911) 812 89 88\n",
      "============\n",
      "\n",
      "**********************************************************************\n",
      "\n",
      "\n",
      "\n",
      "Klasteryzacja przy pomocy cosine_m ze stoplistą:\n",
      "\n",
      "\n",
      "''SSONTEX''  Sp.ZO.O.IMPORT-EXPORTUL:PRZECLAWSKA 5 03-879 WARSZAWA,POLAND NIP 113-01-17-669\n",
      "''SSONTEX''SP.ZO.O.IMPORT-EXPORT UL:PRZECLAWSKA 5 03-879 WARSZAWA,POLAND NIP 113-01-17-669 TEL./FAX.:0048(022)217 6532--\n",
      "\"SSONTEX\" SP.ZO.O IMPORT-EXPORT 03-879 WARSZAWA UL PRZECLAWSKA 5 NIP:113-01-17-669\n",
      "============\n",
      "\n",
      "''TOPEX SP. Z O.O.'' SPOLKA KOMANDYTOWA UL. POGRANICZNA 2/4  02-285 WARSZAWA POLAND\n",
      "\"TOPEX SP.Z.O.O.\"SP.K. UL.POGRANICZNA 2/4, 02-285 WARSZAWA.POLAND\n",
      "\"TOPEX SP.Z.O.O.\"SP.K. UL.POGRANICZNA 2/4,02-285 WARSZAWA POLAND\n",
      "\"TOPEX SP.Z O.O.\"SP.K. UL,POGRANICZNA 2/4 02-285 WARSZAWA\n",
      "\"TOPEX SP.Z O.O.\"SP.K. UL.POGRANICZNA 2/4,02--285 WARSZAWA\n",
      "\"TOPEX SP. Z O. O.\" SP. K. UL.POGRANICZNA 2/4,02-285 WARSZAWA,POLAND\n",
      "\"TOPEX SP.Z O.O.\"SP.K. UL.POGRANICZNA 2/4,02-285 WARSZAWA T:0048 225730397 F:0048 2257 30400\n",
      "\"TOPEX SP.Z O.O.\"SP.K. UL.POGRANICZNA 2/4 02-285 WARSZAWA POLAND\n",
      "\"TOPEX SP. Z O.O.\" SP.K. UL.POGRANICZNA 2/4 02-285 WARSZAWA POLAND\n",
      "\"TOPEX SP.Z O.O.\" SPOLKA KOMANDYTOWA UL. POGRANICZNA 2/4,02-285 WARSZAWA TEL:(+48 22) 57 30 300, FAX:(+4822 ) 57 30 400\n",
      "\"TOPEX SP.ZO.O.\"SPOLKA  KOMANDYTOWAUL.POGRANICZNA 2/4 02-285  WARSZAWA POLAND\n",
      "\"TOPEX SP.ZO.O.\" SPOLKA KOMANDYTOWAUL.POGRANICZNA 2/4  02-285 WARSZAWA POLAND\n",
      "============\n",
      "\n",
      "\"ALDETRANS\" LLC, 105066, MOSCOW, RUSSIA, TOKMAKOV LANE, 11. TEL:+7(495)641-03-89\n",
      "1.ALDETRANS LLC,105066,MOSCOW, RUSSIA, TOKMAKOV LANE,11. TEL: +7(495)641-03-89\n",
      "1.ALDETRANS LLC, 105066, MOSCOW, RUSSIA,TOKMAKOV LANE,11. TEL: +7(495)641-03-89\n",
      "============\n",
      "\n",
      "\"ARIVIST\", 198035,RUSSIA,SAINT-PETERSBURG, GAPSALSKAYA STR.,5,OFFICE 1-3; TEL:+78123277732,FAX:+781 23277729.VOLOKNO@YAHOO.COM\n",
      "\"ARIVIST\", 198035,RUSSIA,SAINT-PETERSBURG, GAPSALSKAYA STR.,5,OFFICE 1-3; TEL.:+78123277732,FAX+ 78123277729.\n",
      "\"ARIVIST\", 198035,RUSSIA,SAINT-PETERSBURG,  GAPSALSKAYA STR.,5,OFFICE1-3; TEL.:+78123277732,FAX+ 78123277729.\n",
      "\"ARIVIST\", 198035,RUSSIA,SAINT-PETERSBURG,  GAPSALSKAYA STR.,5,OFFICE1-3; TEL.:+78123277732,FAX + 78123277729.\n",
      "\"ARIVIST\", 198035, RUSSIA,  SAINT-PETERSBURG,  GAPSALSKAYA STR.,5,OFFICE1-3;  TEL.+78123277732, FAX  +78123277729.\n",
      "\"ARIVIST\", 198035, RUSSIA, SAINT-PETERSBURG, GAPSALSKAYA STR.,5, OFFICE1-3; TEL.+78123277732, FAX +78123277729. VOLOKNO@YAHOO.COM\n",
      "\"ARIVIST\", 198035, RUSSIA, SAINT-PETERSBURG. GAPSALSKAYA STR.,5. OFFICE1-3; TEL.+78123277732, FAX+78123277729. VOLOKNO@YAHOO.COM\n",
      "\"NFC\" LTD GAPSALSKAYA STR., 5 198035 ST. PETERSBURG, RUSSIA TEL: +7 812 327 77 41  FAX: +7 812 327 77 29\n",
      "\"NFC\"LTD GAPSALSKAYA STR., 5 198035ST.PETERSBURG,RUSSIA TEL.+78123277741 FAX +78123277729\n",
      "\"NFC\" LTD GAPSALSKAYA STR., 5 198035 ST.PETERSBURG, RUSSIA TEL. +7 812327 77 41 FAX +7 812 327 77 29\n",
      "============\n",
      "\n",
      "\"AVANPORT\"  LLC INN: 7839413675 KPP: 783901001 190020, SAINT PETERSBURG, QUAY OF THE OBVODNY CHANNEL, 134-136-138, BUILD. 101, LIT. A\"\n",
      "\"AVANPORT\"  LLC INN: 7839413675 KPP: 783901001 190020, SAINT PETERSBURG, QUAY OF  THE OBVODNY CHANNEL,134-136-138,  BUILD. 101, LIT. A\"\n",
      "============\n",
      "\n",
      "\"ELECTROGROUP\" (OOO),190068.RUSSIA,SAINT-PETERSBURG,UL.BOLSHAYA PODYACHESKAYA,5,LIT.A,POM.4-N\n",
      "\"ELECTROGROUP\" (OOO),190068.RUSSIA,SAINT-PETERSBURG,UL.BOLSHAYA  PODYACHESKAYA,5,LIT.A,POM.4-N\n",
      "============\n",
      "\n",
      "\"EXPRESS CO. LTD.\" RUSSIA 155101 IVANOVSKAYA REGION, LEZHNEVSKIY RAION, D. KOROVIHA, CENTRALNAYA STR. 4ARUSSIA\n",
      "\"EXPRESS CO. LTD.\"  RUSSIA 155101 IVANOVSKAYA REGION, LEZHNEVSKIY RAION, D. KOROVIHA, CENTRALNAYA STR. 4ARUSSIA\n",
      "============\n",
      "\n",
      "\"FMG SHIPPING AND FORWARDING, LTD.\"190020, SAINT PETERSBURG,LIFLYANDSKAYA STR., 6,LITERA \"A\",BUILDING 31H,OFFICE 310 POST CODE:190020 TEL:+7 812 448 82 83 FAX:+7 812 448 04 9\n",
      "\"FMG SHIPPING AND FORWARDING, LTD.\"190020 ST.PETERSBURG, RUSSIA BUMAZHNAYA STR., 18, OFF. 310\n",
      "1/FMG SHIPPING AND FORWARDING LTD 190020, SAINT PETERSBURG, LIFLYANDSKAYA STR., 6, LITERA \"A\",\n",
      "1/FMG SHIPPING AND FORWARDING  LTD190020, SAINT PETERSBURG, LIFLYANDSKAYA STR., 6, LITERA \"A \",+++\n",
      "1/FMG SHIPPING AND FORWARDING LTD 190020, SAINT PETERSBURG, LIFLYANDSKAYA STR., 6, LITERA \"A\", BUILDING 31??, OFFICE 310\n",
      "1/FMG SHIPPING AND FORWARDING  LTD190020, SAINT PETERSBURG, LIFLYANDSKAYA  STR., 6, LITERA \"A\", BUILDING31H, +++\n",
      "1/FMG SHIPPING AND FORWARDING  LTD190020, SAINT PETERSBURG, LIFLYANDSKAYA STR., 6, LITERA A 2/<TORGOVIYSOYUZ>LENSOVETA +++\n",
      "1.FMG SHIPPING AND FORWARDING  LTD190020, SAINT PETERSBURG, LIFLYANDSKAYA STR., 6, LITERA \"A \",+++\n",
      "1.FMG SHIPPING AND FORWARDING  LTD190020, SAINT PETERSBURG, LIFLYANDSKAYA STR.,6,LITERA \"A\",BUILDING +++\n",
      "1.FMG SHIPPING AND FORWARDING LTD 190020, SAINT PETERSBURG, LIFLYANDSKAYA STR.,6,LITERA \"A\",BUILDING 31H,OFFICE 310 POST CODE:190020 TEL:+7812 448 82 83+\n",
      "1.FMG SHIPPING AND FORWARDING LTD 190020, SAINT PETERSBURG, LIFLYANDSKAYA STR.,6,LITERA \"A\",BUILDING 31H,OFFICE 310 POST CODE:190020 TEL:+7812 448 82 83++\n",
      "============\n",
      "\n",
      "\"KOBI-LIGHT\" SPOLKA KOMANDYTOWA UL.T.BOYA ZELENSKIEGO 25 35-105 RZESZOW,POLAND NIP:813-34-99-669\n",
      "\"KOBI-LIGHT\" SPOLKA KOMANDYTOWA UL.T.BOYA ZELENSKIEGO 25 35-105 RZESZOW,POLAND NIP:813-34-99-699\n",
      "============\n",
      "\n",
      "\"LIGA-IMPORT\" LTD DOROGA NA TURUHTANNIE OSTROVA, D.24, KORP.5, SAINT-PETERSBURG, 198096, RUSSIA\n",
      "\"LIGA-IMPORT\" LTD DOROGA NA TURUHTANNIE OSTROVA, D.24, KORP.5, SAINT-PETERSBURG, 198096, RUSSIA TEL/FAX:+7 (911) 812 89 88\n",
      "\"LIGA-IMPORT\" LTD DOROGA NA TURUHTANNIE OSTROVA, D. 24, KORP. 5, SAINT-PETERSBURG, 198096, RUSSIA TEL/FAX:+7 (911) 812 89 88\n",
      "============\n",
      "\n",
      "**********************************************************************\n",
      "\n",
      "\n",
      "\n",
      "Klasteryzacja przy pomocy DICE_coef ze stoplistą:\n",
      "\n",
      "\n",
      "''SSONTEX''  Sp.ZO.O.IMPORT-EXPORTUL:PRZECLAWSKA 5 03-879 WARSZAWA,POLAND NIP 113-01-17-669\n",
      "''SSONTEX''SP.ZO.O.IMPORT-EXPORT UL:PRZECLAWSKA 5 03-879 WARSZAWA,POLAND NIP 113-01-17-669 TEL./FAX.:0048(022)217 6532--\n",
      "\"SSONTEX\" SP.ZO.O IMPORT-EXPORT 03-879 WARSZAWA UL PRZECLAWSKA 5 NIP:113-01-17-669\n",
      "============\n",
      "\n",
      "''TOPEX SP. Z O.O.'' SPOLKA KOMANDYTOWA UL. POGRANICZNA 2/4  02-285 WARSZAWA POLAND\n",
      "\"TOPEX SP.Z.O.O.\"SP.K. UL.POGRANICZNA 2/4, 02-285 WARSZAWA.POLAND\n",
      "\"TOPEX SP.Z.O.O.\"SP.K. UL.POGRANICZNA 2/4,02-285 WARSZAWA POLAND\n",
      "\"TOPEX SP.Z O.O.\"SP.K. UL,POGRANICZNA 2/4 02-285 WARSZAWA\n",
      "\"TOPEX SP.Z O.O.\"SP.K. UL.POGRANICZNA 2/4,02--285 WARSZAWA\n",
      "\"TOPEX SP. Z O. O.\" SP. K. UL.POGRANICZNA 2/4,02-285 WARSZAWA,POLAND\n",
      "\"TOPEX SP.Z O.O.\"SP.K. UL.POGRANICZNA 2/4,02-285 WARSZAWA T:0048 225730397 F:0048 2257 30400\n",
      "\"TOPEX SP.Z O.O.\"SP.K. UL.POGRANICZNA 2/4 02-285 WARSZAWA POLAND\n",
      "\"TOPEX SP. Z O.O.\" SP.K. UL.POGRANICZNA 2/4 02-285 WARSZAWA POLAND\n",
      "\"TOPEX SP.Z O.O.\" SPOLKA KOMANDYTOWA UL. POGRANICZNA 2/4,02-285 WARSZAWA TEL:(+48 22) 57 30 300, FAX:(+4822 ) 57 30 400\n",
      "\"TOPEX SP.ZO.O.\"SPOLKA  KOMANDYTOWAUL.POGRANICZNA 2/4 02-285  WARSZAWA POLAND\n",
      "\"TOPEX SP.ZO.O.\" SPOLKA KOMANDYTOWAUL.POGRANICZNA 2/4  02-285 WARSZAWA POLAND\n",
      "============\n",
      "\n",
      "\"ALDETRANS\" LLC, 105066, MOSCOW, RUSSIA, TOKMAKOV LANE, 11. TEL:+7(495)641-03-89\n",
      "1.ALDETRANS LLC,105066,MOSCOW, RUSSIA, TOKMAKOV LANE,11. TEL: +7(495)641-03-89\n",
      "1.ALDETRANS LLC, 105066, MOSCOW, RUSSIA,TOKMAKOV LANE,11. TEL: +7(495)641-03-89\n",
      "============\n",
      "\n",
      "\"ARIVIST\", 198035,RUSSIA,SAINT-PETERSBURG, GAPSALSKAYA STR.,5,OFFICE 1-3; TEL:+78123277732,FAX:+781 23277729.VOLOKNO@YAHOO.COM\n",
      "\"ARIVIST\", 198035,RUSSIA,SAINT-PETERSBURG, GAPSALSKAYA STR.,5,OFFICE 1-3; TEL.:+78123277732,FAX+ 78123277729.\n",
      "\"ARIVIST\", 198035,RUSSIA,SAINT-PETERSBURG,  GAPSALSKAYA STR.,5,OFFICE1-3; TEL.:+78123277732,FAX+ 78123277729.\n",
      "\"ARIVIST\", 198035,RUSSIA,SAINT-PETERSBURG,  GAPSALSKAYA STR.,5,OFFICE1-3; TEL.:+78123277732,FAX + 78123277729.\n",
      "\"ARIVIST\", 198035, RUSSIA,  SAINT-PETERSBURG,  GAPSALSKAYA STR.,5,OFFICE1-3;  TEL.+78123277732, FAX  +78123277729.\n",
      "\"ARIVIST\", 198035, RUSSIA, SAINT-PETERSBURG, GAPSALSKAYA STR.,5, OFFICE1-3; TEL.+78123277732, FAX +78123277729. VOLOKNO@YAHOO.COM\n",
      "\"ARIVIST\", 198035, RUSSIA, SAINT-PETERSBURG. GAPSALSKAYA STR.,5. OFFICE1-3; TEL.+78123277732, FAX+78123277729. VOLOKNO@YAHOO.COM\n",
      "\"NFC\" LTD GAPSALSKAYA STR., 5 198035 ST. PETERSBURG, RUSSIA TEL: +7 812 327 77 41  FAX: +7 812 327 77 29\n",
      "\"NFC\"LTD GAPSALSKAYA STR., 5 198035ST.PETERSBURG,RUSSIA TEL.+78123277741 FAX +78123277729\n",
      "\"NFC\" LTD GAPSALSKAYA STR., 5 198035 ST.PETERSBURG, RUSSIA TEL. +7 812327 77 41 FAX +7 812 327 77 29\n",
      "============\n",
      "\n",
      "\"AVANPORT\"  LLC INN: 7839413675 KPP: 783901001 190020, SAINT PETERSBURG, QUAY OF THE OBVODNY CHANNEL, 134-136-138, BUILD. 101, LIT. A\"\n",
      "\"AVANPORT\"  LLC INN: 7839413675 KPP: 783901001 190020, SAINT PETERSBURG, QUAY OF  THE OBVODNY CHANNEL,134-136-138,  BUILD. 101, LIT. A\"\n",
      "============\n",
      "\n",
      "\"ELECTROGROUP\" (OOO),190068.RUSSIA,SAINT-PETERSBURG,UL.BOLSHAYA PODYACHESKAYA,5,LIT.A,POM.4-N\n",
      "\"ELECTROGROUP\" (OOO),190068.RUSSIA,SAINT-PETERSBURG,UL.BOLSHAYA  PODYACHESKAYA,5,LIT.A,POM.4-N\n",
      "============\n",
      "\n",
      "\"EXPRESS CO. LTD.\" RUSSIA 155101 IVANOVSKAYA REGION, LEZHNEVSKIY RAION, D. KOROVIHA, CENTRALNAYA STR. 4ARUSSIA\n",
      "\"EXPRESS CO. LTD.\"  RUSSIA 155101 IVANOVSKAYA REGION, LEZHNEVSKIY RAION, D. KOROVIHA, CENTRALNAYA STR. 4ARUSSIA\n",
      "============\n",
      "\n",
      "\"FMG SHIPPING AND FORWARDING, LTD.\"190020, SAINT PETERSBURG,LIFLYANDSKAYA STR., 6,LITERA \"A\",BUILDING 31H,OFFICE 310 POST CODE:190020 TEL:+7 812 448 82 83 FAX:+7 812 448 04 9\n",
      "\"FMG SHIPPING AND FORWARDING, LTD.\"190020 ST.PETERSBURG, RUSSIA BUMAZHNAYA STR., 18, OFF. 310\n",
      "1/FMG SHIPPING AND FORWARDING LTD 190020, SAINT PETERSBURG, LIFLYANDSKAYA STR., 6, LITERA \"A\",\n",
      "1/FMG SHIPPING AND FORWARDING  LTD190020, SAINT PETERSBURG, LIFLYANDSKAYA STR., 6, LITERA \"A \",+++\n",
      "1/FMG SHIPPING AND FORWARDING LTD 190020, SAINT PETERSBURG, LIFLYANDSKAYA STR., 6, LITERA \"A\", BUILDING 31??, OFFICE 310\n",
      "1/FMG SHIPPING AND FORWARDING  LTD190020, SAINT PETERSBURG, LIFLYANDSKAYA  STR., 6, LITERA \"A\", BUILDING31H, +++\n",
      "1/FMG SHIPPING AND FORWARDING  LTD190020, SAINT PETERSBURG, LIFLYANDSKAYA STR., 6, LITERA A 2/<TORGOVIYSOYUZ>LENSOVETA +++\n",
      "1.FMG SHIPPING AND FORWARDING  LTD190020, SAINT PETERSBURG, LIFLYANDSKAYA STR., 6, LITERA \"A \",+++\n",
      "1.FMG SHIPPING AND FORWARDING  LTD190020, SAINT PETERSBURG, LIFLYANDSKAYA STR.,6,LITERA \"A\",BUILDING +++\n",
      "1.FMG SHIPPING AND FORWARDING LTD 190020, SAINT PETERSBURG, LIFLYANDSKAYA STR.,6,LITERA \"A\",BUILDING 31H,OFFICE 310 POST CODE:190020 TEL:+7812 448 82 83+\n",
      "1.FMG SHIPPING AND FORWARDING LTD 190020, SAINT PETERSBURG, LIFLYANDSKAYA STR.,6,LITERA \"A\",BUILDING 31H,OFFICE 310 POST CODE:190020 TEL:+7812 448 82 83++\n",
      "============\n",
      "\n",
      "\"KOBI-LIGHT\" SPOLKA KOMANDYTOWA UL.T.BOYA ZELENSKIEGO 25 35-105 RZESZOW,POLAND NIP:813-34-99-669\n",
      "\"KOBI-LIGHT\" SPOLKA KOMANDYTOWA UL.T.BOYA ZELENSKIEGO 25 35-105 RZESZOW,POLAND NIP:813-34-99-699\n",
      "============\n",
      "\n",
      "\"LIGA-IMPORT\" LTD DOROGA NA TURUHTANNIE OSTROVA, D.24, KORP.5, SAINT-PETERSBURG, 198096, RUSSIA\n",
      "\"LIGA-IMPORT\" LTD DOROGA NA TURUHTANNIE OSTROVA, D.24, KORP.5, SAINT-PETERSBURG, 198096, RUSSIA TEL/FAX:+7 (911) 812 89 88\n",
      "\"LIGA-IMPORT\" LTD DOROGA NA TURUHTANNIE OSTROVA, D. 24, KORP. 5, SAINT-PETERSBURG, 198096, RUSSIA TEL/FAX:+7 (911) 812 89 88\n",
      "============\n",
      "\n",
      "**********************************************************************\n",
      "\n",
      "\n",
      "\n",
      "Klasteryzacja przy pomocy LCS_m ze stoplistą:\n",
      "\n",
      "\n",
      "''SSONTEX''  Sp.ZO.O.IMPORT-EXPORTUL:PRZECLAWSKA 5 03-879 WARSZAWA,POLAND NIP 113-01-17-669\n",
      "''SSONTEX''SP.ZO.O.IMPORT-EXPORT UL:PRZECLAWSKA 5 03-879 WARSZAWA,POLAND NIP 113-01-17-669 TEL./FAX.:0048(022)217 6532--\n",
      "============\n",
      "\n",
      "''TOPEX SP. Z O.O.'' SPOLKA KOMANDYTOWA UL. POGRANICZNA 2/4  02-285 WARSZAWA POLAND\n",
      "\"TOPEX SP.Z.O.O.\"SP.K. UL.POGRANICZNA 2/4, 02-285 WARSZAWA.POLAND\n",
      "\"TOPEX SP.Z.O.O.\"SP.K. UL.POGRANICZNA 2/4,02-285 WARSZAWA POLAND\n",
      "\"TOPEX SP.Z O.O.\"SP.K. UL,POGRANICZNA 2/4 02-285 WARSZAWA\n",
      "\"TOPEX SP.Z O.O.\"SP.K. UL.POGRANICZNA 2/4,02--285 WARSZAWA\n",
      "\"TOPEX SP. Z O. O.\" SP. K. UL.POGRANICZNA 2/4,02-285 WARSZAWA,POLAND\n",
      "\"TOPEX SP.Z O.O.\"SP.K. UL.POGRANICZNA 2/4,02-285 WARSZAWA T:0048 225730397 F:0048 2257 30400\n",
      "\"TOPEX SP.Z O.O.\"SP.K. UL.POGRANICZNA 2/4 02-285 WARSZAWA POLAND\n",
      "\"TOPEX SP. Z O.O.\" SP.K. UL.POGRANICZNA 2/4 02-285 WARSZAWA POLAND\n",
      "\"TOPEX SP.Z O.O.\" SPOLKA KOMANDYTOWA UL. POGRANICZNA 2/4,02-285 WARSZAWA TEL:(+48 22) 57 30 300, FAX:(+4822 ) 57 30 400\n",
      "\"TOPEX SP.ZO.O.\"SPOLKA  KOMANDYTOWAUL.POGRANICZNA 2/4 02-285  WARSZAWA POLAND\n",
      "\"TOPEX SP.ZO.O.\" SPOLKA KOMANDYTOWAUL.POGRANICZNA 2/4  02-285 WARSZAWA POLAND\n",
      "============\n",
      "\n",
      "\"ALDETRANS\" LLC, 105066, MOSCOW, RUSSIA, TOKMAKOV LANE, 11. TEL:+7(495)641-03-89\n",
      "1.ALDETRANS LLC,105066,MOSCOW, RUSSIA, TOKMAKOV LANE,11. TEL: +7(495)641-03-89\n",
      "1.ALDETRANS LLC, 105066, MOSCOW, RUSSIA,TOKMAKOV LANE,11. TEL: +7(495)641-03-89\n",
      "============\n",
      "\n",
      "\"ARIVIST\", 198035,RUSSIA,SAINT-PETERSBURG, GAPSALSKAYA STR.,5,OFFICE 1-3; TEL:+78123277732,FAX:+781 23277729.VOLOKNO@YAHOO.COM\n",
      "\"ARIVIST\", 198035,RUSSIA,SAINT-PETERSBURG, GAPSALSKAYA STR.,5,OFFICE 1-3; TEL.:+78123277732,FAX+ 78123277729.\n",
      "\"ARIVIST\", 198035,RUSSIA,SAINT-PETERSBURG,  GAPSALSKAYA STR.,5,OFFICE1-3; TEL.:+78123277732,FAX+ 78123277729.\n",
      "\"ARIVIST\", 198035,RUSSIA,SAINT-PETERSBURG,  GAPSALSKAYA STR.,5,OFFICE1-3; TEL.:+78123277732,FAX + 78123277729.\n",
      "\"ARIVIST\", 198035, RUSSIA,  SAINT-PETERSBURG,  GAPSALSKAYA STR.,5,OFFICE1-3;  TEL.+78123277732, FAX  +78123277729.\n",
      "\"ARIVIST\", 198035, RUSSIA, SAINT-PETERSBURG, GAPSALSKAYA STR.,5, OFFICE1-3; TEL.+78123277732, FAX +78123277729. VOLOKNO@YAHOO.COM\n",
      "\"ARIVIST\", 198035, RUSSIA, SAINT-PETERSBURG. GAPSALSKAYA STR.,5. OFFICE1-3; TEL.+78123277732, FAX+78123277729. VOLOKNO@YAHOO.COM\n",
      "============\n",
      "\n",
      "\"AVANPORT\"  LLC INN: 7839413675 KPP: 783901001 190020, SAINT PETERSBURG, QUAY OF THE OBVODNY CHANNEL, 134-136-138, BUILD. 101, LIT. A\"\n",
      "\"AVANPORT\"  LLC INN: 7839413675 KPP: 783901001 190020, SAINT PETERSBURG, QUAY OF  THE OBVODNY CHANNEL,134-136-138,  BUILD. 101, LIT. A\"\n",
      "============\n",
      "\n",
      "\"ELECTROGROUP\" (OOO),190068.RUSSIA,SAINT-PETERSBURG,UL.BOLSHAYA PODYACHESKAYA,5,LIT.A,POM.4-N\n",
      "\"ELECTROGROUP\" (OOO),190068.RUSSIA,SAINT-PETERSBURG,UL.BOLSHAYA  PODYACHESKAYA,5,LIT.A,POM.4-N\n",
      "============\n",
      "\n",
      "\"EXPRESS CO. LTD.\" RUSSIA 155101 IVANOVSKAYA REGION, LEZHNEVSKIY RAION, D. KOROVIHA, CENTRALNAYA STR. 4ARUSSIA\n",
      "\"EXPRESS CO. LTD.\"  RUSSIA 155101 IVANOVSKAYA REGION, LEZHNEVSKIY RAION, D. KOROVIHA, CENTRALNAYA STR. 4ARUSSIA\n",
      "============\n",
      "\n",
      "\"FMG SHIPPING AND FORWARDING, LTD.\"190020, SAINT PETERSBURG,LIFLYANDSKAYA STR., 6,LITERA \"A\",BUILDING 31H,OFFICE 310 POST CODE:190020 TEL:+7 812 448 82 83 FAX:+7 812 448 04 9\n",
      "1/FMG SHIPPING AND FORWARDING LTD 190020, SAINT PETERSBURG, LIFLYANDSKAYA STR., 6, LITERA \"A\",\n",
      "1/FMG SHIPPING AND FORWARDING  LTD190020, SAINT PETERSBURG, LIFLYANDSKAYA STR., 6, LITERA \"A \",+++\n",
      "1/FMG SHIPPING AND FORWARDING LTD 190020, SAINT PETERSBURG, LIFLYANDSKAYA STR., 6, LITERA \"A\", BUILDING 31??, OFFICE 310\n",
      "1/FMG SHIPPING AND FORWARDING  LTD190020, SAINT PETERSBURG, LIFLYANDSKAYA  STR., 6, LITERA \"A\", BUILDING31H, +++\n",
      "1/FMG SHIPPING AND FORWARDING  LTD190020, SAINT PETERSBURG, LIFLYANDSKAYA STR., 6, LITERA A 2/<TORGOVIYSOYUZ>LENSOVETA +++\n",
      "1.FMG SHIPPING AND FORWARDING  LTD190020, SAINT PETERSBURG, LIFLYANDSKAYA STR., 6, LITERA \"A \",+++\n",
      "1.FMG SHIPPING AND FORWARDING  LTD190020, SAINT PETERSBURG, LIFLYANDSKAYA STR.,6,LITERA \"A\",BUILDING +++\n",
      "1.FMG SHIPPING AND FORWARDING LTD 190020, SAINT PETERSBURG, LIFLYANDSKAYA STR.,6,LITERA \"A\",BUILDING 31H,OFFICE 310 POST CODE:190020 TEL:+7812 448 82 83+\n",
      "1.FMG SHIPPING AND FORWARDING LTD 190020, SAINT PETERSBURG, LIFLYANDSKAYA STR.,6,LITERA \"A\",BUILDING 31H,OFFICE 310 POST CODE:190020 TEL:+7812 448 82 83++\n",
      "============\n",
      "\n",
      "\"FMG SHIPPING AND FORWARDING, LTD.\"190020 ST.PETERSBURG, RUSSIA BUMAZHNAYA STR., 18, OFF. 310\n",
      "\"TC\"UNOTRANS\"LTD 190020 ST.PETERSBURG,BUMAZHNAYA STR.9,K.1,OFF.305 TEL/FAX:+7 812 445 28 43\n",
      "\"TC\"UNOTRANS\"LTD 190020 ST.PETERSBURG, BUMAZHNAYA STR.9,K.1,OFF.305 TEL/FAX:+7 812 445 28 43\n",
      "\"TC \"UNOTRANS\" LTD 190020 ST.PETERSBURG, BUMAZHNAYA STR.9, K.1, OFF. 305 TEL/FAX: +7 812 445 28 43\n",
      "\"TC \"UNOTRANS\" LTD 190020 ST.PETERSBURG, BUMAZHNAYA STR.9, K.1, OFFICE305 TEL/FAX: +7 812 445 28 43\n",
      "\"TC\"UNOTRANS\" LTD ZIP CODE:190020 ST.PETERSBURG, BUMAZHNAYA STR.9, K.1, LIT.A OFF.305 TEL:+7 812 445 28 42\n",
      "============\n",
      "\n",
      "\"KOBI-LIGHT\" SPOLKA KOMANDYTOWA UL.T.BOYA ZELENSKIEGO 25 35-105 RZESZOW,POLAND NIP:813-34-99-669\n",
      "\"KOBI-LIGHT\" SPOLKA KOMANDYTOWA UL.T.BOYA ZELENSKIEGO 25 35-105 RZESZOW,POLAND NIP:813-34-99-699\n",
      "============\n",
      "\n",
      "**********************************************************************\n",
      "\n",
      "\n",
      "\n",
      "Klasteryzacja przy pomocy levenshtein_m ze stoplistą:\n",
      "\n",
      "\n",
      "''SSONTEX''  Sp.ZO.O.IMPORT-EXPORTUL:PRZECLAWSKA 5 03-879 WARSZAWA,POLAND NIP 113-01-17-669\n",
      "''SSONTEX''SP.ZO.O.IMPORT-EXPORT UL:PRZECLAWSKA 5 03-879 WARSZAWA,POLAND NIP 113-01-17-669 TEL./FAX.:0048(022)217 6532--\n",
      "\"SSONTEX\" SP.ZO.O IMPORT-EXPORT 03-879 WARSZAWA UL PRZECLAWSKA 5 NIP:113-01-17-669\n",
      "============\n",
      "\n",
      "''TOPEX SP. Z O.O.'' SPOLKA KOMANDYTOWA UL. POGRANICZNA 2/4  02-285 WARSZAWA POLAND\n",
      "\"TOPEX SP.Z.O.O.\"SP.K. UL.POGRANICZNA 2/4, 02-285 WARSZAWA.POLAND\n",
      "\"TOPEX SP.Z.O.O.\"SP.K. UL.POGRANICZNA 2/4,02-285 WARSZAWA POLAND\n",
      "\"TOPEX SP.Z O.O.\"SP.K. UL,POGRANICZNA 2/4 02-285 WARSZAWA\n",
      "\"TOPEX SP.Z O.O.\"SP.K. UL.POGRANICZNA 2/4,02--285 WARSZAWA\n",
      "\"TOPEX SP. Z O. O.\" SP. K. UL.POGRANICZNA 2/4,02-285 WARSZAWA,POLAND\n",
      "\"TOPEX SP.Z O.O.\"SP.K. UL.POGRANICZNA 2/4,02-285 WARSZAWA T:0048 225730397 F:0048 2257 30400\n",
      "\"TOPEX SP.Z O.O.\"SP.K. UL.POGRANICZNA 2/4 02-285 WARSZAWA POLAND\n",
      "\"TOPEX SP. Z O.O.\" SP.K. UL.POGRANICZNA 2/4 02-285 WARSZAWA POLAND\n",
      "\"TOPEX SP.Z O.O.\" SPOLKA KOMANDYTOWA UL. POGRANICZNA 2/4,02-285 WARSZAWA TEL:(+48 22) 57 30 300, FAX:(+4822 ) 57 30 400\n",
      "\"TOPEX SP.ZO.O.\"SPOLKA  KOMANDYTOWAUL.POGRANICZNA 2/4 02-285  WARSZAWA POLAND\n",
      "\"TOPEX SP.ZO.O.\" SPOLKA KOMANDYTOWAUL.POGRANICZNA 2/4  02-285 WARSZAWA POLAND\n",
      "============\n",
      "\n",
      "\"ALDETRANS\" LLC, 105066, MOSCOW, RUSSIA, TOKMAKOV LANE, 11. TEL:+7(495)641-03-89\n",
      "1.ALDETRANS LLC,105066,MOSCOW, RUSSIA, TOKMAKOV LANE,11. TEL: +7(495)641-03-89\n",
      "1.ALDETRANS LLC, 105066, MOSCOW, RUSSIA,TOKMAKOV LANE,11. TEL: +7(495)641-03-89\n",
      "============\n",
      "\n",
      "\"ARIVIST\", 198035,RUSSIA,SAINT-PETERSBURG, GAPSALSKAYA STR.,5,OFFICE 1-3; TEL:+78123277732,FAX:+781 23277729.VOLOKNO@YAHOO.COM\n",
      "\"ARIVIST\", 198035,RUSSIA,SAINT-PETERSBURG, GAPSALSKAYA STR.,5,OFFICE 1-3; TEL.:+78123277732,FAX+ 78123277729.\n",
      "\"ARIVIST\", 198035,RUSSIA,SAINT-PETERSBURG,  GAPSALSKAYA STR.,5,OFFICE1-3; TEL.:+78123277732,FAX+ 78123277729.\n",
      "\"ARIVIST\", 198035,RUSSIA,SAINT-PETERSBURG,  GAPSALSKAYA STR.,5,OFFICE1-3; TEL.:+78123277732,FAX + 78123277729.\n",
      "\"ARIVIST\", 198035, RUSSIA,  SAINT-PETERSBURG,  GAPSALSKAYA STR.,5,OFFICE1-3;  TEL.+78123277732, FAX  +78123277729.\n",
      "\"ARIVIST\", 198035, RUSSIA, SAINT-PETERSBURG, GAPSALSKAYA STR.,5, OFFICE1-3; TEL.+78123277732, FAX +78123277729. VOLOKNO@YAHOO.COM\n",
      "\"ARIVIST\", 198035, RUSSIA, SAINT-PETERSBURG. GAPSALSKAYA STR.,5. OFFICE1-3; TEL.+78123277732, FAX+78123277729. VOLOKNO@YAHOO.COM\n",
      "============\n",
      "\n",
      "\"AVANPORT\"  LLC INN: 7839413675 KPP: 783901001 190020, SAINT PETERSBURG, QUAY OF THE OBVODNY CHANNEL, 134-136-138, BUILD. 101, LIT. A\"\n",
      "\"AVANPORT\"  LLC INN: 7839413675 KPP: 783901001 190020, SAINT PETERSBURG, QUAY OF  THE OBVODNY CHANNEL,134-136-138,  BUILD. 101, LIT. A\"\n",
      "============\n",
      "\n",
      "\"ELECTROGROUP\" (OOO),190068.RUSSIA,SAINT-PETERSBURG,UL.BOLSHAYA PODYACHESKAYA,5,LIT.A,POM.4-N\n",
      "\"ELECTROGROUP\" (OOO),190068.RUSSIA,SAINT-PETERSBURG,UL.BOLSHAYA  PODYACHESKAYA,5,LIT.A,POM.4-N\n",
      "============\n",
      "\n",
      "\"EXPRESS CO. LTD.\" RUSSIA 155101 IVANOVSKAYA REGION, LEZHNEVSKIY RAION, D. KOROVIHA, CENTRALNAYA STR. 4ARUSSIA\n",
      "\"EXPRESS CO. LTD.\"  RUSSIA 155101 IVANOVSKAYA REGION, LEZHNEVSKIY RAION, D. KOROVIHA, CENTRALNAYA STR. 4ARUSSIA\n",
      "============\n",
      "\n",
      "\"FMG SHIPPING AND FORWARDING, LTD.\"190020, SAINT PETERSBURG,LIFLYANDSKAYA STR., 6,LITERA \"A\",BUILDING 31H,OFFICE 310 POST CODE:190020 TEL:+7 812 448 82 83 FAX:+7 812 448 04 9\n",
      "\"FMG SHIPPING AND FORWARDING, LTD.\"190020 ST.PETERSBURG, RUSSIA BUMAZHNAYA STR., 18, OFF. 310\n",
      "1/FMG SHIPPING AND FORWARDING LTD 190020, SAINT PETERSBURG, LIFLYANDSKAYA STR., 6, LITERA \"A\",\n",
      "1/FMG SHIPPING AND FORWARDING  LTD190020, SAINT PETERSBURG, LIFLYANDSKAYA STR., 6, LITERA \"A \",+++\n",
      "1/FMG SHIPPING AND FORWARDING LTD 190020, SAINT PETERSBURG, LIFLYANDSKAYA STR., 6, LITERA \"A\", BUILDING 31??, OFFICE 310\n",
      "1/FMG SHIPPING AND FORWARDING  LTD190020, SAINT PETERSBURG, LIFLYANDSKAYA  STR., 6, LITERA \"A\", BUILDING31H, +++\n",
      "1/FMG SHIPPING AND FORWARDING  LTD190020, SAINT PETERSBURG, LIFLYANDSKAYA STR., 6, LITERA A 2/<TORGOVIYSOYUZ>LENSOVETA +++\n",
      "1.FMG SHIPPING AND FORWARDING  LTD190020, SAINT PETERSBURG, LIFLYANDSKAYA STR., 6, LITERA \"A \",+++\n",
      "1.FMG SHIPPING AND FORWARDING  LTD190020, SAINT PETERSBURG, LIFLYANDSKAYA STR.,6,LITERA \"A\",BUILDING +++\n",
      "1.FMG SHIPPING AND FORWARDING LTD 190020, SAINT PETERSBURG, LIFLYANDSKAYA STR.,6,LITERA \"A\",BUILDING 31H,OFFICE 310 POST CODE:190020 TEL:+7812 448 82 83+\n",
      "1.FMG SHIPPING AND FORWARDING LTD 190020, SAINT PETERSBURG, LIFLYANDSKAYA STR.,6,LITERA \"A\",BUILDING 31H,OFFICE 310 POST CODE:190020 TEL:+7812 448 82 83++\n",
      "============\n",
      "\n",
      "\"KOBI-LIGHT\" SPOLKA KOMANDYTOWA UL.T.BOYA ZELENSKIEGO 25 35-105 RZESZOW,POLAND NIP:813-34-99-669\n",
      "\"KOBI-LIGHT\" SPOLKA KOMANDYTOWA UL.T.BOYA ZELENSKIEGO 25 35-105 RZESZOW,POLAND NIP:813-34-99-699\n",
      "============\n",
      "\n",
      "\"LIGA-IMPORT\" LTD DOROGA NA TURUHTANNIE OSTROVA, D.24, KORP.5, SAINT-PETERSBURG, 198096, RUSSIA\n",
      "\"LIGA-IMPORT\" LTD DOROGA NA TURUHTANNIE OSTROVA, D.24, KORP.5, SAINT-PETERSBURG, 198096, RUSSIA TEL/FAX:+7 (911) 812 89 88\n",
      "\"LIGA-IMPORT\" LTD DOROGA NA TURUHTANNIE OSTROVA, D. 24, KORP. 5, SAINT-PETERSBURG, 198096, RUSSIA TEL/FAX:+7 (911) 812 89 88\n",
      "============\n",
      "\n",
      "**********************************************************************\n",
      "\n",
      "\n",
      "\n"
     ]
    }
   ],
   "source": [
    "print_all(res_v, to_test)"
   ]
  },
  {
   "cell_type": "code",
   "execution_count": null,
   "metadata": {},
   "outputs": [],
   "source": []
  }
 ],
 "metadata": {
  "kernelspec": {
   "display_name": "Python 3",
   "language": "python",
   "name": "python3"
  },
  "language_info": {
   "codemirror_mode": {
    "name": "ipython",
    "version": 3
   },
   "file_extension": ".py",
   "mimetype": "text/x-python",
   "name": "python",
   "nbconvert_exporter": "python",
   "pygments_lexer": "ipython3",
   "version": "3.8.3"
  }
 },
 "nbformat": 4,
 "nbformat_minor": 4
}
