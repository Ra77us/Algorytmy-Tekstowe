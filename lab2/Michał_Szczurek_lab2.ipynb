{
 "cells": [
  {
   "cell_type": "markdown",
   "metadata": {},
   "source": [
    "# Michał Szczurek - lab 2"
   ]
  },
  {
   "cell_type": "markdown",
   "metadata": {},
   "source": [
    "### 1. Przygotowanie danych"
   ]
  },
  {
   "cell_type": "markdown",
   "metadata": {},
   "source": [
    "Do ostatniego tekstu dodano na koniec $ jako marker. W pozostałych rolę markera spełnia znak d."
   ]
  },
  {
   "cell_type": "code",
   "execution_count": 5,
   "metadata": {},
   "outputs": [],
   "source": [
    "f = open(\"1997_714_head.txt\", \"r\", encoding=\"UTF-8\")\n",
    "data = [\"bbbd\",\"aabbabd\",\"ababcd\",\"abcbccd\", f.read()]\n",
    "\n",
    "data[4] = data[4] + \"$\""
   ]
  },
  {
   "cell_type": "code",
   "execution_count": 6,
   "metadata": {},
   "outputs": [
    {
     "name": "stdout",
     "output_type": "stream",
     "text": [
      "['bbbd', 'aabbabd', 'ababcd', 'abcbccd', '\\n\\n\\n\\nDz.U. z 1998 r. Nr 144, poz. 930\\n                                       \\n                                       \\n                                       \\n                                       \\n                                    USTAWA\\n                          z dnia 20 listopada 1998 r.\\n                                       \\n         o zryczałtowanym podatku dochodowym od niektórych przychodów\\n                        osiąganych przez osoby fizyczne\\n                                       \\n                                  Rozdział 1\\n                                Przepisy ogólne\\n                                       \\n                                    Art. 1.\\nUstawa reguluje opodatkowanie zryczałtowanym podatkiem dochodowym niektórych\\nprzychodów (dochodów) osiąganych przez osoby fizyczne prowadzące pozarolniczą\\ndziałalność gospodarczą oraz przez osoby duchowne.\\n                                       \\n                                    Art. 2.\\n1. Osoby fizyczne osiągające przychody z pozarolniczej działalności\\n  gospodarczej opłacają zryczałtowany podatek dochodowy w formie:\\n   1) ryczałtu od przychodów ewidencjonowanych,\\n   2) karty podatkowej.\\n2. Osoby duchowne, prawnie uznanych wyznań, opłacają zryczałtowany podatek\\n  dochodowy od przychodów osób duchownych.\\n3. Wpływy z podatku dochodowego opłacanego w formie ryczałtu od przychodów\\n  ewidencjonowanych oraz zryczałtowanego podatku dochodowego od przychodów\\n  osób duchownych stanowią dochód budżetu państwa.\\n4. Wpływy z karty podatkowej stanowią dochody gmin.\\n                                       \\n                                    Art. 3.\\nPrzychodów (dochodów) opodatkowanych w formach zryczałtowanych nie łączy się z\\nprzychodami (dochodami) z innych źródeł podlegającymi opodatkowaniu na\\npodstawie ustawy z dnia 26 lipca 1991 r. o podatku dochodowym od osób\\nfizycznych (Dz. U. z 1993 r. Nr 90, poz. 416 i Nr 134, poz. 646, z 1994 r. Nr\\n43, poz. 163, Nr 90, poz. 419, Nr 113, poz. 547, Nr 123, poz. 602 i Nr 126,\\npoz. 626, z 1995 r. Nr 5, poz. 25 i Nr 133, poz. 654, z 1996 r. Nr 25, poz.\\n113, Nr 87, poz. 395, Nr 137, poz. 638, Nr 147, poz. 686 i Nr 156, poz. 776, z\\n1997 r. Nr 28, poz. 153, Nr 30, poz. 164, Nr 71, poz. 449, Nr 85, poz. 538, Nr\\n96, poz. 592, Nr 121, poz. 770, Nr 123, poz. 776, Nr 137, poz. 926, Nr 139,\\npoz. 932-934 i Nr 141, poz. 943 i 945 oraz z 1998 r. Nr 66, poz. 430, Nr 74,\\npoz. 471, Nr 108, poz. 685 i Nr 117, poz. 756), zwanej dalej \"ustawą o podatku\\ndochodowym\".\\n$']\n"
     ]
    }
   ],
   "source": [
    "print (data)"
   ]
  },
  {
   "cell_type": "markdown",
   "metadata": {},
   "source": [
    "### 2. Struktura Trie"
   ]
  },
  {
   "cell_type": "code",
   "execution_count": 7,
   "metadata": {},
   "outputs": [],
   "source": [
    "class Node:\n",
    "    def __init__(self, char, depth):\n",
    "        self.children = {}\n",
    "        self.char = char\n",
    "        self.depth = depth # used for giving node unique label, in order to draw tree plot (which did not work in the end ;))\n",
    "        # self.end = False if we want to have only suffixes in trie\n",
    "        \n",
    "    def add_child(self, char):\n",
    "        d[char] = Node(char)\n",
    "        \n",
    "    def has_child(self, char):\n",
    "        return char in self.children"
   ]
  },
  {
   "cell_type": "code",
   "execution_count": 8,
   "metadata": {},
   "outputs": [],
   "source": [
    "class Trie:\n",
    "    \n",
    "    def __init__(self,text):\n",
    "        self.root = Node(\"$\",0)\n",
    "        for i in range(len(text)-1,-1,-1):\n",
    "            self.add(text[i:])\n",
    "            #print(text[i:])\n",
    "            \n",
    "    def add(self, text):\n",
    "        i = 0\n",
    "        node = self.root\n",
    "        while i < len(text) and node.has_child(text[i]):\n",
    "            node = node.children[text[i]]\n",
    "            i += 1 \n",
    "        while i < len(text):\n",
    "            node.children[text[i]] = Node(text[i],node.depth + 1)\n",
    "            node = node.children[text[i]]\n",
    "            i += 1\n",
    "        node.end = True\n",
    "        \n",
    "    def contains(self,text):\n",
    "        i = 0\n",
    "        node = self.root\n",
    "        while i < len(text) and node.has_child(text[i]):\n",
    "            prev = node\n",
    "            node = node.children[text[i]]\n",
    "            i += 1 \n",
    "        return i == len(text) # and node.end == True"
   ]
  },
  {
   "cell_type": "markdown",
   "metadata": {},
   "source": [
    "### 3. Drzewo suffiksowe"
   ]
  },
  {
   "cell_type": "code",
   "execution_count": 9,
   "metadata": {},
   "outputs": [],
   "source": [
    "class Suffix_node:\n",
    "    def __init__(self, start, end):\n",
    "        self.start = start\n",
    "        self.end = end\n",
    "        self.children = {}\n",
    "        \n",
    "    def __repr__(self):\n",
    "        return f\"({self.start}, {self.end})\"\n",
    "    def __str__(self):\n",
    "        return f\"({self.start}, {self.end})\"\n",
    "    \n",
    "    def print(self):\n",
    "        for key, child in self.children.items():\n",
    "            print(child)\n",
    "        for key, child in self.children.items():\n",
    "            print(\"======\")\n",
    "            print(\"Children of: \" + str(child))\n",
    "            child.print()"
   ]
  },
  {
   "cell_type": "code",
   "execution_count": 10,
   "metadata": {},
   "outputs": [],
   "source": [
    "class Suffix_tree:\n",
    "    def __init__(self, text):\n",
    "        self.root = Suffix_node(-1, -2) # special values for root It is important that start > end for \"contains\" to work\n",
    "        self.text = text\n",
    "        for i in range(len(text)-1,-1,-1):\n",
    "            self.add(i, self.root)\n",
    "            # self.root.print() debbug\n",
    "            # print(\"=========================\")\n",
    "            \n",
    "    def add(self, curr_id, curr_node):\n",
    "        next_node = curr_node.children.get(self.text[curr_id])\n",
    "        \n",
    "        if next_node is None: # create new node representing text[i:]\n",
    "            new_node = Suffix_node(curr_id, len(self.text)-1)\n",
    "            curr_node.children[self.text[curr_id]] = new_node\n",
    "            return\n",
    "        \n",
    "        i = next_node.start\n",
    "        while i <= next_node.end and curr_id < len(self.text) and self.text[curr_id] == self.text[i]:\n",
    "            i += 1\n",
    "            curr_id += 1\n",
    "        \n",
    "        if curr_id == len(self.text): # whole new suffix is already represented\n",
    "            return # new suffix already in tree, nothing to do\n",
    "        \n",
    "        elif i == next_node.end + 1: # index out of nodes range\n",
    "            self.add(curr_id , next_node) # add remaining part of suffix to child\n",
    "            return\n",
    "        \n",
    "        else: # text[curr_id] != text[i], we need to split branch  \n",
    "            old_branch = Suffix_node(i, next_node.end)\n",
    "            old_branch.children = next_node.children\n",
    "            new_branch = Suffix_node(curr_id, len(self.text)-1)\n",
    "            next_node.end = i-1\n",
    "            next_node.children = {}\n",
    "            next_node.children[self.text[curr_id]] = new_branch\n",
    "            next_node.children[self.text[i]] = old_branch\n",
    "            return \n",
    "        \n",
    "    def contains(self, pattern, curr_node = None):\n",
    "        if curr_node == None:\n",
    "            curr_node = self.root\n",
    "            \n",
    "        i = 0\n",
    "        while i + curr_node.start <= curr_node.end and i < len(pattern):\n",
    "            if self.text[curr_node.start + i] != pattern[i]:\n",
    "                return False\n",
    "            else:\n",
    "                i += 1\n",
    "                \n",
    "        if i == len(pattern):\n",
    "            return True\n",
    "        \n",
    "        else: # search in child\n",
    "            next_node = curr_node.children.get(pattern[i])\n",
    "            if next_node == None:\n",
    "                return False\n",
    "            return self.contains(pattern[i:], next_node)"
   ]
  },
  {
   "cell_type": "markdown",
   "metadata": {},
   "source": [
    "### 4. Testowanie poprawności algorytmów"
   ]
  },
  {
   "cell_type": "markdown",
   "metadata": {},
   "source": [
    "#### 4.0 Uniwersalna funkcja testująca"
   ]
  },
  {
   "cell_type": "code",
   "execution_count": 11,
   "metadata": {},
   "outputs": [],
   "source": [
    "def test(trie, suffix, expected_true, expected_false):\n",
    "    for pattern in expected_true:\n",
    "        if trie.contains(pattern) is False:\n",
    "            print(\"Error FALSE in trie for \" + pattern)\n",
    "            return False\n",
    "        if suffix.contains(pattern) is False:\n",
    "            print(\"Error FALSE in suffix tree for \" + pattern)\n",
    "            return False\n",
    "        \n",
    "    for pattern in expected_false:\n",
    "        if trie.contains(pattern) is True:\n",
    "            print(\"Error TRUE in trie for \" + pattern)\n",
    "            return False\n",
    "        if suffix.contains(pattern) is True:\n",
    "            print(\"Error TRUE in suffix tree for \" + pattern)\n",
    "            return False  \n",
    "    print(\"OK\")\n",
    "    return True"
   ]
  },
  {
   "cell_type": "markdown",
   "metadata": {},
   "source": [
    "#### 4.1 Testy dla 1. tekstu:"
   ]
  },
  {
   "cell_type": "code",
   "execution_count": 12,
   "metadata": {},
   "outputs": [
    {
     "name": "stdout",
     "output_type": "stream",
     "text": [
      "OK\n"
     ]
    },
    {
     "data": {
      "text/plain": [
       "True"
      ]
     },
     "execution_count": 12,
     "metadata": {},
     "output_type": "execute_result"
    }
   ],
   "source": [
    "a_trie = Trie(data[0])\n",
    "a_suffix = Suffix_tree(data[0])\n",
    "expected_true = [\"bb\", \"bd\", \"bbb\",\"bbbd\",\"b\"]\n",
    "expected_false = [\"a\",\"db\",\"bbbbbbb\"]\n",
    "test(a_trie, a_suffix , expected_true, expected_false)\n"
   ]
  },
  {
   "cell_type": "markdown",
   "metadata": {},
   "source": [
    "#### 4.2 Testy dla 2. tekstu:"
   ]
  },
  {
   "cell_type": "code",
   "execution_count": 13,
   "metadata": {
    "scrolled": false
   },
   "outputs": [
    {
     "name": "stdout",
     "output_type": "stream",
     "text": [
      "OK\n"
     ]
    },
    {
     "data": {
      "text/plain": [
       "True"
      ]
     },
     "execution_count": 13,
     "metadata": {},
     "output_type": "execute_result"
    }
   ],
   "source": [
    "b_trie = Trie(data[1])\n",
    "b_suffix = Suffix_tree(data[1])\n",
    "expected_true = [data[1][i:j] for i in range(len(data[1])) for j in range(len(data[1]))]\n",
    "expected_false = [\"aaa\",\"db\",\"bbbbbbb\", \"aba\"]\n",
    "test(b_trie, b_suffix , expected_true, expected_false)"
   ]
  },
  {
   "cell_type": "markdown",
   "metadata": {},
   "source": [
    "#### 4.3 Testy dla 3. tekstu:"
   ]
  },
  {
   "cell_type": "code",
   "execution_count": 14,
   "metadata": {},
   "outputs": [
    {
     "name": "stdout",
     "output_type": "stream",
     "text": [
      "OK\n"
     ]
    },
    {
     "data": {
      "text/plain": [
       "True"
      ]
     },
     "execution_count": 14,
     "metadata": {},
     "output_type": "execute_result"
    }
   ],
   "source": [
    "c_trie = Trie(data[2])\n",
    "c_suffix = Suffix_tree(data[2])\n",
    "expected_true = [data[2][i:j] for i in range(len(data[2])) for j in range(len(data[2]))]\n",
    "expected_false = [\"aaa\",\"db\",\"bbb\", \"abaa\", \"dc\", \"baba\"]\n",
    "test(c_trie, c_suffix , expected_true, expected_false)"
   ]
  },
  {
   "cell_type": "markdown",
   "metadata": {},
   "source": [
    "#### 4.4 Testy dla 4. tekstu:"
   ]
  },
  {
   "cell_type": "code",
   "execution_count": 15,
   "metadata": {},
   "outputs": [
    {
     "name": "stdout",
     "output_type": "stream",
     "text": [
      "OK\n"
     ]
    },
    {
     "data": {
      "text/plain": [
       "True"
      ]
     },
     "execution_count": 15,
     "metadata": {},
     "output_type": "execute_result"
    }
   ],
   "source": [
    "d_trie = Trie(data[3])\n",
    "d_suffix = Suffix_tree(data[3])\n",
    "expected_true = [data[3][i:j] for i in range(len(data[3])) for j in range(len(data[3]))]\n",
    "expected_false = [\"aaa\",\"db\",\"bbb\", \"aba\", \"dc\", \"baba\", \"cccc\"]\n",
    "test(d_trie, d_suffix , expected_true, expected_false)"
   ]
  },
  {
   "cell_type": "markdown",
   "metadata": {},
   "source": [
    "#### 4.5 Testy dla 5. tekstu:"
   ]
  },
  {
   "cell_type": "code",
   "execution_count": 16,
   "metadata": {},
   "outputs": [
    {
     "name": "stdout",
     "output_type": "stream",
     "text": [
      "OK\n"
     ]
    },
    {
     "data": {
      "text/plain": [
       "True"
      ]
     },
     "execution_count": 16,
     "metadata": {},
     "output_type": "execute_result"
    }
   ],
   "source": [
    "e_trie = Trie(data[4])\n",
    "e_suffix = Suffix_tree(data[4])\n",
    "expected_true = [\"anych oraz zryczałtowanego podatku dochodowego od przychodów\",\n",
    "                 \"Nr 133, poz. 654, z 1996 r. Nr 25,\",\n",
    "                 \"20 listopada 1998 r.\",\n",
    "                 \"a\"]\n",
    "expected_false = [\"aaa\",\"db\",\"bbb\", \"aba\", \"dc\", \"baba\", \"cccc\"]\n",
    "test(e_trie, e_suffix , expected_true, expected_false)"
   ]
  },
  {
   "cell_type": "markdown",
   "metadata": {},
   "source": [
    "### 4. Badanie czasów budowy struktur"
   ]
  },
  {
   "cell_type": "code",
   "execution_count": 17,
   "metadata": {},
   "outputs": [
    {
     "name": "stdout",
     "output_type": "stream",
     "text": [
      "TESTY DLA DRZEWA TRIE\n",
      "\n",
      "Test prędkości dla 1. tekstu\n",
      "8.63 µs ± 500 ns per loop (mean ± std. dev. of 7 runs, 100000 loops each)\n",
      "Test prędkości dla 2. tekstu\n",
      "21.8 µs ± 1.6 µs per loop (mean ± std. dev. of 7 runs, 10000 loops each)\n",
      "Test prędkości dla 3. tekstu\n",
      "19.3 µs ± 1.83 µs per loop (mean ± std. dev. of 7 runs, 100000 loops each)\n",
      "Test prędkości dla 4. tekstu\n",
      "24.9 µs ± 1.72 µs per loop (mean ± std. dev. of 7 runs, 10000 loops each)\n",
      "Test prędkości dla 5. tekstu\n",
      "3.07 s ± 139 ms per loop (mean ± std. dev. of 7 runs, 1 loop each)\n"
     ]
    }
   ],
   "source": [
    "print(\"TESTY DLA DRZEWA TRIE\\n\")\n",
    "for i in range(len(data)):\n",
    "    print(f\"Test prędkości dla {i+1}. tekstu\")\n",
    "    %timeit Trie(data[i])"
   ]
  },
  {
   "cell_type": "code",
   "execution_count": 18,
   "metadata": {},
   "outputs": [
    {
     "name": "stdout",
     "output_type": "stream",
     "text": [
      "TESTY DLA DRZEWA SUFIKSOWEGO\n",
      "\n",
      "Test prędkości dla 1. tekstu\n",
      "7.38 µs ± 272 ns per loop (mean ± std. dev. of 7 runs, 100000 loops each)\n",
      "Test prędkości dla 2. tekstu\n",
      "13.1 µs ± 1.3 µs per loop (mean ± std. dev. of 7 runs, 100000 loops each)\n",
      "Test prędkości dla 3. tekstu\n",
      "9.6 µs ± 384 ns per loop (mean ± std. dev. of 7 runs, 100000 loops each)\n",
      "Test prędkości dla 4. tekstu\n",
      "11.1 µs ± 530 ns per loop (mean ± std. dev. of 7 runs, 100000 loops each)\n",
      "Test prędkości dla 5. tekstu\n",
      "25.7 ms ± 936 µs per loop (mean ± std. dev. of 7 runs, 10 loops each)\n"
     ]
    }
   ],
   "source": [
    "print(\"TESTY DLA DRZEWA SUFIKSOWEGO\\n\")\n",
    "for i in range(len(data)):\n",
    "    print(f\"Test prędkości dla {i+1}. tekstu\")\n",
    "    %timeit Suffix_tree(data[i])"
   ]
  },
  {
   "cell_type": "markdown",
   "metadata": {},
   "source": [
    "Z powyższych testów wynika, że czas potrzebny na stworzenie drzewa sufiksowego jest istotnie mniejszy od czasu budowy drzewa Trie pomimo takiej samej złozoności teoretycznej.\n",
    "Ponadto warto zwrócić, uwagę, na fakt, że drzewa sufiksowe zajmują istotnie mniej pamięci."
   ]
  }
 ],
 "metadata": {
  "kernelspec": {
   "display_name": "Python 3",
   "language": "python",
   "name": "python3"
  },
  "language_info": {
   "codemirror_mode": {
    "name": "ipython",
    "version": 3
   },
   "file_extension": ".py",
   "mimetype": "text/x-python",
   "name": "python",
   "nbconvert_exporter": "python",
   "pygments_lexer": "ipython3",
   "version": "3.8.3"
  }
 },
 "nbformat": 4,
 "nbformat_minor": 4
}
