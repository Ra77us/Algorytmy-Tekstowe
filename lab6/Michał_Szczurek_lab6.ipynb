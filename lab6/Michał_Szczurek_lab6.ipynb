{
 "cells": [
  {
   "cell_type": "markdown",
   "metadata": {},
   "source": [
    "# Michał Szczurek lab 6"
   ]
  },
  {
   "cell_type": "code",
   "execution_count": 1,
   "metadata": {},
   "outputs": [],
   "source": [
    "from collections import deque\n",
    "import numpy as np\n",
    "import cv2\n",
    "import matplotlib.pyplot as plt\n",
    "import time\n",
    "from timeit import timeit\n",
    "import random, string"
   ]
  },
  {
   "cell_type": "markdown",
   "metadata": {},
   "source": [
    "  ### 1. Zaimplementuj algorytm wyszukiwania wzorca 2-wymiarowego"
   ]
  },
  {
   "cell_type": "code",
   "execution_count": 2,
   "metadata": {},
   "outputs": [],
   "source": [
    "class Node:\n",
    "    def __init__(self, char, parent, node_id,  accepting):\n",
    "        self.children = {}\n",
    "        self.accepting = accepting\n",
    "        self.char = char\n",
    "        self.id = node_id\n",
    "        self.parent = parent\n",
    "        self.fail_link = None\n",
    "        \n",
    "    def add_child(self, char):\n",
    "        d[char] = Node(char)\n",
    "        \n",
    "    def has_child(self, char):\n",
    "        return char in self.children\n",
    "    \n",
    "    def __str__(self):\n",
    "        return str(self.char) + \" \" + str(self.id) + \" \" + str(self.accepting)"
   ]
  },
  {
   "cell_type": "code",
   "execution_count": 3,
   "metadata": {},
   "outputs": [],
   "source": [
    "class Automaton:\n",
    "    \n",
    "    def __init__(self, patterns):\n",
    "        self.root = Node(\"$\", None, 0, None)\n",
    "        self.next_id = 1\n",
    "        self.pattern_dict = {} # to store patterns ids\n",
    "        self.patterns = patterns\n",
    "        for i, p in enumerate(patterns):\n",
    "            self.add(i, p)\n",
    "        self.add_fail_links()\n",
    "        self.transform()\n",
    "        \n",
    "    def add(self, index, text):\n",
    "        i = 0\n",
    "        node = self.root\n",
    "        while i < len(text) and node.has_child(text[i]):\n",
    "            node = node.children[text[i]]\n",
    "            i += 1 \n",
    "        while i < len(text):\n",
    "            node.children[text[i]] = Node(text[i], node, self.next_id, index if i == len(text) - 1 else None)\n",
    "            if i == len(text) - 1:\n",
    "                self.pattern_dict[text] = index\n",
    "            node = node.children[text[i]]\n",
    "            i += 1\n",
    "            self.next_id +=1\n",
    "\n",
    "    \n",
    "    def add_fail_links(self):\n",
    "        que = deque()\n",
    "        for (key, node) in self.root.children.items():\n",
    "            que.append(node)\n",
    "            \n",
    "        # first level fail links\n",
    "        while len(que) > 0:         \n",
    "            curr = que.popleft()\n",
    "            if curr.parent is not self.root:\n",
    "                break\n",
    "            for node in curr.children.values():\n",
    "                que.append(node)\n",
    "            curr.fail_link = self.root\n",
    "        else: # while's else - Trie has only 1 level \n",
    "            curr = None\n",
    "        \n",
    "        # other fail links\n",
    "        while curr:\n",
    "            # add children for later\n",
    "            for node in curr.children.values():\n",
    "                que.append(node)\n",
    "            \n",
    "            # build fail link\n",
    "            char = curr.char\n",
    "            prev = curr.parent.fail_link\n",
    "\n",
    "            while char not in prev.children and prev is not self.root:\n",
    "                prev = prev.fail_link\n",
    "            # \"joker\" from root case\n",
    "            if prev is self.root and char not in self.root.children:\n",
    "                curr.fail_link = self.root\n",
    "            else: \n",
    "                curr.fail_link = prev.children[char]\n",
    "\n",
    "            if len(que) > 0:\n",
    "                curr = que.popleft()\n",
    "            else:\n",
    "                curr = None\n",
    "                \n",
    "                \n",
    "    def transform(self):\n",
    "        \"\"\"Takes tree with fail links and returns tree with 'shortcut' edges\"\"\"      \n",
    "        que = deque()\n",
    "        for node in self.root.children.values():\n",
    "            que.append(node)  \n",
    "        while len(que) > 0:     \n",
    "            curr = que.popleft()\n",
    "            for node in curr.children.values():\n",
    "                que.append(node)\n",
    "            for char, child in curr.fail_link.children.items():\n",
    "                if char not in curr.children:\n",
    "                    curr.children[char] = child\n",
    "\n",
    "    def search(self, text):\n",
    "        res = [-1 for _ in text]\n",
    "        state = self.root\n",
    "        for i, char in enumerate(text):\n",
    "            if char not in state.children:\n",
    "                state = self.root\n",
    "            else:\n",
    "                state = state.children[char]\n",
    "                if state.accepting != None:\n",
    "                    res[i] = state.accepting\n",
    "        return res        "
   ]
  },
  {
   "cell_type": "code",
   "execution_count": 4,
   "metadata": {},
   "outputs": [],
   "source": [
    "def search_2d(text, patterns):\n",
    "    \"\"\"Returns coordinates of lower right symbol of pattern\"\"\"\n",
    "    pattern_set = set(patterns)\n",
    "    automaton_1d = Automaton(pattern_set)\n",
    "    res_1d = [automaton_1d.search(line) for line in text]\n",
    "    res_1d = np.array(res_1d).transpose()\n",
    "    pattern = tuple([automaton_1d.pattern_dict[p] for p in patterns]) # pattern made of patterns using ids\n",
    "    automaton_2d = Automaton([pattern])\n",
    "    res_2d = [automaton_2d.search(line) for line in res_1d]\n",
    "    res = []\n",
    "    for i in range(len(res_2d)):\n",
    "        for j in range(len(res_2d[i])):\n",
    "            if res_2d[i][j] != -1:\n",
    "                res.append((j, i))\n",
    "    return res"
   ]
  },
  {
   "cell_type": "markdown",
   "metadata": {},
   "source": [
    "###  2. Znajdź w załączonym pliku \"haystack.txt\" wszyskie sytuacje, gdy taka sama litera występuje na tej samej pozycji w dwóch kolejnych linijkach. Zwróć uwagę, na nierówną długość linii w pliku."
   ]
  },
  {
   "cell_type": "markdown",
   "metadata": {},
   "source": [
    "Funkcja dodająca do tekstu meta-znaki, tak by tekst był prostokątny"
   ]
  },
  {
   "cell_type": "code",
   "execution_count": 5,
   "metadata": {},
   "outputs": [],
   "source": [
    "def parse_text(text, null_symbol='$'):\n",
    "    max_len = 0\n",
    "    for l in text:\n",
    "        max_len = max(max_len, len(l))\n",
    "    res = []\n",
    "    for line in text:\n",
    "        res.append(line + str((max_len - len(line)) * null_symbol))\n",
    "    return res"
   ]
  },
  {
   "cell_type": "code",
   "execution_count": 6,
   "metadata": {
    "scrolled": false
   },
   "outputs": [],
   "source": [
    "with open(\"haystack.txt\", 'r', encoding='utf-8') as file:\n",
    "    text = file.readlines()"
   ]
  },
  {
   "cell_type": "markdown",
   "metadata": {},
   "source": [
    "Wyszukanie sytuacji z polecenia"
   ]
  },
  {
   "cell_type": "code",
   "execution_count": 7,
   "metadata": {},
   "outputs": [
    {
     "name": "stdout",
     "output_type": "stream",
     "text": [
      "'\\n' Liczba sytuacji: 1 : [(36, 79)]\n",
      "' ' Liczba sytuacji: 158 : [(28, 1), (38, 1), (63, 1), (2, 2), (3, 2), (60, 2), (61, 2), (20, 3), (21, 3), (28, 3), (29, 3), (38, 3), (28, 5), (38, 5), (5, 7), (6, 7), (11, 7), (38, 7), (39, 7), (58, 7), (25, 8), (34, 8), (41, 8), (56, 8), (6, 9), (1, 10), (2, 10), (53, 10), (11, 11), (16, 11), (21, 11), (47, 12), (58, 12), (23, 13), (45, 13), (64, 13), (60, 14), (32, 15), (33, 15), (41, 15), (42, 15), (62, 15), (25, 16), (69, 16), (70, 16), (33, 17), (61, 18), (33, 19), (23, 20), (24, 20), (25, 20), (46, 20), (59, 20), (52, 21), (57, 21), (23, 22), (81, 22), (31, 23), (48, 23), (49, 23), (24, 24), (25, 24), (77, 24), (9, 25), (38, 26), (48, 26), (71, 26), (80, 26), (1, 27), (82, 27), (31, 29), (54, 29), (57, 29), (63, 29), (80, 29), (23, 30), (64, 31), (19, 32), (46, 32), (47, 32), (55, 32), (72, 32), (36, 33), (42, 33), (43, 33), (58, 33), (2, 34), (55, 34), (44, 35), (45, 35), (49, 35), (55, 36), (24, 38), (21, 39), (72, 40), (4, 41), (23, 42), (57, 42), (59, 43), (4, 44), (25, 44), (34, 44), (69, 44), (6, 45), (7, 45), (41, 46), (55, 46), (79, 46), (10, 48), (61, 48), (64, 48), (22, 49), (82, 50), (21, 51), (22, 51), (31, 51), (63, 51), (60, 52), (61, 52), (32, 55), (49, 55), (31, 57), (64, 57), (1, 58), (15, 58), (16, 58), (24, 58), (47, 58), (22, 59), (49, 59), (71, 59), (14, 60), (24, 60), (61, 60), (62, 60), (63, 60), (45, 61), (42, 62), (54, 62), (70, 62), (71, 62), (25, 63), (38, 63), (81, 63), (5, 64), (36, 64), (29, 66), (59, 67), (43, 68), (22, 69), (35, 69), (41, 69), (33, 72), (1, 73), (47, 75), (21, 76), (61, 76), (23, 77)]\n",
      "'\"' Liczba sytuacji: 0 : []\n",
      "'(' Liczba sytuacji: 0 : []\n",
      "')' Liczba sytuacji: 0 : []\n",
      "',' Liczba sytuacji: 0 : []\n",
      "'-' Liczba sytuacji: 0 : []\n",
      "'.' Liczba sytuacji: 0 : []\n",
      "'0' Liczba sytuacji: 0 : []\n",
      "'1' Liczba sytuacji: 0 : []\n",
      "'3' Liczba sytuacji: 0 : []\n",
      "'5' Liczba sytuacji: 0 : []\n",
      "'6' Liczba sytuacji: 0 : []\n",
      "'7' Liczba sytuacji: 0 : []\n",
      "':' Liczba sytuacji: 0 : []\n",
      "';' Liczba sytuacji: 0 : []\n",
      "'A' Liczba sytuacji: 0 : []\n",
      "'B' Liczba sytuacji: 0 : []\n",
      "'C' Liczba sytuacji: 0 : []\n",
      "'D' Liczba sytuacji: 0 : []\n",
      "'E' Liczba sytuacji: 0 : []\n",
      "'F' Liczba sytuacji: 0 : []\n",
      "'G' Liczba sytuacji: 0 : []\n",
      "'I' Liczba sytuacji: 0 : []\n",
      "'L' Liczba sytuacji: 0 : []\n",
      "'M' Liczba sytuacji: 0 : []\n",
      "'N' Liczba sytuacji: 0 : []\n",
      "'O' Liczba sytuacji: 0 : []\n",
      "'P' Liczba sytuacji: 0 : []\n",
      "'Q' Liczba sytuacji: 0 : []\n",
      "'R' Liczba sytuacji: 0 : []\n",
      "'S' Liczba sytuacji: 0 : []\n",
      "'T' Liczba sytuacji: 0 : []\n",
      "'U' Liczba sytuacji: 0 : []\n",
      "'V' Liczba sytuacji: 0 : []\n",
      "'W' Liczba sytuacji: 0 : []\n",
      "'X' Liczba sytuacji: 0 : []\n",
      "'a' Liczba sytuacji: 28 : [(65, 2), (38, 4), (21, 6), (57, 11), (53, 12), (54, 12), (65, 14), (77, 21), (65, 22), (60, 24), (4, 30), (66, 35), (70, 35), (58, 36), (59, 36), (80, 37), (78, 42), (54, 48), (32, 50), (79, 59), (6, 60), (78, 61), (7, 63), (34, 66), (29, 69), (32, 73), (77, 74), (1, 82)]\n",
      "'b' Liczba sytuacji: 0 : []\n",
      "'c' Liczba sytuacji: 6 : [(42, 0), (69, 0), (14, 10), (83, 41), (11, 45), (4, 54)]\n",
      "'d' Liczba sytuacji: 1 : [(38, 19)]\n",
      "'e' Liczba sytuacji: 48 : [(11, 1), (15, 2), (25, 3), (18, 6), (77, 6), (78, 6), (81, 6), (2, 8), (21, 10), (41, 11), (82, 14), (70, 15), (68, 17), (73, 23), (41, 26), (19, 27), (74, 27), (52, 31), (43, 36), (30, 38), (72, 38), (16, 43), (30, 43), (69, 46), (83, 47), (38, 48), (43, 48), (71, 49), (48, 50), (59, 50), (47, 52), (23, 53), (58, 54), (59, 54), (42, 57), (22, 61), (1, 63), (11, 64), (8, 65), (25, 65), (79, 65), (64, 66), (29, 67), (66, 69), (67, 72), (29, 73), (60, 73), (5, 77)]\n",
      "'f' Liczba sytuacji: 2 : [(78, 1), (31, 59)]\n",
      "'g' Liczba sytuacji: 0 : []\n",
      "'h' Liczba sytuacji: 4 : [(28, 2), (38, 2), (74, 12), (57, 31)]\n",
      "'i' Liczba sytuacji: 13 : [(32, 0), (2, 5), (74, 13), (78, 13), (56, 17), (32, 31), (45, 33), (9, 37), (61, 45), (69, 51), (20, 55), (10, 60), (53, 69)]\n",
      "'j' Liczba sytuacji: 0 : []\n",
      "'k' Liczba sytuacji: 0 : []\n",
      "'l' Liczba sytuacji: 5 : [(34, 45), (54, 45), (47, 61), (29, 72), (42, 77)]\n",
      "'m' Liczba sytuacji: 5 : [(45, 0), (17, 5), (35, 40), (35, 60), (29, 70)]\n",
      "'n' Liczba sytuacji: 15 : [(32, 1), (2, 9), (57, 13), (36, 18), (65, 29), (52, 32), (55, 33), (68, 35), (20, 37), (68, 40), (15, 54), (21, 56), (68, 57), (22, 62), (1, 83)]\n",
      "'o' Liczba sytuacji: 21 : [(42, 1), (54, 1), (51, 2), (53, 8), (80, 10), (34, 11), (28, 17), (29, 17), (34, 26), (11, 27), (33, 34), (7, 38), (8, 38), (72, 42), (59, 45), (82, 52), (45, 55), (31, 58), (16, 60), (6, 66), (5, 75)]\n",
      "'p' Liczba sytuacji: 2 : [(42, 18), (29, 71)]\n",
      "'q' Liczba sytuacji: 0 : []\n",
      "'r' Liczba sytuacji: 21 : [(2, 4), (53, 5), (34, 10), (8, 13), (18, 14), (16, 18), (70, 22), (44, 25), (68, 29), (61, 30), (34, 37), (48, 37), (7, 39), (63, 39), (56, 40), (47, 42), (7, 50), (20, 54), (21, 54), (29, 65), (32, 70)]\n",
      "'s' Liczba sytuacji: 19 : [(55, 0), (50, 14), (9, 21), (72, 24), (80, 24), (38, 34), (46, 34), (68, 37), (71, 41), (47, 44), (29, 45), (5, 49), (53, 53), (30, 56), (31, 56), (4, 57), (10, 58), (4, 63), (41, 63)]\n",
      "'t' Liczba sytuacji: 41 : [(38, 0), (51, 0), (17, 3), (72, 3), (73, 3), (24, 4), (25, 4), (70, 5), (2, 6), (1, 7), (2, 7), (23, 8), (36, 10), (73, 10), (55, 11), (16, 12), (5, 14), (31, 16), (78, 22), (5, 23), (29, 23), (47, 24), (8, 29), (28, 31), (20, 33), (52, 33), (60, 33), (4, 37), (42, 45), (59, 49), (29, 52), (56, 54), (14, 55), (62, 56), (73, 59), (53, 61), (68, 71), (42, 73), (9, 75), (60, 75), (59, 78)]\n",
      "'u' Liczba sytuacji: 0 : []\n",
      "'v' Liczba sytuacji: 0 : []\n",
      "'w' Liczba sytuacji: 2 : [(2, 3), (22, 70)]\n",
      "'x' Liczba sytuacji: 1 : [(29, 68)]\n",
      "'y' Liczba sytuacji: 1 : [(45, 5)]\n",
      "'z' Liczba sytuacji: 0 : []\n",
      "W sumie 394 sytuacji\n"
     ]
    }
   ],
   "source": [
    "letters = set()\n",
    "for line in text:\n",
    "    for c in line:\n",
    "        letters.add(c)\n",
    "\n",
    "total = 0\n",
    "letters = sorted(letters)\n",
    "for letter in letters:\n",
    "    res = search_2d(parse_text(text), [letter, letter])\n",
    "    print(f\"{repr(letter)} Liczba sytuacji: {len(res)} : {res}\")\n",
    "    total += len(res)\n",
    "print(f\"W sumie {total} sytuacji\")"
   ]
  },
  {
   "cell_type": "markdown",
   "metadata": {},
   "source": [
    "### 3. Znajdź wszystkie wystąpienia \"th\" oraz \"t h\" w dwóch kolejnych liniach na tej samej pozycji."
   ]
  },
  {
   "cell_type": "code",
   "execution_count": 8,
   "metadata": {},
   "outputs": [
    {
     "data": {
      "text/plain": [
       "[]"
      ]
     },
     "execution_count": 8,
     "metadata": {},
     "output_type": "execute_result"
    }
   ],
   "source": [
    "search_2d(parse_text(text), ['th', 'th'])"
   ]
  },
  {
   "cell_type": "code",
   "execution_count": 9,
   "metadata": {
    "scrolled": false
   },
   "outputs": [
    {
     "data": {
      "text/plain": [
       "[(38, 2)]"
      ]
     },
     "execution_count": 9,
     "metadata": {},
     "output_type": "execute_result"
    }
   ],
   "source": [
    "search_2d(parse_text(text), ['t h', 't h'])"
   ]
  },
  {
   "cell_type": "markdown",
   "metadata": {},
   "source": [
    " ### 4. Wybierz przynajmniej 3 litery (małe). Znajdź wszystkie wystąpienia tej litery w załączonym pliku \"haystack.png\""
   ]
  },
  {
   "cell_type": "markdown",
   "metadata": {},
   "source": [
    "Główna funkcja realizująca polecenie"
   ]
  },
  {
   "cell_type": "code",
   "execution_count": 10,
   "metadata": {},
   "outputs": [],
   "source": [
    "def search_image(letter_img, source_img, print_positions=False):\n",
    "    # We want immutable type to use dicts later on\n",
    "    letter = []\n",
    "    for line in letter_img:\n",
    "        letter.append(tuple(line))\n",
    "    res =  search_2d(source_img, letter)\n",
    "    if print_positions:\n",
    "        print(f\"Znaleziono {len(res)} dopasowań na pozycjach {res}\")\n",
    "    else:\n",
    "        print(f\"Znaleziono {len(res)} dopasowań\")"
   ]
  },
  {
   "cell_type": "markdown",
   "metadata": {},
   "source": [
    "Funkcja wyszukująca wzorzec zw tekście (.txt) weryfikująca poprawność wyszukiwania obrazów"
   ]
  },
  {
   "cell_type": "code",
   "execution_count": 11,
   "metadata": {},
   "outputs": [],
   "source": [
    "def get_pattern_count(text, pattern):\n",
    "    res = len(search_2d(text, [pattern]))\n",
    "    print(\"Całkowita liczba dopasowań:\", res )"
   ]
  },
  {
   "cell_type": "markdown",
   "metadata": {},
   "source": [
    "Wczytanie obrazu"
   ]
  },
  {
   "cell_type": "code",
   "execution_count": 12,
   "metadata": {},
   "outputs": [
    {
     "data": {
      "image/png": "[encoded data removed]",
      "text/plain": [
       "<Figure size 432x288 with 1 Axes>"
      ]
     },
     "metadata": {
      "needs_background": "light"
     },
     "output_type": "display_data"
    }
   ],
   "source": [
    "source_img = cv2.imread(\"haystack.png\", cv2.IMREAD_GRAYSCALE)\n",
    "plt.imshow(source_img ,  cmap='gray')\n",
    "plt.show()"
   ]
  },
  {
   "cell_type": "markdown",
   "metadata": {},
   "source": [
    "Realizacja polecenia"
   ]
  },
  {
   "cell_type": "code",
   "execution_count": 13,
   "metadata": {},
   "outputs": [
    {
     "data": {
      "image/png": "[encoded data removed]",
      "text/plain": [
       "<Figure size 432x288 with 1 Axes>"
      ]
     },
     "metadata": {
      "needs_background": "light"
     },
     "output_type": "display_data"
    }
   ],
   "source": [
    "pattern_a = source_img[37:47,263:272]\n",
    "plt.imshow(pattern_a ,  cmap='gray')\n",
    "plt.show()"
   ]
  },
  {
   "cell_type": "code",
   "execution_count": 14,
   "metadata": {
    "scrolled": false
   },
   "outputs": [
    {
     "name": "stdout",
     "output_type": "stream",
     "text": [
      "Znaleziono 397 dopasowań\n"
     ]
    }
   ],
   "source": [
    "search_image(pattern_a, source_img)"
   ]
  },
  {
   "cell_type": "code",
   "execution_count": 15,
   "metadata": {},
   "outputs": [
    {
     "name": "stdout",
     "output_type": "stream",
     "text": [
      "Całkowita liczba dopasowań: 397\n"
     ]
    }
   ],
   "source": [
    "get_pattern_count(text, 'a')"
   ]
  },
  {
   "cell_type": "code",
   "execution_count": 16,
   "metadata": {},
   "outputs": [
    {
     "data": {
      "image/png": "[encoded data removed]",
      "text/plain": [
       "<Figure size 432x288 with 1 Axes>"
      ]
     },
     "metadata": {
      "needs_background": "light"
     },
     "output_type": "display_data"
    }
   ],
   "source": [
    "pattern_c = source_img[213:223,165:173]\n",
    "plt.imshow(pattern_c ,  cmap='gray')\n",
    "plt.show()"
   ]
  },
  {
   "cell_type": "code",
   "execution_count": 17,
   "metadata": {},
   "outputs": [
    {
     "name": "stdout",
     "output_type": "stream",
     "text": [
      "Znaleziono 213 dopasowań\n"
     ]
    }
   ],
   "source": [
    "search_image(pattern_c, source_img)"
   ]
  },
  {
   "cell_type": "code",
   "execution_count": 18,
   "metadata": {},
   "outputs": [
    {
     "name": "stdout",
     "output_type": "stream",
     "text": [
      "Całkowita liczba dopasowań: 213\n"
     ]
    }
   ],
   "source": [
    "get_pattern_count(text, 'c')"
   ]
  },
  {
   "cell_type": "code",
   "execution_count": 19,
   "metadata": {},
   "outputs": [
    {
     "data": {
      "image/png": "[encoded data removed]",
      "text/plain": [
       "<Figure size 432x288 with 1 Axes>"
      ]
     },
     "metadata": {
      "needs_background": "light"
     },
     "output_type": "display_data"
    }
   ],
   "source": [
    "pattern_m = source_img[257:267,133:148]\n",
    "plt.imshow(pattern_m ,  cmap='gray')\n",
    "plt.show()"
   ]
  },
  {
   "cell_type": "code",
   "execution_count": 20,
   "metadata": {},
   "outputs": [
    {
     "name": "stdout",
     "output_type": "stream",
     "text": [
      "Znaleziono 131 dopasowań\n"
     ]
    }
   ],
   "source": [
    "search_image(pattern_m, source_img)"
   ]
  },
  {
   "cell_type": "code",
   "execution_count": 21,
   "metadata": {},
   "outputs": [
    {
     "name": "stdout",
     "output_type": "stream",
     "text": [
      "Całkowita liczba dopasowań: 131\n"
     ]
    }
   ],
   "source": [
    "get_pattern_count(text, 'm')"
   ]
  },
  {
   "cell_type": "markdown",
   "metadata": {},
   "source": [
    "###  5. Znajdź wszystkie wystąpienia słowa \"p a t t e r n\" w haystack.png."
   ]
  },
  {
   "cell_type": "code",
   "execution_count": 22,
   "metadata": {},
   "outputs": [
    {
     "data": {
      "image/png": "[encoded data removed]",
      "text/plain": [
       "<Figure size 432x288 with 1 Axes>"
      ]
     },
     "metadata": {
      "needs_background": "light"
     },
     "output_type": "display_data"
    }
   ],
   "source": [
    "pattern_long = source_img[474:491,184:283]\n",
    "plt.imshow(pattern_long ,  cmap='gray')\n",
    "plt.show()"
   ]
  },
  {
   "cell_type": "code",
   "execution_count": 23,
   "metadata": {},
   "outputs": [
    {
     "name": "stdout",
     "output_type": "stream",
     "text": [
      "Znaleziono 5 dopasowań\n"
     ]
    }
   ],
   "source": [
    "search_image(pattern_long, source_img)"
   ]
  },
  {
   "cell_type": "code",
   "execution_count": 24,
   "metadata": {},
   "outputs": [
    {
     "name": "stdout",
     "output_type": "stream",
     "text": [
      "Całkowita liczba dopasowań: 5\n"
     ]
    }
   ],
   "source": [
    "get_pattern_count(text, 'p a t t e r n')"
   ]
  },
  {
   "cell_type": "markdown",
   "metadata": {},
   "source": [
    " ### 6. Porównaj czas budowania automatu i czas wyszukiwania dla różnych rozmiarów wzorca"
   ]
  },
  {
   "cell_type": "code",
   "execution_count": 25,
   "metadata": {},
   "outputs": [],
   "source": [
    "def measure_time(text, start=5, stop=100, step=5):\n",
    "    create_times = []\n",
    "    search_times = []\n",
    "    lens = [i for i in range(start, stop + step, step)]\n",
    "    for i in lens:\n",
    "        pattern = ''.join(random.choice(string.ascii_lowercase + string.ascii_uppercase) for _ in range(i))\n",
    "        automaton = Automaton([pattern])\n",
    "        create = lambda: Automaton(pattern)\n",
    "        search = lambda: automaton.search(text)\n",
    "        create_times.append(timeit(create, number = 5000))\n",
    "        search_times.append(timeit(search, number = 5000))\n",
    "        \n",
    "    plt.plot(lens, create_times, label=\"Czas budowania automatu (*5000)\")\n",
    "    plt.plot(lens, search_times, label=\"Czas wyszukiwania wzorca (*5000)\")\n",
    "    plt.title(\"Porównanie czasu budowania automatu i wyszukiwania wzorca\")\n",
    "    plt.legend()\n",
    "    plt.show()"
   ]
  },
  {
   "cell_type": "code",
   "execution_count": 29,
   "metadata": {},
   "outputs": [
    {
     "data": {
      "image/png": "[encoded data removed]",
      "text/plain": [
       "<Figure size 432x288 with 1 Axes>"
      ]
     },
     "metadata": {
      "needs_background": "light"
     },
     "output_type": "display_data"
    }
   ],
   "source": [
    "measure_time(text)"
   ]
  },
  {
   "cell_type": "markdown",
   "metadata": {},
   "source": [
    "Test polegał na pomiarze czasu budowy i dopasowania wzorca dla wzorców o długości od 5 do 100 z krokiem 5. Wyniki wskazują na to, że całkowity czas wykonywania się algorytmu jest zdominowany przez czas potrzebny na zbudowanie automatu."
   ]
  },
  {
   "cell_type": "markdown",
   "metadata": {},
   "source": [
    "### 7. Podziel plik na 2, 4 i 8 fragmentów (w poziomie) i porównaj czas przeszukiwania"
   ]
  },
  {
   "cell_type": "code",
   "execution_count": 34,
   "metadata": {},
   "outputs": [],
   "source": [
    "def measure_diffrent_files(file, pattern='1234567890qwertyuiopasdfghjklzxcvbnm', to_test = None):\n",
    "    times = []\n",
    "    automaton = Automaton([pattern])\n",
    "    if to_test is None:\n",
    "        to_test = [1, 2, 4, 8]\n",
    "    for i in to_test:\n",
    "        texts = []\n",
    "        with open(file, 'r', encoding='utf-8') as source:\n",
    "            for j in range(i):\n",
    "                texts.append([])\n",
    "                if j == i - 1:\n",
    "                    while True:\n",
    "                        line = source.readline()\n",
    "                        if not line:\n",
    "                            break\n",
    "                        texts[-1].append(line)\n",
    "                else:\n",
    "                    for k in range(len(text) // i):\n",
    "                        line = source.readline()\n",
    "                        texts[-1].append(line)\n",
    "          \n",
    "        test_times = []\n",
    "        for t in texts:\n",
    "            search = lambda: automaton.search(t)\n",
    "            test_times.append(timeit(search, number = 50000))\n",
    "        times.append(test_times)\n",
    "        \n",
    "    print(\"*** Podane czasy odpowiadają 50000 wyszukiwań ***\\n\") \n",
    "    for i, test in enumerate(to_test):\n",
    "        print(f\"Wyniki po podziale pliku na {test} części\")\n",
    "        for j, t in enumerate(times[i]):\n",
    "            print(f\"Czas dla wyszukania w części {j+1}.: {t}\")\n",
    "        print(\"-----------------------------------------------------\")\n",
    "        print(f\"Sumaryczny czas : {sum(times[i])}\\n\")\n",
    "        "
   ]
  },
  {
   "cell_type": "code",
   "execution_count": 37,
   "metadata": {},
   "outputs": [
    {
     "name": "stdout",
     "output_type": "stream",
     "text": [
      "*** Podane czasy odpowiadają 50000 wyszukiwań ***\n",
      "\n",
      "Wyniki po podziale pliku na 1 części\n",
      "Czas dla wyszukania w części 1.: 0.542590699998982\n",
      "-----------------------------------------------------\n",
      "Sumaryczny czas : 0.542590699998982\n",
      "\n",
      "Wyniki po podziale pliku na 2 części\n",
      "Czas dla wyszukania w części 1.: 0.2822813999991922\n",
      "Czas dla wyszukania w części 2.: 0.2833143999996537\n",
      "-----------------------------------------------------\n",
      "Sumaryczny czas : 0.5655957999988459\n",
      "\n",
      "Wyniki po podziale pliku na 4 części\n",
      "Czas dla wyszukania w części 1.: 0.15337240000008023\n",
      "Czas dla wyszukania w części 2.: 0.1553607000005286\n",
      "Czas dla wyszukania w części 3.: 0.15527750000001106\n",
      "Czas dla wyszukania w części 4.: 0.1498740999995789\n",
      "-----------------------------------------------------\n",
      "Sumaryczny czas : 0.6138847000001988\n",
      "\n",
      "Wyniki po podziale pliku na 8 części\n",
      "Czas dla wyszukania w części 1.: 0.08549000000130036\n",
      "Czas dla wyszukania w części 2.: 0.08841799999936484\n",
      "Czas dla wyszukania w części 3.: 0.08458190000055765\n",
      "Czas dla wyszukania w części 4.: 0.08358090000001539\n",
      "Czas dla wyszukania w części 5.: 0.08257629999934579\n",
      "Czas dla wyszukania w części 6.: 0.08306099999936123\n",
      "Czas dla wyszukania w części 7.: 0.12016179999955057\n",
      "Czas dla wyszukania w części 8.: 0.10635259999980917\n",
      "-----------------------------------------------------\n",
      "Sumaryczny czas : 0.734222499999305\n",
      "\n"
     ]
    }
   ],
   "source": [
    "measure_diffrent_files(\"haystack.txt\")"
   ]
  },
  {
   "cell_type": "markdown",
   "metadata": {},
   "source": [
    "Wyniki wskazują na to, że dzielenie tekstu na fragmenty, pogorszyło czas działania algorytmu."
   ]
  },
  {
   "cell_type": "code",
   "execution_count": null,
   "metadata": {},
   "outputs": [],
   "source": []
  }
 ],
 "metadata": {
  "kernelspec": {
   "display_name": "Python 3",
   "language": "python",
   "name": "python3"
  },
  "language_info": {
   "codemirror_mode": {
    "name": "ipython",
    "version": 3
   },
   "file_extension": ".py",
   "mimetype": "text/x-python",
   "name": "python",
   "nbconvert_exporter": "python",
   "pygments_lexer": "ipython3",
   "version": "3.8.3"
  }
 },
 "nbformat": 4,
 "nbformat_minor": 4
}
