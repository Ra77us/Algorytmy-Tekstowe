{
 "cells": [
  {
   "cell_type": "markdown",
   "metadata": {},
   "source": [
    "## Michał Szczurek - laboratorium 4."
   ]
  },
  {
   "cell_type": "code",
   "execution_count": 126,
   "metadata": {},
   "outputs": [],
   "source": [
    "from enum import Enum\n",
    "from spacy.tokenizer import Tokenizer\n",
    "from spacy.language import Language\n",
    "from spacy.vocab import Vocab\n",
    "from random import random"
   ]
  },
  {
   "cell_type": "markdown",
   "metadata": {},
   "source": [
    "### 1. Algorytm obliczania odległości edycyjnej"
   ]
  },
  {
   "cell_type": "markdown",
   "metadata": {},
   "source": [
    "Funkcje i klasy pomocnicze:"
   ]
  },
  {
   "cell_type": "code",
   "execution_count": 127,
   "metadata": {},
   "outputs": [],
   "source": [
    "class Operation(Enum):\n",
    "    NONE = 0\n",
    "    CHANGE = 1\n",
    "    INSERT = 2\n",
    "    DEL = 3 "
   ]
  },
  {
   "cell_type": "code",
   "execution_count": 128,
   "metadata": {},
   "outputs": [],
   "source": [
    "class TableElement():   \n",
    "    def __init__(self, cost=0, operation=None, parent=None):\n",
    "        self.cost = cost\n",
    "        self.operation = operation\n",
    "        self.parent = parent\n",
    "    def __repr__(self):\n",
    "        return str(self.cost) "
   ]
  },
  {
   "cell_type": "code",
   "execution_count": 129,
   "metadata": {},
   "outputs": [],
   "source": [
    "def delta(x,y):\n",
    "    if x==y:\n",
    "        return 0\n",
    "    return 1"
   ]
  },
  {
   "cell_type": "markdown",
   "metadata": {},
   "source": [
    "Właściwy algorytm"
   ]
  },
  {
   "cell_type": "markdown",
   "metadata": {},
   "source": [
    "Algorytm zwraca minimalną liczbę kroków oraz tablicę, na podstawie której można określić kolejność operacji (z tablicy tej korzysta algorytm z następnego punktu)."
   ]
  },
  {
   "cell_type": "code",
   "execution_count": 130,
   "metadata": {},
   "outputs": [],
   "source": [
    "def edit_distance(source, dest, delta=delta):\n",
    "    table = [[None for i in range(len(source)+1)] for j in range(len(dest)+1)]\n",
    "    table[0][0] = TableElement()\n",
    "    \n",
    "    # prepare initial table\n",
    "    for i in range(1,len(table[0])):\n",
    "        table[0][i] = TableElement(i, Operation.DEL, table[0][i-1])\n",
    "    for i in range(1,len(table)):\n",
    "        table[i][0] = TableElement(i, Operation.INSERT, table[i-1][0])\n",
    "    \n",
    "    # fill the table\n",
    "    for i in range(1, len(table)):\n",
    "        for j in range(1,len(table[i])):\n",
    "            min_element = table[i-1][j-1] \n",
    "            min_cost = table[i-1][j-1].cost\n",
    "            operation = Operation.NONE # assume none operation is needed\n",
    "            if dest[i-1] != source[j-1]: # check above assumption\n",
    "                min_cost +=delta(dest[i-1], source[j-1])\n",
    "                operation = Operation.CHANGE \n",
    "            if table[i][j-1].cost + 1 < min_cost: # check if deleting is not better\n",
    "                min_element = table[i][j-1]\n",
    "                min_cost = table[i][j-1].cost + 1\n",
    "                operation = Operation.DEL\n",
    "            if table[i-1][j].cost + 1 < min_cost: # check if adding is not better\n",
    "                min_element = table[i-1][j]\n",
    "                min_cost = table[i-1][j].cost + 1\n",
    "                operation = Operation.INSERT\n",
    "            table[i][j] = TableElement(min_cost, operation, min_element)\n",
    "  \n",
    "    return table[-1][-1].cost, table"
   ]
  },
  {
   "cell_type": "markdown",
   "metadata": {},
   "source": [
    "### 2. Wizualizacja działania algorytmu"
   ]
  },
  {
   "cell_type": "markdown",
   "metadata": {},
   "source": [
    "do wizualizaji możemy dać dodatkowy parametr table, oznaczający tablicę powstałą w algorytmie 1. Jeśli tego nie zrobimy, tablica zostanie automatycznie wyliczona korzystając ze wspomnianego algorytmu."
   ]
  },
  {
   "cell_type": "code",
   "execution_count": 131,
   "metadata": {},
   "outputs": [],
   "source": [
    "def visualize_operations(source, dest, table=None):\n",
    "    if table is None:\n",
    "        res, table = edit_distance(source, dest)\n",
    "    element = table[-1][-1]\n",
    "    operations = []\n",
    "    while element.operation is not None:\n",
    "        operations.append(element.operation)\n",
    "        element = element.parent\n",
    "    operations = operations[::-1]\n",
    "    word = source\n",
    "    x = 0\n",
    "    y = 0\n",
    "    for operation in operations:\n",
    "        if operation == Operation.CHANGE:\n",
    "            char = word[x]\n",
    "            res = word[:x] + \"*\" + dest[y] + \"*\" + word[x+1:]\n",
    "            word =  word[:x] + dest[y] + word[x+1:]\n",
    "            print(res,f\" > Zamiana {char} na {dest[y]}\")\n",
    "            x += 1\n",
    "            y += 1\n",
    "        elif operation == Operation.INSERT:\n",
    "            res = word[:x] + \"*\" + dest[y] + \"*\" + word[x:]\n",
    "            word = word[:x] + dest[y] + word[x:]\n",
    "            print(res,f\" > Dodanie {dest[y]}\")\n",
    "            x += 1\n",
    "            y += 1\n",
    "        elif operation == Operation.DEL:\n",
    "            char = word[x]\n",
    "            res = word[:x] + \"*\" + word[x+1:]\n",
    "            word = word[:x] + word[x+1:]\n",
    "            print(res,f\" > Usunięcie {char}\")\n",
    "        else:\n",
    "            x += 1\n",
    "            y += 1"
   ]
  },
  {
   "cell_type": "markdown",
   "metadata": {},
   "source": [
    "### 3. Wyniki działania algorytmów"
   ]
  },
  {
   "cell_type": "code",
   "execution_count": 132,
   "metadata": {},
   "outputs": [
    {
     "name": "stdout",
     "output_type": "stream",
     "text": [
      "2\n",
      "*k*los  > Dodanie k\n",
      "klo*c*  > Zamiana s na c\n"
     ]
    }
   ],
   "source": [
    "res, table = edit_distance(\"los\",\"kloc\")\n",
    "print(res)\n",
    "visualize_operations(\"los\", \"kloc\")"
   ]
  },
  {
   "cell_type": "code",
   "execution_count": 133,
   "metadata": {},
   "outputs": [
    {
     "name": "stdout",
     "output_type": "stream",
     "text": [
      "3\n",
      "*L*ódź  > Zamiana Ł na L\n",
      "L*o*dź  > Zamiana ó na o\n",
      "Lod*z*  > Zamiana ź na z\n"
     ]
    }
   ],
   "source": [
    "res, table = edit_distance(\"Łódź\", \"Lodz\")\n",
    "print(res)\n",
    "visualize_operations(\"Łódź\", \"Lodz\")"
   ]
  },
  {
   "cell_type": "code",
   "execution_count": 134,
   "metadata": {},
   "outputs": [
    {
     "name": "stdout",
     "output_type": "stream",
     "text": [
      "5\n",
      "*q*wintesencja  > Zamiana k na q\n",
      "q*u*intesencja  > Zamiana w na u\n",
      "quinte*s*sencja  > Dodanie s\n",
      "quintessenc*a  > Usunięcie j\n",
      "quintessenc*e*  > Zamiana a na e\n"
     ]
    }
   ],
   "source": [
    "res, table = edit_distance(\"kwintesencja\", \"quintessence\")\n",
    "print(res)\n",
    "visualize_operations(\"kwintesencja\", \"quintessence\")"
   ]
  },
  {
   "cell_type": "code",
   "execution_count": 135,
   "metadata": {},
   "outputs": [
    {
     "name": "stdout",
     "output_type": "stream",
     "text": [
      "7\n",
      "ATGA*G*TCTTACCGCCTCG  > Zamiana A na G\n",
      "ATGAG*G*CTTACCGCCTCG  > Zamiana T na G\n",
      "ATGAGGCT*C*TACCGCCTCG  > Dodanie C\n",
      "ATGAGGCTCT*G*CCGCCTCG  > Zamiana A na G\n",
      "ATGAGGCTCTG*G*CGCCTCG  > Zamiana C na G\n",
      "ATGAGGCTCTGGC*C*CCTCG  > Zamiana G na C\n",
      "ATGAGGCTCTGGCCCCT*G  > Usunięcie C\n"
     ]
    }
   ],
   "source": [
    "res, table = edit_distance(\"ATGAATCTTACCGCCTCG\", \"ATGAGGCTCTGGCCCCTG\")\n",
    "print(res)\n",
    "visualize_operations(\"ATGAATCTTACCGCCTCG\", \"ATGAGGCTCTGGCCCCTG\")"
   ]
  },
  {
   "cell_type": "markdown",
   "metadata": {},
   "source": [
    "### Algorytm do obliczania najdłuższego wspólnego podciągu dla pary ciągów elementów"
   ]
  },
  {
   "cell_type": "markdown",
   "metadata": {},
   "source": [
    "Funkcja pomocnicza"
   ]
  },
  {
   "cell_type": "code",
   "execution_count": 136,
   "metadata": {},
   "outputs": [],
   "source": [
    "def delta_lcs(x,y):\n",
    "    if x==y:\n",
    "        return 0\n",
    "    return 2"
   ]
  },
  {
   "cell_type": "markdown",
   "metadata": {},
   "source": [
    "Właściwy algorytm"
   ]
  },
  {
   "cell_type": "code",
   "execution_count": 137,
   "metadata": {},
   "outputs": [],
   "source": [
    "def lcs(a,b):\n",
    "    res, table = edit_distance(a, b, delta_lcs)\n",
    "    element = table[-1][-1]\n",
    "    i = len(a)\n",
    "    res = []\n",
    "    while element.operation is not None:\n",
    "        if element.operation == Operation.NONE:\n",
    "            res.append(a[i-1])\n",
    "        if element.operation != Operation.INSERT:\n",
    "            i -= 1\n",
    "        element = element.parent\n",
    "    return res[::-1]"
   ]
  },
  {
   "cell_type": "markdown",
   "metadata": {},
   "source": [
    "### 5 i 6: Podział tekstu na tokeny i usunięcie 3% spośród nich"
   ]
  },
  {
   "cell_type": "markdown",
   "metadata": {},
   "source": [
    "Dodałem opcję chroniącą przed usunięciem znako nowej linii. Ich usunięcie powodowało, że teksty momentami bywały \"asynchroniczne\", co widać w rezulatacie algorytmu diff. Wykonałem zadanie dla obu wersji."
   ]
  },
  {
   "cell_type": "code",
   "execution_count": 166,
   "metadata": {},
   "outputs": [],
   "source": [
    "def tokens_save(file_name, tokens):\n",
    "    with open(file_name, 'w') as file:\n",
    "        for token in text1:\n",
    "            file.write(token.text_with_ws)"
   ]
  },
  {
   "cell_type": "code",
   "execution_count": 169,
   "metadata": {},
   "outputs": [],
   "source": [
    "def tokens_load(file_name, tokens):\n",
    "    with open(file_name, 'r') as file:\n",
    "        text = file.read()\n",
    "        tokenizer = Tokenizer(Language().vocab)\n",
    "        tokens = tokenizer(text)\n",
    "    return tokens"
   ]
  },
  {
   "cell_type": "code",
   "execution_count": 170,
   "metadata": {},
   "outputs": [],
   "source": [
    "def del_tokens(tokens, percent=3, leave_lines=False):\n",
    "    res = []\n",
    "    for token in tokens:\n",
    "        if leave_lines and str(token)[0] == \"\\n\":\n",
    "            res.append(token)\n",
    "        elif random() > percent/100:\n",
    "            res.append(token)\n",
    "    return res"
   ]
  },
  {
   "cell_type": "code",
   "execution_count": 173,
   "metadata": {},
   "outputs": [],
   "source": [
    "def prepare_files(file_name, leave_lines=False):\n",
    "    with open(file_name, \"r\",encoding=\"utf8\") as source:\n",
    "        text = source.read()\n",
    "        tokenizer = Tokenizer(Language().vocab)\n",
    "        tokens = tokenizer(text)\n",
    "        res1 = del_tokens(tokens, 3, leave_lines)\n",
    "        tokens_save(\"res1.txt\", res1)\n",
    "        res2 = del_tokens(tokens, 3, leave_lines)\n",
    "        tokens_save(\"res2.txt\", res2)\n",
    "    return res1, res2"
   ]
  },
  {
   "cell_type": "markdown",
   "metadata": {},
   "source": [
    "### 7. Obliczenie długość najdłuższego podciągu wspólnych tokenów dla tekstów"
   ]
  },
  {
   "cell_type": "code",
   "execution_count": 189,
   "metadata": {},
   "outputs": [],
   "source": [
    "text1, text2 = prepare_files(\"romeo-i-julia-700.txt\")"
   ]
  },
  {
   "cell_type": "code",
   "execution_count": 190,
   "metadata": {},
   "outputs": [
    {
     "name": "stdout",
     "output_type": "stream",
     "text": [
      "2208\n",
      "2192\n",
      "2129\n"
     ]
    }
   ],
   "source": [
    "print(len(text1))\n",
    "print(len(text2))\n",
    "print(len(lcs(text1, text2)))"
   ]
  },
  {
   "cell_type": "code",
   "execution_count": 191,
   "metadata": {},
   "outputs": [],
   "source": [
    "text1b, text2b = prepare_files(\"romeo-i-julia-700.txt\", True)"
   ]
  },
  {
   "cell_type": "code",
   "execution_count": 192,
   "metadata": {},
   "outputs": [
    {
     "name": "stdout",
     "output_type": "stream",
     "text": [
      "2218\n",
      "2217\n",
      "2165\n"
     ]
    }
   ],
   "source": [
    "print(len(text1b))\n",
    "print(len(text2b))\n",
    "print(len(lcs(text1b, text2b)))"
   ]
  },
  {
   "cell_type": "markdown",
   "metadata": {},
   "source": [
    "### 8. Implementacja diffa w oparciu o lcs"
   ]
  },
  {
   "cell_type": "markdown",
   "metadata": {},
   "source": [
    "Przywrócenie znaków nowych linii"
   ]
  },
  {
   "cell_type": "code",
   "execution_count": 193,
   "metadata": {},
   "outputs": [],
   "source": [
    "def restore_lines(tokens):\n",
    "    res = []\n",
    "    line = \"\"\n",
    "    for token in tokens:\n",
    "        if str(token)[0] == \"\\n\": \n",
    "            res.append(line)\n",
    "            line = \"\"\n",
    "        else:\n",
    "            line += token.text_with_ws\n",
    "    return res"
   ]
  },
  {
   "cell_type": "markdown",
   "metadata": {},
   "source": [
    "Właściwy algorytm"
   ]
  },
  {
   "cell_type": "code",
   "execution_count": 194,
   "metadata": {},
   "outputs": [],
   "source": [
    "def diff(text1, text2):\n",
    "    common = lcs(text1, text2)\n",
    "    i = j = 0\n",
    "    change = False\n",
    "    for c in common:\n",
    "        while text1[i] != c:\n",
    "            change = True\n",
    "            print(\"<\", i, text1[i])\n",
    "            i += 1\n",
    "        while text2[j] != c:\n",
    "            change = True\n",
    "            print(\">\", j, text2[j])\n",
    "            j += 1\n",
    "        if change:\n",
    "            print(\"========\")\n",
    "            change = False\n",
    "        i += 1\n",
    "        j += 1\n",
    "        \n",
    "    while i < len(text1):\n",
    "        print(\"<\", i, text1[i])\n",
    "        i += 1\n",
    "    while j < len(text2):\n",
    "        print(\">\", j, text2[j])\n",
    "        j += 1"
   ]
  },
  {
   "cell_type": "markdown",
   "metadata": {},
   "source": [
    "### 9. Działanie algorytmu diff"
   ]
  },
  {
   "cell_type": "markdown",
   "metadata": {},
   "source": [
    "Działanie prezentuję na dwóch rodzajach tekstów- takich z zachowanymi wszystkimi znakami nowej linii (b) i bez."
   ]
  },
  {
   "cell_type": "code",
   "execution_count": 195,
   "metadata": {},
   "outputs": [],
   "source": [
    "text1_resotred = restore_lines(text1)\n",
    "text2_resotred = restore_lines(text2)"
   ]
  },
  {
   "cell_type": "code",
   "execution_count": 196,
   "metadata": {},
   "outputs": [],
   "source": [
    "text1b_resotred = restore_lines(text1b)\n",
    "text2b_resotred = restore_lines(text2b)"
   ]
  },
  {
   "cell_type": "code",
   "execution_count": 197,
   "metadata": {
    "scrolled": false
   },
   "outputs": [
    {
     "name": "stdout",
     "output_type": "stream",
     "text": [
      "< 5 * ESKALUS — książę panujący w \n",
      "> 5 * ESKALUS — książę panujący w Weronie\n",
      "========\n",
      "< 7 * MONTEKI, KAPULET naczelnicy dwóch domów nieprzyjaznych sobie\n",
      "> 7 * MONTEKI, KAPULET — naczelnicy dwóch domów nieprzyjaznych sobie\n",
      "========\n",
      "< 11 BENWOLIO — synowiec Montekiego\n",
      "> 11 * BENWOLIO — synowiec Montekiego\n",
      "========\n",
      "< 13 * LAURENTY — ojciec franciszkanin\n",
      "> 13 * LAURENTY — franciszkanin\n",
      "========\n",
      "< 20 * PARYSA\n",
      "> 20 * PAŹ PARYSA\n",
      "========\n",
      "< 24 * KAPULET — małżonka Kapuleta\n",
      "> 24 * PANI KAPULET — małżonka Kapuleta\n",
      "========\n",
      "< 27 * Obywatele weroneńscy, różne osoby płci obojej, liczący się do przyjaciół obu domów, maski, straż wojskowa i inne osoby.\n",
      "> 27 * Obywatele weroneńscy, różne osoby płci obojej, liczący się do przyjaciół obu domów, maski, straż wojskowa i osoby.\n",
      "========\n",
      "< 30 Przełożył Jan Kasprowicz\n",
      "> 30 Przełożył Kasprowicz\n",
      "========\n",
      "< 32 Tam, gdzie się rzecz ta rozgrywa, w Weronie,\n",
      "< 33 Do nowej zbrodni pchają złości dawne,\n",
      "> 32 Tam, gdzie się rzecz ta rozgrywa, w Weronie,Do nowej zbrodni pchają złości dawne,\n",
      "========\n",
      "< 40 I jak się ojców nienawiść nie zmienia,\n",
      "< 41 Aż ją zakończy dzieci zgon przedwczesny,\n",
      "< 42 Dwugodzinnego przedstawienia,\n",
      "> 39 jak się ojców nienawiść nie zmienia,\n",
      "> 40 Aż ją zakończy dzieci zgon Dwugodzinnego treścią przedstawienia,\n",
      "========\n",
      "< 46 SCENA PIERWSZA\n",
      "< 47 / Plac publiczny. Wchodzą Samson Grzegorz uzbrojeni w tarcze i miecze. /\n",
      "> 44 PIERWSZA\n",
      "> 45 / Plac publiczny. Wchodzą Samson i Grzegorz uzbrojeni w tarcze i miecze. /\n",
      "========\n",
      "< 51 Ma się rozumieć, bobyśmy byli zdziercami.SAMSON\n",
      "< 52 Ale będziemy darli koty, jak z nami zadrą.\n",
      "> 49 Ma się rozumieć, bobyśmy byli zdziercami.\n",
      "> 50 SAMSON\n",
      "> 51 Ale będziemy darli koty, jak z zadrą.\n",
      "========\n",
      "< 56 Mam zwyczaj drapać zaraz, jak mię kto rozrucha.\n",
      "> 55 Mam zwyczaj drapać zaraz, jak kto rozrucha.\n",
      "========\n",
      "< 60 psy z domu Montekich rozruchać mię mogą bardzo łatwo.\n",
      "> 59 Te psy z domu Montekich rozruchać mię mogą bardzo łatwo.\n",
      "========\n",
      "< 64 Te psy z domu Montekich rozruchać mię mogą tylko do stania na miejscu. Będę jak mur dla każdego mężczyzny każdej kobiety z tego domu.\n",
      "> 63 Te psy z domu Montekich rozruchać mię mogą tylko do stania na miejscu. Będę jak mur dla każdego mężczyzny i każdej kobiety z domu.\n",
      "> 64 GRZEGORZTo właśnie pokazuje twoją słabą stronę; mur nikogo niestraszny i tylko słabi go się trzymają.\n",
      "> 65 SAMSON\n",
      "> 66 Prawda, dlatego kobiety, jako najsłabsze, tulą się zawsze do muru. Ja też odtrącę od muru ludzi Montekich, a kobiety Montekich przyprę muru.\n",
      "========\n",
      "< 66 To właśnie pokazuje twoją słabą stronę; mur dla nikogo niestraszny tylko słabi go się trzymają.\n",
      "< 67 \n",
      "< 68 Prawda, dlatego to kobiety, jako najsłabsze, tulą się zawsze do muru. Ja też od muru ludzi a kobiety Montekich przyprę do muru.\n",
      "< 69 GRZEGORZ\n",
      "========\n",
      "< 74 kobiet chcesz przedsiębrać?\n",
      "> 72 Rzeź kobiet chcesz przedsiębrać?\n",
      "========\n",
      "< 78 Tym lepiej, że się liczysz do zwierząt; bo gdybyś się liczył do ryb, to byłbyś pewnie sztokfiszem. Weź no się za instrument, bo oto nadchodzi dwóch domowników Montekiego.\n",
      "> 76 Tym lepiej, że się liczysz do zwierząt; bo gdybyś się liczył do ryb, to byłbyś sztokfiszem. Weź no się za bo oto nadchodzi dwóch domowników Montekiego.\n",
      "========\n",
      "< 81 Mój giwer już dobyty: zaczep ich, ja stanę z \n",
      "> 79 Mój giwer już dobyty: zaczep ich, ja stanę z tyłu.\n",
      "========\n",
      "< 89 Miejmy prawo sobą, niech oni zaczną.\n",
      "> 87 Miejmy prawo za sobą, niech oni zaczną.\n",
      "========\n",
      "< 99 Czy na nas się mości panie?\n",
      "> 97 na nas się skrzywiłeś, mości panie?\n",
      "========\n",
      "< 109 Zaczepki waść szukasz?ABRAHAM\n",
      "> 107 Zaczepki waść szukasz?\n",
      "> 108 ABRAHAM\n",
      "========\n",
      "< 112 Jeżeli jej szukasz, to jestem na waścine usługi. Mój pan tak dobry jak i wasz.\n",
      "> 111 Jeżeli jej to jestem na waścine usługi. Mój tak dobry jak i wasz.\n",
      "========\n",
      "< 122 Nie inaczej; \n",
      "> 121 Nie inaczej; lepszy.\n",
      "========\n",
      "< 130 / Wchodzi Tybalt. \n",
      "> 129 / Wchodzi Tybalt. /\n",
      "========\n",
      "< 132 to? krzyżujesz oręż z parobkami?\n",
      "> 131 Cóż to? krzyżujesz z parobkami?\n",
      "========\n",
      "< 134 BENWOLIO\n",
      "< 135 Przywracam tylko pokój. Włóż miecz nazad\n",
      "> 133 BENWOLIOPrzywracam tylko pokój. Włóż miecz nazad\n",
      "========\n",
      "< 140 Szatana, Montekich i ciebie.\n",
      "> 138 Szatana, wszystkich Montekich i ciebie.\n",
      "========\n",
      "< 142 / Walczą. Nadchodzi kilku przyjaciół obu partii i mieszają się do zwady; wkrótce wchodzą mieszczanie z pałkami. /\n",
      "> 140 / Walczą. Nadchodzi kilku przyjaciół partii i mieszają się do zwady; wkrótce potem wchodzą mieszczanie z pałkami. /\n",
      "========\n",
      "< 145 Precz z Montekimi, precz z Kapuletami!\n",
      "< 146 / Wchodzą Kapulet i Pani Kapulet /\n",
      "> 143 Precz Montekimi, precz z Kapuletami!/ Wchodzą Kapulet i Pani Kapulet /\n",
      "========\n",
      "< 148 za hałas? Podajcie mi długi\n",
      "> 145 Co hałas? Podajcie mi długi\n",
      "========\n",
      "< 151 kulę; co ci z miecza?\n",
      "> 148 Raczej kulę; co ci z miecza?\n",
      "========\n",
      "< 165 Bezcześciciele bratniej stali! Cóż to,\n",
      "< 166 Czy nie Ludzie czy zwierzęta,\n",
      "> 162 Bezcześciciele stali! Cóż to,\n",
      "> 163 Czy słyszycie? Ludzie czy zwierzęta,\n",
      "========\n",
      "< 173 Domowe starcia, z marnych słów zrodzone\n",
      "< 174 Przez was, Monteki oraz Kapulecie,\n",
      "> 170 Domowe starcia, z marnych słów zrodzonePrzez was, Monteki oraz Kapulecie,\n",
      "========\n",
      "< 176 Tak że poważni zasługą\n",
      "< 177 Obywatele werońscy musieli\n",
      "< 178 Porzucić swoje wygodne przybory\n",
      "> 172 Tak że poważni wiekiem i zasługąObywatele werońscy musieliPorzucić swoje przybory\n",
      "========\n",
      "< 182 Wzniecicie kiedyś waśń podobną,\n",
      "< 183 Zamęt pokoju opłacicie życiem.\n",
      "< 184 A teraz wszyscy ustąpcie niezwłocznie.\n",
      "< 185 Ty, Kapulecie, pójdziesz ze mną razem;\n",
      "< 186 Ty zaś, Monteki, przyjdziesz po południu\n",
      "< 187 Na ratusz, ci dokładnie w tym względzie\n",
      "> 176 Wzniecicie kiedyś waśń podobną,Zamęt pokoju opłacicie życiem.\n",
      "> 177 A teraz wszyscy ustąpcie niezwłocznie.Ty, Kapulecie, pójdziesz ze mną razem;\n",
      "> 178 Ty zaś, przyjdziesz po południu\n",
      "> 179 Na ratusz, gdzie ci dokładnie w tym względzie\n",
      "========\n",
      "< 189 Jeszcze raz wzywam wszystkich tu \n",
      "< 190 Pod karą śmierci, aby się rozeszli.\n",
      "> 181 Jeszcze raz wzywam wszystkich obecnych\n",
      "> 182 Pod karą aby się rozeszli.\n",
      "========\n",
      "< 196 Nieprzyjaciela naszego pachołcy\n",
      "> 188 naszego pachołcy\n",
      "========\n",
      "< 198 Dobyłem aby ich rozdzielić:\n",
      "< 199 Wtem wpadł szalony Tybalt z gołym mieczem,\n",
      "> 190 Dobyłem broni, aby ich rozdzielić:Wtem wpadł szalony Tybalt gołym mieczem,\n",
      "========\n",
      "< 201 Jął się wywijać nim i siec powietrze,\n",
      "> 192 Jął się nim i siec powietrze,\n",
      "========\n",
      "< 207 PANI MONTEKI\n",
      "< 208 Lecz gdzież Romeo? Widział żeś go dzisiaj?\n",
      "< 209 Jakże się cieszę, że nie w tym starciu.\n",
      "> 198 PANI MONTEKILecz gdzież Romeo? Widział żeś go dzisiaj?\n",
      "> 199 Jakże się cieszę, że nie był w tym starciu.\n",
      "========\n",
      "< 213 Troski wygnały mię z od domu\n",
      "< 214 W sykomorowy ów gaj, co się \n",
      "> 203 Troski wygnały mię z dala od \n",
      "> 204 W sykomorowy ów gaj, co się ciągnie\n",
      "========\n",
      "< 216 Tam, już tak rano, syn wasz się przechadzał.\n",
      "< 217 go ujrzał, pobiegłem ku niemu;\n",
      "> 206 już tak rano, syn wasz się przechadzał.\n",
      "> 207 Ledwiem go ujrzał, pobiegłem ku niemu;\n",
      "========\n",
      "< 221 Mierząc mym własnym (serce nasze bowiem\n",
      "> 211 Mierząc własnym (serce nasze bowiem\n",
      "========\n",
      "< 224 I w inną stronę się udałem, chętnie\n",
      "> 214 w inną stronę się udałem, chętnie\n",
      "========\n",
      "< 227 Nieraz o świcie go tam widziano\n",
      "< 228 Łzami poranną mnożącego rosę,\n",
      "< 229 A chmury — swego oblicza chmurami,Aliści ledwo na najdalszym wschodzie\n",
      "< 230 Wesołe słońce sprzed łoża Aurory\n",
      "> 217 Nieraz o świcie już go tam widziano\n",
      "> 218 Łzami poranną mnożącego \n",
      "> 219 A chmury — swego oblicza chmurami,Aliści ledwo na wschodzie\n",
      "> 220 Wesołe słońce łoża Aurory\n",
      "========\n",
      "< 233 tchu zamykał się w pokoju;\n",
      "> 223 Co tchu zamykał w swoim pokoju;\n",
      "========\n",
      "< 236 W czarne bezdroża dusza jego \n",
      "< 237 Jeśli się na to lekarstwo nie znajdzie.\n",
      "> 226 W czarne bezdroża dusza jego zajdzie,\n",
      "> 227 Jeśli się na to lekarstwo nie \n",
      "========\n",
      "< 241 Nie znam i niego wydobyć nie mogę.\n",
      "> 231 Nie znam i z niego wydobyć nie mogę.\n",
      "========\n",
      "< 249 Jak kwiatu, co go robak gryzie,\n",
      "> 239 Jak pączek kwiatu, co go robak gryzie,\n",
      "========\n",
      "< 252 Gdybyśmy mogli dojść tych zarodka,\n",
      "> 242 Gdybyśmy mogli dojść tych trosk zarodka,\n",
      "========\n",
      "< 257 Wyrwę mu z piersi tajone.\n",
      "> 247 Wyrwę mu z piersi cierpienia tajone.\n",
      "========\n",
      "< 260 Mógł być szczęśliwszym od nas! Pójdźmy, pani.\n",
      "< 261 / Wychodzą Monteki i Pani Monteki. /\n",
      "> 250 Mógł być szczęśliwszym od nas! Pójdźmy, pani./ Wychodzą Monteki Pani Monteki. /\n",
      "========\n",
      "< 271 Tak spiesznie tamtą zboczyli ulicę?\n",
      "> 260 Tak spiesznie w tamtą zboczyli ulicę?\n",
      "========\n",
      "< 273 Tak jest. Lecz cóż tak chwile twoje dłuży?\n",
      "< 274 ROMEO\n",
      "> 262 Tak jest. Lecz cóż tak chwile twoje dłuży?ROMEO\n",
      "========\n",
      "< 278 ROMEO\n",
      "> 266 \n",
      "========\n",
      "< 286 Miłość jest w gruncie tak srogą tyranką?\n",
      "> 274 Miłość jest gruncie tak srogą tyranką?\n",
      "========\n",
      "< 293 O! wy sprzeczności niepojęte dziwa!\n",
      "> 281 O! sprzeczności niepojęte dziwa!\n",
      "========\n",
      "< 298 mgło! Zimny żarze! Martwy ruchu!\n",
      "> 286 Jasna mgło! Zimny żarze! Martwy ruchu!\n",
      "========\n",
      "< 300 Taką niełączność łączy moja miłość.\n",
      "< 301 Czy się nie śmiejesz?BENWOLIO\n",
      "> 288 Taką niełączność łączy moja miłość.Czy się nie śmiejesz?\n",
      "> 289 BENWOLIO\n",
      "========\n",
      "< 303 \n",
      "> 291 ROMEO\n",
      "========\n",
      "< 307 Poczciwej duszy twojej.\n",
      "< 308 ROMEO\n",
      "> 295 Poczciwej duszy ROMEO\n",
      "========\n",
      "< 310 Miłości nawet przez działa?\n",
      "> 297 Miłości nawet przez odbitkę działa?\n",
      "========\n",
      "< 312 Brzemię powiększasz przewyżką twojego;Współczucie twoje nad moim cierpieniem\n",
      "> 299 Brzemię powiększasz przewyżką twojego;\n",
      "> 300 Współczucie twoje nad moim cierpieniem\n",
      "========\n",
      "< 314 mego serca. Miłość, przyjacielu,\n",
      "< 315 To dym, co z parą westchnień się To żar, co w oku szczęśliwego płonie;\n",
      "> 302 Dla mego serca. Miłość, przyjacielu,To dym, co z parą się unosi;\n",
      "> 303 To żar, co w oku szczęśliwego płonie;\n",
      "========\n",
      "< 317 Czymże jest więcej? Istnym amalgamem,Żółcią trawiącą i zbawczym balsamem.\n",
      "> 305 Czymże jest więcej? Istnym amalgamem,\n",
      "> 306 Żółcią trawiącą i balsamem.\n",
      "========\n",
      "< 322 Gdybyś mą przyjaźń z kwitkiem tak zostawił.\n",
      "> 311 Gdybyś mą przyjaźń kwitkiem zostawił.\n",
      "========\n",
      "< 324 Ach! ja nie tu, nie jestem sobą;\n",
      "< 325 To nie Romeo, co rozmawia z tobą.\n",
      "> 313 Ach! ja nie jestem tu, nie jestem sobą;\n",
      "> 314 To co rozmawia z tobą.\n",
      "========\n",
      "< 327 Kogóż to kochasz? mów!ROMEO\n",
      "> 316 Kogóż to kochasz? mów!\n",
      "> 317 \n",
      "========\n",
      "< 329 Mam–że wraz jęczyć i mówić?BENWOLIO\n",
      "> 319 Mam–że wraz jęczyć i mówić?\n",
      "> 320 BENWOLIO\n",
      "========\n",
      "< 331 Tylko mi klucz dać do problemu,\n",
      "< 332 Kogóż to kochasz? Powiedz.\n",
      "> 322 Tylko mi klucz dać do tego problemu,Kogóż to kochasz? Powiedz.\n",
      "========\n",
      "< 335 Pisać testament: będzie–ż to wezwanie\n",
      "> 325 testament: będzie–ż to \n",
      "========\n",
      "< 347 A właśnieś chybił. Niczym tu kołczany\n",
      "> 337 A właśnieś Niczym tu kołczany\n",
      "========\n",
      "< 350 Grotów miłości wcale się nie boi;\n",
      "< 351 Szydzi z nawału zaklęć oblężniczych;Odpiera szturmy spojrzeń napastniczych;\n",
      "> 340 Grotów miłości się nie boi;\n",
      "> 341 Szydzi z nawału zaklęć oblężniczych;\n",
      "> 342 Odpiera szturmy spojrzeń napastniczych;\n",
      "========\n",
      "< 353 Bogata w wdzięki, w tym jedynie biedna,\n",
      "< 354 Że kiedy umrze, do z nią zstąpi\n",
      "> 344 Bogata w wdzięki, w tym jedynie \n",
      "> 345 Że kiedy umrze, do grobu z nią zstąpi\n",
      "========\n",
      "< 359 Tak jest; i skąpstwo to jest marnotrawstwem,\n",
      "< 360 Bo piękność, którą własna srogość strawia,\n",
      "> 350 Tak jest; i skąpstwo to jest marnotrawstwem,Bo piękność, którą własna srogość strawia,\n",
      "========\n",
      "< 363 Zbyt mądrze piękna: stąd głazem.\n",
      "< 364 Przysięgła nigdy nie kochać i dzięki\n",
      "< 365 Temu skazanym - wieczne cierpieć męki.\n",
      "> 353 Zbyt mądrze piękna: stąd istnym jest głazem.Przysięgła nigdy nie kochać i dzięki\n",
      "> 354 Temu skazanym wieczne cierpieć męki.\n",
      "========\n",
      "< 369 Doradź–że także, jakim bym sposobem\n",
      "> 358 Doradź–że także, bym sposobem\n",
      "========\n",
      "< 371 BENWOLIO\n",
      "< 372 oczom wolność\n",
      "> 360 \n",
      "> 361 Dając oczom wolność\n",
      "========\n"
     ]
    }
   ],
   "source": [
    "diff(text1_resotred ,text2_resotred )"
   ]
  },
  {
   "cell_type": "code",
   "execution_count": 198,
   "metadata": {
    "scrolled": false
   },
   "outputs": [
    {
     "name": "stdout",
     "output_type": "stream",
     "text": [
      "< 5 * ESKALUS — książę panujący w \n",
      "> 5 * ESKALUS — książę panujący w Weronie\n",
      "========\n",
      "< 10 * MERKUCJO — krewny księcia\n",
      "> 10 * MERKUCJO — krewny \n",
      "========\n",
      "< 19 * TRZECH \n",
      "> 19 * TRZECH MUZYKANTÓW\n",
      "========\n",
      "< 22 * DOWÓDCA WARTY\n",
      "< 23 * PANI MONTEKI — małżonka \n",
      "> 22 * WARTY\n",
      "> 23 * PANI MONTEKI — małżonka Montekiego\n",
      "========\n",
      "< 25 * JULIA — córka \n",
      "< 26 * MARTA mamka Julii\n",
      "< 27 * Obywatele weroneńscy, różne osoby płci obojej, liczący się do przyjaciół obu domów, maski, straż wojskowa inne osoby.\n",
      "< 28 Rzecz odbywa się przez większą część sztuki w Weronie, przez część piątego aktu w Mantui.\n",
      "> 25 * JULIA — córka Kapuletów\n",
      "> 26 * MARTA — mamka Julii\n",
      "> 27 * Obywatele weroneńscy, różne osoby płci obojej, liczący się do przyjaciół obu domów, maski, straż wojskowa i inne osoby.\n",
      "> 28 Rzecz odbywa się przez większą sztuki w Weronie, przez część piątego aktu w Mantui.\n",
      "========\n",
      "< 30 Przełożył Jan Kasprowicz\n",
      "> 30 Jan Kasprowicz\n",
      "========\n",
      "< 49 Dalipan, Grzegorzu, będziem darli pierza.\n",
      "> 49 Dalipan, Grzegorzu, nie będziem darli pierza.\n",
      "========\n",
      "< 54 \n",
      "> 54 GRZEGORZ\n",
      "========\n",
      "< 59 ale nie zaraz zwykłeś się dać rozruchać.\n",
      "> 59 Tak, ale zaraz zwykłeś dać rozruchać.\n",
      "========\n",
      "< 61 Te psy z domu Montekich rozruchać mię mogą bardzo łatwo.\n",
      "> 61 psy z domu Montekich rozruchać mię mogą bardzo łatwo.\n",
      "========\n",
      "< 63 Rozruchać się tyle znaczy co ruszyć się miejsca; być walecznym jest to stać nieporuszenie: pojmuję więc, że skutkiem rozruchania się twego będzie - drapnięcie.\n",
      "> 63 Rozruchać się tyle znaczy co ruszyć się z miejsca; być walecznym jest to stać pojmuję więc, że skutkiem rozruchania się twego będzie - drapnięcie.\n",
      "========\n",
      "< 65 psy z domu Montekich rozruchać mię mogą tylko do stania na miejscu. Będę jak mur dla każdego mężczyzny i każdej kobiety z tego domu.\n",
      "> 65 Te psy z domu Montekich rozruchać mię mogą tylko do stania miejscu. Będę jak mur dla każdego mężczyzny i każdej kobiety z tego domu.\n",
      "========\n",
      "< 67 To właśnie twoją słabą stronę; mur dla nikogo niestraszny i tylko słabi go się trzymają.\n",
      "> 67 To właśnie pokazuje twoją słabą stronę; mur dla nikogo niestraszny i tylko słabi go się trzymają.\n",
      "========\n",
      "< 73 Mniejsza mi o to, będę nieubłagany. ludzi, wywrę wściekłość na kobietach: rzeź między nimi sprawię.\n",
      "> 73 Mniejsza mi o to, nieubłagany. Pobiwszy ludzi, wywrę wściekłość na kobietach: rzeź między nimi sprawię.\n",
      "========\n",
      "< 77 Nie inaczej: wtłoczę miecz w każdą po kolei. Wiadomo, do lwów liczę.\n",
      "> 77 Nie inaczej: wtłoczę miecz każdą po kolei. Wiadomo, że się do lwów liczę.\n",
      "========\n",
      "< 80 / Wchodzą Abraham i Baltazar. /\n",
      "> 80 / Wchodzą Abraham i /\n",
      "========\n",
      "< 89 \n",
      "> 89 SAMSON\n",
      "========\n",
      "< 94 Nie jak chcą, ale jak śmią. Ja im gębę wykrzywię; hańba im, jeśli to ścierpią.\n",
      "> 94 Nie jak ale jak śmią. Ja im wykrzywię; hańba im, jeśli to ścierpią.\n",
      "========\n",
      "< 96 Skrzywiłeś się na nas, mości panie?\n",
      "> 96 się na nas, mości panie?\n",
      "========\n",
      "< 100 Czy na się skrzywiłeś, mości panie?\n",
      "< 101 \n",
      "> 100 Czy na nas się skrzywiłeś, mości panie?\n",
      "> 101 SAMSON\n",
      "========\n",
      "< 114 Jeżeli jej szukasz, to jestem na waścine usługi. Mój pan tak dobry jak i wasz.\n",
      "> 114 Jeżeli jej szukasz, to na waścine usługi. Mój pan tak dobry jak i wasz.\n",
      "========\n",
      "< 128 Dobądźcie mieczów, jeśli macie serca. Grzegorzu, pamiętaj o pchnięciu.\n",
      "> 128 Dobądźcie mieczów, jeśli macie serca. Grzegorzu, pamiętaj o swoim pchnięciu.\n",
      "========\n",
      "< 130 Odstąpcie, głupcy; miecze do pochew. Sami nie wiecie, co robicie.\n",
      "< 131 / Rozdziela ich swoim mieczem. /\n",
      "> 130 Odstąpcie, głupcy; schowajcie miecze do pochew. Sami nie wiecie, co robicie.\n",
      "> 131 / ich swoim mieczem. /\n",
      "========\n",
      "< 135 Do mnie, Benwolio! pilnuj życia.\n",
      "> 135 Do mnie, Benwolio! pilnuj swego życia.\n",
      "========\n",
      "< 137 Przywracam tylko pokój. Włóż nazad\n",
      "> 137 Przywracam tylko pokój. Włóż miecz nazad\n",
      "========\n",
      "< 139 TYBALT\n",
      "< 140 Z orężem pokój? Nienawidzę\n",
      "> 139 \n",
      "> 140 Z gołym orężem pokój? Nienawidzę\n",
      "========\n",
      "< 142 Szatana, Montekich i ciebie.\n",
      "> 142 Szatana, wszystkich Montekich i ciebie.\n",
      "========\n",
      "< 144 / Walczą. Nadchodzi kilku przyjaciół obu partii i mieszają się zwady; wkrótce potem wchodzą mieszczanie z pałkami. /\n",
      "> 144 / Walczą. Nadchodzi kilku przyjaciół obu partii i mieszają się do zwady; wkrótce potem wchodzą mieszczanie z pałkami. /\n",
      "========\n",
      "< 146 Hola! berdyszów! pałek! po nich!\n",
      "> 146 Hola! berdyszów! pałek! Dalej po nich!\n",
      "========\n",
      "< 148 / Wchodzą Kapulet i Pani Kapulet /\n",
      "> 148 / Wchodzą Kapulet i Pani Kapulet \n",
      "========\n",
      "< 150 Co za hałas? Podajcie \n",
      "> 150 Co za hałas? Podajcie mi długi\n",
      "========\n",
      "< 163 Nie puszczę cię na krok, gdy wróg przed tobą.\n",
      "< 164 / Wchodzi Książę z /\n",
      "> 163 Nie puszczę na krok, gdy wróg przed tobą.\n",
      "> 164 / Wchodzi Książę z orszakiem. /\n",
      "========\n",
      "< 168 Czy nie słyszycie? Ludzie czy zwierzęta,\n",
      "< 169 Co wściekłych swoich żar gasicie\n",
      "> 168 Czy nie Ludzie czy zwierzęta,\n",
      "> 169 Co wściekłych swoich gniewów żar gasicie\n",
      "========\n",
      "< 174 Wasz rozjątrzony postanawia.\n",
      "> 174 Wasz rozjątrzony książę postanawia.\n",
      "========\n",
      "< 176 Przez was, Monteki oraz Kapulecie,\n",
      "< 177 Trzykroć już miasta zakłóciły,\n",
      "> 176 was, Monteki oraz Kapulecie,\n",
      "> 177 Trzykroć już spokój miasta zakłóciły,\n",
      "========\n",
      "< 181 I w stare dłonie stare ująć miecze,\n",
      "> 181 I w stare dłonie stare miecze,\n",
      "========\n",
      "< 184 Wzniecicie waśń podobną,\n",
      "> 184 Wzniecicie kiedyś waśń podobną,\n",
      "========\n",
      "< 187 Kapulecie, pójdziesz ze mną razem;\n",
      "> 187 Ty, Kapulecie, pójdziesz ze mną razem;\n",
      "========\n",
      "< 195 Kto wszczął nową zwadę? Mów, synowcze,\n",
      "< 196 żeś tu wtedy, gdy to zaczęło?\n",
      "> 195 Kto wszczął tę nową zwadę? Mów, synowcze,\n",
      "> 196 Był żeś tu wtedy, gdy się to zaczęło?\n",
      "========\n",
      "< 201 Wtem wpadł szalony Tybalt gołym mieczem,\n",
      "> 201 Wtem wpadł szalony Tybalt z gołym mieczem,\n",
      "========\n",
      "< 205 Jego Gdyśmy tak ze sobą\n",
      "< 206 Cięcia i pchnięcia zamieniali, zbiegł się\n",
      "< 207 Większy tłum ludzi; z obu stron walczono,\n",
      "> 205 Jego zamachów. Gdyśmy tak ze sobą\n",
      "> 206 Cięcia i pchnięcia zbiegł się\n",
      "> 207 Większy tłum z obu stron walczono,\n",
      "========\n",
      "< 211 Jakże się cieszę, że nie był w tym starciu.\n",
      "> 211 Jakże cieszę, że nie był w tym starciu.\n",
      "========\n",
      "< 213 Godziną pierwej, nim wspaniałe słońce\n",
      "< 214 W złotych się oknach wschodu ukazało,\n",
      "< 215 Troski wygnały mię z dala od domu\n",
      "> 213 Godziną pierwej, nim wspaniałe \n",
      "> 214 złotych się oknach wschodu ukazało,\n",
      "> 215 Troski mię z dala od domu\n",
      "========\n",
      "< 230 Łzami poranną mnożącego rosę,\n",
      "> 230 Łzami mnożącego rosę,\n",
      "========\n",
      "< 232 Aliści ledwo na najdalszym \n",
      "< 233 Wesołe słońce sprzed łoża \n",
      "> 232 Aliści ledwo na najdalszym wschodzie\n",
      "> 233 Wesołe słońce sprzed łoża Aurory\n",
      "========\n",
      "< 238 I sztuczną sobie ciemnicę utwarzał.\n",
      "> 238 sztuczną ciemnicę utwarzał.\n",
      "========\n",
      "< 246 Wybadywał żeś go jakim sposobem?\n",
      "< 247 MONTEKI\n",
      "> 246 żeś go jakim sposobem?\n",
      "> 247 \n",
      "========\n",
      "< 250 Tak im jest wierny, tak zamknięty w sobie,\n",
      "> 250 Tak jest wierny, tak zamknięty w sobie,\n",
      "========\n",
      "< 252 Jak pączek kwiatu, co go robak gryzie,\n",
      "> 252 Jak pączek kwiatu, co robak gryzie,\n",
      "========\n",
      "< 254 I pełność swoją rozwinął przed słońcem.\n",
      "> 254 I pełność rozwinął przed słońcem.\n",
      "========\n",
      "< 257 / Romeo ukazuje się w głębi. /\n",
      "> 257 / Romeo się w głębi. /\n",
      "========\n",
      "< 280 Miłość więc?\n",
      "> 280 więc?\n",
      "========\n",
      "< 288 Niestety! Czemuż, zdając się niebianką,\n",
      "< 289 Miłość jest w gruncie tak srogą tyranką?\n",
      "> 288 Niestety! Czemuż, zdając niebianką,\n",
      "> 289 Miłość w gruncie tak srogą tyranką?\n",
      "========\n",
      "< 292 Miłość na zawsze cel swój goni!\n",
      "> 292 Miłość na oślep zawsze cel swój goni!\n",
      "========\n",
      "< 295 W grze tu nienawiść lecz i miłość.\n",
      "> 295 W grze tu nienawiść wielka, lecz i miłość.\n",
      "========\n",
      "< 298 narodzone z niczego! Pieszczoto\n",
      "> 298 Coś narodzone z niczego! Pieszczoto\n",
      "========\n",
      "< 301 Jasna mgło! Zimny żarze! Martwy \n",
      "< 302 Śnie bez snu! Taką to w sobie zawiłość,\n",
      "> 301 Jasna mgło! Zimny żarze! Martwy ruchu!\n",
      "> 302 Śnie bez snu! Taką to sobie zawiłość,\n",
      "========\n",
      "< 307 \n",
      "< 308 Nad czym, poczciwa duszo?\n",
      "> 307 ROMEO\n",
      "> 308 Nad poczciwa duszo?\n",
      "========\n",
      "< 313 więc strzała\n",
      "> 313 A więc strzała\n",
      "========\n",
      "< 315 Dość już ciężył mój smutek, ty jego\n",
      "< 316 Brzemię powiększasz przewyżką \n",
      "> 315 Dość mi już ciężył mój smutek, ty jego\n",
      "> 316 Brzemię powiększasz przewyżką twojego;\n",
      "========\n",
      "< 318 Nie ulgą, ale nowym jest kamieniem\n",
      "> 318 Nie ulgą, ale nowym jest \n",
      "========\n",
      "< 320 To dym, co z parą westchnień się unosi;\n",
      "> 320 To dym, co z parą się unosi;\n",
      "========\n",
      "< 337 Mam–że wraz jęczyć i mówić?\n",
      "> 337 Mam–że wraz i mówić?\n",
      "========\n",
      "< 341 Kogóż to kochasz? Powiedz.\n",
      "> 341 Kogóż to Powiedz.\n",
      "========\n",
      "< 345 Dobre dla tego, kto jest w tak złym stanie?\n",
      "< 346 A więc, kobietę kocham.\n",
      "> 345 tego, kto jest w tak złym stanie?\n",
      "> 346 A więc, kobietę \n",
      "========\n",
      "< 351 Biegle celujesz. I ta, którą kocham,\n",
      "> 351 Biegle celujesz. I którą kocham,\n",
      "========\n",
      "< 359 Grotów miłości wcale się nie boi;\n",
      "< 360 z nawału zaklęć oblężniczych;\n",
      "> 359 miłości wcale się nie boi;\n",
      "> 360 Szydzi z nawału zaklęć oblężniczych;\n",
      "========\n",
      "< 370 Bo piękność, którą własna srogość strawia,\n",
      "> 370 Bo piękność, którą własna strawia,\n",
      "========\n",
      "< 373 mądrze piękna: stąd istnym jest głazem.\n",
      "> 373 Zbyt mądrze piękna: stąd istnym jest głazem.\n",
      "========\n",
      "< 378 \n",
      "> 378 ROMEO\n",
      "========\n"
     ]
    }
   ],
   "source": [
    "diff(text1b_resotred ,text2b_resotred)"
   ]
  }
 ],
 "metadata": {
  "kernelspec": {
   "display_name": "Python 3",
   "language": "python",
   "name": "python3"
  },
  "language_info": {
   "codemirror_mode": {
    "name": "ipython",
    "version": 3
   },
   "file_extension": ".py",
   "mimetype": "text/x-python",
   "name": "python",
   "nbconvert_exporter": "python",
   "pygments_lexer": "ipython3",
   "version": "3.8.3"
  }
 },
 "nbformat": 4,
 "nbformat_minor": 4
}
