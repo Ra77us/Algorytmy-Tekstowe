{
 "cells": [
  {
   "cell_type": "markdown",
   "metadata": {},
   "source": [
    "# Michał Szczurek - lab 1. #"
   ]
  },
  {
   "cell_type": "markdown",
   "metadata": {},
   "source": [
    "### Zadanie 0. - Implementacja Algorytmów ###"
   ]
  },
  {
   "cell_type": "markdown",
   "metadata": {},
   "source": [
    "### 0.1. Algorytm nawiwny ###"
   ]
  },
  {
   "cell_type": "code",
   "execution_count": 1,
   "metadata": {},
   "outputs": [],
   "source": [
    "def naive(text, pattern, printing=True):\n",
    "    count = 0\n",
    "    for s in range(len(text)-len(pattern)+1):\n",
    "        if (pattern == text[s : s + len(pattern)]):\n",
    "            count += 1\n",
    "            if printing:\n",
    "                print(f\"Przesunięcie {s} jest poprawne\")\n",
    "    return count"
   ]
  },
  {
   "cell_type": "code",
   "execution_count": 2,
   "metadata": {},
   "outputs": [
    {
     "name": "stdout",
     "output_type": "stream",
     "text": [
      "Przesunięcie 0 jest poprawne\n",
      "Przesunięcie 6 jest poprawne\n"
     ]
    },
    {
     "data": {
      "text/plain": [
       "2"
      ]
     },
     "execution_count": 2,
     "metadata": {},
     "output_type": "execute_result"
    }
   ],
   "source": [
    "naive(\"alazzzala\",\"ala\")"
   ]
  },
  {
   "cell_type": "markdown",
   "metadata": {},
   "source": [
    "### 0.2 Autmoat skończony ###"
   ]
  },
  {
   "cell_type": "code",
   "execution_count": 3,
   "metadata": {},
   "outputs": [],
   "source": [
    "def fa_string_matching(text, delta, printing=True):\n",
    "    q = 0\n",
    "    count = 0\n",
    "    for s in range(0, len(text)):\n",
    "        if text[s] not in delta[0]:\n",
    "            q = 0\n",
    "            continue\n",
    "        q = delta[q][text[s]]\n",
    "        if(q == len(delta) - 1):\n",
    "            if printing:\n",
    "                print(f\"Przesunięcie {s+1-q} jest poprawne\")\n",
    "            count += 1\n",
    "    return count"
   ]
  },
  {
   "cell_type": "code",
   "execution_count": 4,
   "metadata": {},
   "outputs": [],
   "source": [
    "def transition_table(pattern):\n",
    "    characters = set()\n",
    "    for letter in pattern:\n",
    "        characters.add(letter)\n",
    "        \n",
    "    result = []\n",
    "    for q in range(0, len(pattern) + 1):\n",
    "        result.append({})\n",
    "        for a in characters:\n",
    "            # nie można przejść więcej niż 1 stan na raz, a ostatni to już akceptujący\n",
    "            k = min(len(pattern), q + 1)  \n",
    "            while True:\n",
    "                # tmp to pierwsze q-1 znaków pattern (bo jetseśmy w stanie q, więc musieliśmy przejść przez q-1 zaków)\n",
    "                # i badany znak.\n",
    "                # Trzeba znaleźć znajdłuższy sufix tmp, taki, żeby był prefixem pattern\n",
    "                tmp = pattern[:q] + a\n",
    "                if k== 0 or (tmp[-k:] == pattern[:k]):\n",
    "                    break\n",
    "                k = k - 1\n",
    "            result[q][a] = k    \n",
    "    return result"
   ]
  },
  {
   "cell_type": "code",
   "execution_count": 5,
   "metadata": {},
   "outputs": [
    {
     "name": "stdout",
     "output_type": "stream",
     "text": [
      "Przesunięcie 0 jest poprawne\n",
      "Przesunięcie 6 jest poprawne\n"
     ]
    },
    {
     "data": {
      "text/plain": [
       "2"
      ]
     },
     "execution_count": 5,
     "metadata": {},
     "output_type": "execute_result"
    }
   ],
   "source": [
    "fa_string_matching(\"alazzzala\",transition_table(\"ala\"))"
   ]
  },
  {
   "cell_type": "markdown",
   "metadata": {},
   "source": [
    "### 0.3 Algorytm KMP ### "
   ]
  },
  {
   "cell_type": "code",
   "execution_count": 6,
   "metadata": {},
   "outputs": [],
   "source": [
    "def kmp_string_matching(text, pattern, pi, printing=True):\n",
    "    # pi jest parametrem, by łatwiej oddzielić czas preprocessingu od czasu algorytmu\n",
    "    q = 0\n",
    "    count = 0\n",
    "    for i in range(0, len(text)):\n",
    "        while(q > 0 and pattern[q] != text[i]):\n",
    "            q = pi[q-1]\n",
    "        if(pattern[q] == text[i]):\n",
    "            q = q + 1\n",
    "        if(q == len(pattern)): \n",
    "            count += 1\n",
    "            if printing:\n",
    "                print(f\"Przesunięcie {i + 1 - q} jest poprawne\")\n",
    "            q = pi[q-1]\n",
    "    return count"
   ]
  },
  {
   "cell_type": "code",
   "execution_count": 7,
   "metadata": {},
   "outputs": [],
   "source": [
    "def prefix_function(pattern):\n",
    "    pi = [0]\n",
    "    k = 0\n",
    "    # pi[i] - długość najdłuższego poprawnego prefixu pattern[0..i], który jednocześnie jest sufixem pattern[0..i]\n",
    "    for q in range(1, len(pattern)):\n",
    "        while(k > 0 and pattern[k] != pattern[q]):\n",
    "            k = pi[k-1]\n",
    "        if(pattern[k] == pattern[q]):\n",
    "            k = k + 1\n",
    "        pi.append(k)\n",
    "    return pi"
   ]
  },
  {
   "cell_type": "code",
   "execution_count": 8,
   "metadata": {},
   "outputs": [
    {
     "name": "stdout",
     "output_type": "stream",
     "text": [
      "Przesunięcie 0 jest poprawne\n",
      "Przesunięcie 6 jest poprawne\n"
     ]
    },
    {
     "data": {
      "text/plain": [
       "2"
      ]
     },
     "execution_count": 8,
     "metadata": {},
     "output_type": "execute_result"
    }
   ],
   "source": [
    "kmp_string_matching(\"alazzzala\",\"ala\", prefix_function(\"ala\"))"
   ]
  },
  {
   "cell_type": "markdown",
   "metadata": {},
   "source": [
    "### Zadanie 1. Funkcje mierzące czas ### "
   ]
  },
  {
   "cell_type": "code",
   "execution_count": 10,
   "metadata": {},
   "outputs": [],
   "source": [
    "from timeit import default_timer as timer"
   ]
  },
  {
   "cell_type": "markdown",
   "metadata": {},
   "source": [
    "Ze względu na konieczność rozdzielenia czasów preprocessingu i właściwych algorytmów, algorytmy miały różną liczbę parametrów co znacząco utrudniłoby wykonanie uniwersalnej funkcji, bez modyfikowania algorytmów (np dodając zbędne parametry).\n",
    "Wobec tego dla każdego algorytmu napisana została osobna funkcja."
   ]
  },
  {
   "cell_type": "code",
   "execution_count": 11,
   "metadata": {},
   "outputs": [],
   "source": [
    "def get_time_naive(text, pattern):\n",
    "    start = timer()\n",
    "    naive(text, pattern, False)\n",
    "    end = timer()\n",
    "    print(f\"Czas działania algorytmu: {end - start}\")"
   ]
  },
  {
   "cell_type": "code",
   "execution_count": 12,
   "metadata": {},
   "outputs": [],
   "source": [
    "def get_time_fa(text, pattern):\n",
    "    start = timer()\n",
    "    delta = transition_table(pattern)\n",
    "    processed = timer()\n",
    "    fa_string_matching(text, delta, False)\n",
    "    end = timer()\n",
    "    print(f\"Czas preprocessingu: {processed - start}\")\n",
    "    print(f\"Czas dopasowania: {end - processed}\")\n",
    "    print(f\"Sumaryczny czas działania: {end - start}\")"
   ]
  },
  {
   "cell_type": "code",
   "execution_count": 13,
   "metadata": {},
   "outputs": [],
   "source": [
    "def get_time_kmp(text, pattern):\n",
    "    start = timer()\n",
    "    pi = prefix_function(pattern)\n",
    "    processed = timer()\n",
    "    kmp_string_matching(text, pattern, pi, False)\n",
    "    end = timer()\n",
    "    print(f\"Czas preprocessingu: {processed - start}\")\n",
    "    print(f\"Czas dopasowania: {end - processed}\")\n",
    "    print(f\"Sumaryczny czas działania: {end - start}\")"
   ]
  },
  {
   "cell_type": "markdown",
   "metadata": {},
   "source": [
    "Poniżej znajduje się kod funkcji ogólnej prównującej czasy wszystkich algorytmów."
   ]
  },
  {
   "cell_type": "code",
   "execution_count": 14,
   "metadata": {},
   "outputs": [],
   "source": [
    "def compare_times(text, pattern):\n",
    "    print(\"==== ALGORYTM NAIWNY ====\")\n",
    "    get_time_naive(text, pattern)\n",
    "\n",
    "    print(\"\\n==== AUTOMAT SKOŃCZONY ====\")\n",
    "    get_time_fa(text, pattern)\n",
    "\n",
    "    print(\"\\n==== ALGORYTM KMP ====\")\n",
    "    get_time_kmp(text, pattern)"
   ]
  },
  {
   "cell_type": "markdown",
   "metadata": {},
   "source": [
    "### Zadanie 2. Wyszukanie wzorca \"art\" w ustawie ###"
   ]
  },
  {
   "cell_type": "markdown",
   "metadata": {},
   "source": [
    "W poniższym przykładzie ograniczyłem się do wypisania liczby wystąpień dla czytelności. Aby to zmienić należy zmienić argument False na True."
   ]
  },
  {
   "cell_type": "code",
   "execution_count": 9,
   "metadata": {},
   "outputs": [
    {
     "name": "stdout",
     "output_type": "stream",
     "text": [
      "273\n",
      "273\n",
      "273\n"
     ]
    }
   ],
   "source": [
    "file = open(\"1997_714.txt\",encoding=\"utf8\")\n",
    "text = file.read().replace(\"\\n\", \" \")\n",
    "pattern = \"art\"\n",
    "\n",
    "print(naive(text, pattern, False))\n",
    "print(fa_string_matching(text, transition_table(pattern), False))\n",
    "print(kmp_string_matching(text, pattern, prefix_function(pattern), False))"
   ]
  },
  {
   "cell_type": "markdown",
   "metadata": {},
   "source": [
    "### Zadanie 3 Porównanie czasów  ###"
   ]
  },
  {
   "cell_type": "code",
   "execution_count": 18,
   "metadata": {},
   "outputs": [
    {
     "name": "stdout",
     "output_type": "stream",
     "text": [
      "==== ALGORYTM NAIWNY ====\n",
      "Czas działania algorytmu: 0.06925649999993766\n",
      "\n",
      "==== AUTOMAT SKOŃCZONY ====\n",
      "Czas preprocessingu: 2.470000003995665e-05\n",
      "Czas dopasowania: 0.03436059999989993\n",
      "Sumaryczny czas działania: 0.03438529999993989\n",
      "\n",
      "==== ALGORYTM KMP ====\n",
      "Czas preprocessingu: 3.5000000480067683e-06\n",
      "Czas dopasowania: 0.043798500000093554\n",
      "Sumaryczny czas działania: 0.04380200000014156\n"
     ]
    }
   ],
   "source": [
    "file = open(\"1997_714.txt\",encoding=\"utf8\")\n",
    "text = file.read().replace(\"\\n\", \" \")\n",
    "pattern = \"art\"\n",
    "compare_times(text, pattern)"
   ]
  },
  {
   "cell_type": "markdown",
   "metadata": {},
   "source": [
    "Zgodnie z oczekiwaniami najgorzej wypadł algorytm naiwny. Czas preprocessingu automatu skończonego\n",
    "był, zgodnie z tym na co wskazuje włożoność, dłuższy od czasu preprocessingu dla KMP. Należy jednak zwrócić uwagę na fakt, że pomimo iż zarówno AS jak i KMP mają taką samą teoretyczną złożoność dopasowania, to KMP wypadł wyraźnie wolniej, co zaskutkowało najszybszym wykonaniem AS."
   ]
  },
  {
   "cell_type": "markdown",
   "metadata": {},
   "source": [
    "### Zadanie 4. ###"
   ]
  },
  {
   "cell_type": "code",
   "execution_count": 19,
   "metadata": {},
   "outputs": [
    {
     "name": "stdout",
     "output_type": "stream",
     "text": [
      "==== ALGORYTM NAIWNY ====\n",
      "Czas działania algorytmu: 0.7388263000000279\n",
      "\n",
      "==== AUTOMAT SKOŃCZONY ====\n",
      "Czas preprocessingu: 0.6291839999998956\n",
      "Czas dopasowania: 0.06827180000004773\n",
      "Sumaryczny czas działania: 0.6974557999999433\n",
      "\n",
      "==== ALGORYTM KMP ====\n",
      "Czas preprocessingu: 0.02485490000003665\n",
      "Czas dopasowania: 0.07111000000008971\n",
      "Sumaryczny czas działania: 0.09596490000012636\n"
     ]
    }
   ],
   "source": [
    "text = \"x\"*200000\n",
    "pattern = \"x\"*100000\n",
    "compare_times(text, pattern)"
   ]
  },
  {
   "cell_type": "markdown",
   "metadata": {},
   "source": [
    "Długość wzorca m została dobrana tak, by wartość (n-m)(m) była jak największa (pominięto 1 we wzorze na złożoność czasu dopasowania ze względu na wielokość n). Następnie zwiększono n, tak by różnica była zauważalna. Wzorzec i tekst składa się tylko, ze znaku \"x\", ponieważ jest to pesymistyczny przypadek dla algorytmu naiwnego i umożlwia efektywne wykorzystanie właściwości algorytmu KMP - wiele znaków można \"przeskoczyć\"."
   ]
  },
  {
   "cell_type": "markdown",
   "metadata": {},
   "source": [
    "### Zadanie 5. ###"
   ]
  },
  {
   "cell_type": "code",
   "execution_count": 27,
   "metadata": {},
   "outputs": [
    {
     "name": "stdout",
     "output_type": "stream",
     "text": [
      "==== ALGORYTM NAIWNY ====\n",
      "Czas działania algorytmu: 0.00018890000001192675\n",
      "\n",
      "==== AUTOMAT SKOŃCZONY ====\n",
      "Czas preprocessingu: 0.004005000000233849\n",
      "Czas dopasowania: 0.00022889999991093646\n",
      "Sumaryczny czas działania: 0.004233900000144786\n",
      "\n",
      "==== ALGORYTM KMP ====\n",
      "Czas preprocessingu: 6.600000233447645e-06\n",
      "Czas dopasowania: 0.0001816999997572566\n",
      "Sumaryczny czas działania: 0.00018829999999070424\n"
     ]
    }
   ],
   "source": [
    "text = \"x\"*1000\n",
    "pattern = \"qwertyuiopasdfghjklzxcvbnm\"\n",
    "compare_times(text, pattern)"
   ]
  },
  {
   "cell_type": "markdown",
   "metadata": {},
   "source": [
    "Aby zwiększyć czas utworzenia tablicy przejścia AS względem funkcji przejści KMP, należy odpowiednio zwiększyć liczbę symboli alfabetu. Należy zwrócić uwagę, że czas preprocessingu KMP zapisany jest w notacji wykładniczej."
   ]
  }
 ],
 "metadata": {
  "kernelspec": {
   "display_name": "Python 3",
   "language": "python",
   "name": "python3"
  },
  "language_info": {
   "codemirror_mode": {
    "name": "ipython",
    "version": 3
   },
   "file_extension": ".py",
   "mimetype": "text/x-python",
   "name": "python",
   "nbconvert_exporter": "python",
   "pygments_lexer": "ipython3",
   "version": "3.8.3"
  }
 },
 "nbformat": 4,
 "nbformat_minor": 4
}
